{
 "cells": [
  {
   "cell_type": "markdown",
   "id": "18cc14ab",
   "metadata": {
    "papermill": {
     "duration": 0.00394,
     "end_time": "2025-07-09T11:17:51.396872",
     "exception": false,
     "start_time": "2025-07-09T11:17:51.392932",
     "status": "completed"
    },
    "tags": []
   },
   "source": [
    "**This notebook is an exercise in the [Data Cleaning](https://www.kaggle.com/learn/data-cleaning) course.  You can reference the tutorial at [this link](https://www.kaggle.com/alexisbcook/character-encodings).**\n",
    "\n",
    "---\n"
   ]
  },
  {
   "cell_type": "markdown",
   "id": "c182082e",
   "metadata": {
    "papermill": {
     "duration": 0.002927,
     "end_time": "2025-07-09T11:17:51.403249",
     "exception": false,
     "start_time": "2025-07-09T11:17:51.400322",
     "status": "completed"
    },
    "tags": []
   },
   "source": [
    "In this exercise, you'll apply what you learned in the **Character encodings** tutorial.\n",
    "\n",
    "# Setup\n",
    "\n",
    "The questions below will give you feedback on your work. Run the following cell to set up the feedback system."
   ]
  },
  {
   "cell_type": "code",
   "execution_count": 1,
   "id": "73d4742c",
   "metadata": {
    "execution": {
     "iopub.execute_input": "2025-07-09T11:17:51.410719Z",
     "iopub.status.busy": "2025-07-09T11:17:51.410360Z",
     "iopub.status.idle": "2025-07-09T11:17:53.401619Z",
     "shell.execute_reply": "2025-07-09T11:17:53.400445Z"
    },
    "papermill": {
     "duration": 1.996656,
     "end_time": "2025-07-09T11:17:53.403039",
     "exception": false,
     "start_time": "2025-07-09T11:17:51.406383",
     "status": "completed"
    },
    "tags": []
   },
   "outputs": [
    {
     "name": "stdout",
     "output_type": "stream",
     "text": [
      "Setup Complete\n"
     ]
    }
   ],
   "source": [
    "from learntools.core import binder\n",
    "binder.bind(globals())\n",
    "from learntools.data_cleaning.ex4 import *\n",
    "print(\"Setup Complete\")"
   ]
  },
  {
   "cell_type": "markdown",
   "id": "60b9e97e",
   "metadata": {
    "papermill": {
     "duration": 0.003047,
     "end_time": "2025-07-09T11:17:53.409517",
     "exception": false,
     "start_time": "2025-07-09T11:17:53.406470",
     "status": "completed"
    },
    "tags": []
   },
   "source": [
    "# Get our environment set up\n",
    "\n",
    "The first thing we'll need to do is load in the libraries we'll be using."
   ]
  },
  {
   "cell_type": "code",
   "execution_count": 2,
   "id": "0d891ec2",
   "metadata": {
    "execution": {
     "iopub.execute_input": "2025-07-09T11:17:53.417345Z",
     "iopub.status.busy": "2025-07-09T11:17:53.416570Z",
     "iopub.status.idle": "2025-07-09T11:17:53.421060Z",
     "shell.execute_reply": "2025-07-09T11:17:53.420300Z"
    },
    "papermill": {
     "duration": 0.009697,
     "end_time": "2025-07-09T11:17:53.422342",
     "exception": false,
     "start_time": "2025-07-09T11:17:53.412645",
     "status": "completed"
    },
    "tags": []
   },
   "outputs": [],
   "source": [
    "# modules we'll use\n",
    "import pandas as pd\n",
    "import numpy as np\n",
    "\n",
    "# helpful character encoding module\n",
    "import charset_normalizer\n",
    "\n",
    "# set seed for reproducibility\n",
    "np.random.seed(0)"
   ]
  },
  {
   "cell_type": "markdown",
   "id": "b1e9c2a0",
   "metadata": {
    "papermill": {
     "duration": 0.002959,
     "end_time": "2025-07-09T11:17:53.428603",
     "exception": false,
     "start_time": "2025-07-09T11:17:53.425644",
     "status": "completed"
    },
    "tags": []
   },
   "source": [
    "# 1) What are encodings?\n",
    "\n",
    "You're working with a dataset composed of bytes.  Run the code cell below to print a sample entry."
   ]
  },
  {
   "cell_type": "code",
   "execution_count": 3,
   "id": "c1118744",
   "metadata": {
    "execution": {
     "iopub.execute_input": "2025-07-09T11:17:53.436365Z",
     "iopub.status.busy": "2025-07-09T11:17:53.435595Z",
     "iopub.status.idle": "2025-07-09T11:17:53.440603Z",
     "shell.execute_reply": "2025-07-09T11:17:53.439674Z"
    },
    "papermill": {
     "duration": 0.010104,
     "end_time": "2025-07-09T11:17:53.441827",
     "exception": false,
     "start_time": "2025-07-09T11:17:53.431723",
     "status": "completed"
    },
    "tags": []
   },
   "outputs": [
    {
     "name": "stdout",
     "output_type": "stream",
     "text": [
      "b'\\xa7A\\xa6n'\n",
      "data type: <class 'bytes'>\n"
     ]
    }
   ],
   "source": [
    "sample_entry = b'\\xa7A\\xa6n'\n",
    "print(sample_entry)\n",
    "print('data type:', type(sample_entry))"
   ]
  },
  {
   "cell_type": "markdown",
   "id": "76162073",
   "metadata": {
    "papermill": {
     "duration": 0.002953,
     "end_time": "2025-07-09T11:17:53.448085",
     "exception": false,
     "start_time": "2025-07-09T11:17:53.445132",
     "status": "completed"
    },
    "tags": []
   },
   "source": [
    "You notice that it doesn't use the standard UTF-8 encoding. \n",
    "\n",
    "Use the next code cell to create a variable `new_entry` that changes the encoding from `\"big5-tw\"` to `\"utf-8\"`.  `new_entry` should have the bytes datatype."
   ]
  },
  {
   "cell_type": "code",
   "execution_count": 4,
   "id": "67f6cedb",
   "metadata": {
    "execution": {
     "iopub.execute_input": "2025-07-09T11:17:53.455847Z",
     "iopub.status.busy": "2025-07-09T11:17:53.455216Z",
     "iopub.status.idle": "2025-07-09T11:17:53.462850Z",
     "shell.execute_reply": "2025-07-09T11:17:53.462073Z"
    },
    "papermill": {
     "duration": 0.013065,
     "end_time": "2025-07-09T11:17:53.464359",
     "exception": false,
     "start_time": "2025-07-09T11:17:53.451294",
     "status": "completed"
    },
    "tags": []
   },
   "outputs": [
    {
     "data": {
      "application/javascript": [
       "parent.postMessage({\"jupyterEvent\": \"custom.exercise_interaction\", \"data\": {\"outcomeType\": 1, \"valueTowardsCompletion\": 0.3333333333333333, \"interactionType\": 1, \"questionType\": 1, \"questionId\": \"1_EncodingsIntro\", \"learnToolsVersion\": \"0.3.5\", \"failureMessage\": \"\", \"exceptionClass\": \"\", \"trace\": \"\"}}, \"*\")"
      ],
      "text/plain": [
       "<IPython.core.display.Javascript object>"
      ]
     },
     "metadata": {},
     "output_type": "display_data"
    },
    {
     "data": {
      "text/markdown": [
       "<span style=\"color:#33cc33\">Correct</span>"
      ],
      "text/plain": [
       "Correct"
      ]
     },
     "metadata": {},
     "output_type": "display_data"
    }
   ],
   "source": [
    "before = sample_entry.decode(\"big5-tw\")\n",
    "new_entry = before.encode()\n",
    "\n",
    "# Check your answer\n",
    "q1.check()"
   ]
  },
  {
   "cell_type": "code",
   "execution_count": 5,
   "id": "6e64fef0",
   "metadata": {
    "execution": {
     "iopub.execute_input": "2025-07-09T11:17:53.475501Z",
     "iopub.status.busy": "2025-07-09T11:17:53.474866Z",
     "iopub.status.idle": "2025-07-09T11:17:53.478531Z",
     "shell.execute_reply": "2025-07-09T11:17:53.477702Z"
    },
    "papermill": {
     "duration": 0.009428,
     "end_time": "2025-07-09T11:17:53.479843",
     "exception": false,
     "start_time": "2025-07-09T11:17:53.470415",
     "status": "completed"
    },
    "tags": []
   },
   "outputs": [],
   "source": [
    "# Lines below will give you a hint or solution code\n",
    "#q1.hint()\n",
    "#q1.solution()"
   ]
  },
  {
   "cell_type": "markdown",
   "id": "5064074c",
   "metadata": {
    "papermill": {
     "duration": 0.003128,
     "end_time": "2025-07-09T11:17:53.487356",
     "exception": false,
     "start_time": "2025-07-09T11:17:53.484228",
     "status": "completed"
    },
    "tags": []
   },
   "source": [
    "# 2) Reading in files with encoding problems\n",
    "\n",
    "Use the code cell below to read in this file at path `\"../input/fatal-police-shootings-in-the-us/PoliceKillingsUS.csv\"`.  \n",
    "\n",
    "Figure out what the correct encoding should be and read in the file to a DataFrame `police_killings`."
   ]
  },
  {
   "cell_type": "code",
   "execution_count": 6,
   "id": "35236db8",
   "metadata": {
    "execution": {
     "iopub.execute_input": "2025-07-09T11:17:53.495549Z",
     "iopub.status.busy": "2025-07-09T11:17:53.494736Z",
     "iopub.status.idle": "2025-07-09T11:17:53.515409Z",
     "shell.execute_reply": "2025-07-09T11:17:53.514539Z"
    },
    "papermill": {
     "duration": 0.026164,
     "end_time": "2025-07-09T11:17:53.516788",
     "exception": false,
     "start_time": "2025-07-09T11:17:53.490624",
     "status": "completed"
    },
    "tags": []
   },
   "outputs": [
    {
     "data": {
      "application/javascript": [
       "parent.postMessage({\"jupyterEvent\": \"custom.exercise_interaction\", \"data\": {\"outcomeType\": 1, \"valueTowardsCompletion\": 0.3333333333333333, \"interactionType\": 1, \"questionType\": 1, \"questionId\": \"2_ReadIn\", \"learnToolsVersion\": \"0.3.5\", \"failureMessage\": \"\", \"exceptionClass\": \"\", \"trace\": \"\"}}, \"*\")"
      ],
      "text/plain": [
       "<IPython.core.display.Javascript object>"
      ]
     },
     "metadata": {},
     "output_type": "display_data"
    },
    {
     "data": {
      "text/markdown": [
       "<span style=\"color:#33cc33\">Correct</span>"
      ],
      "text/plain": [
       "Correct"
      ]
     },
     "metadata": {},
     "output_type": "display_data"
    }
   ],
   "source": [
    "police_killings = pd.read_csv(\"../input/fatal-police-shootings-in-the-us/PoliceKillingsUS.csv\", encoding=\"Windows-1252\")\n",
    "\n",
    "# Check your answer\n",
    "q2.check()"
   ]
  },
  {
   "cell_type": "markdown",
   "id": "6b16f199",
   "metadata": {
    "papermill": {
     "duration": 0.003354,
     "end_time": "2025-07-09T11:17:53.523879",
     "exception": false,
     "start_time": "2025-07-09T11:17:53.520525",
     "status": "completed"
    },
    "tags": []
   },
   "source": [
    "Feel free to use any additional code cells for supplemental work.  To get credit for finishing this question, you'll need to run `q2.check()` and get a result of **Correct**."
   ]
  },
  {
   "cell_type": "code",
   "execution_count": 7,
   "id": "350e9f3e",
   "metadata": {
    "execution": {
     "iopub.execute_input": "2025-07-09T11:17:53.531945Z",
     "iopub.status.busy": "2025-07-09T11:17:53.531600Z",
     "iopub.status.idle": "2025-07-09T11:17:53.543377Z",
     "shell.execute_reply": "2025-07-09T11:17:53.542424Z"
    },
    "papermill": {
     "duration": 0.017579,
     "end_time": "2025-07-09T11:17:53.544849",
     "exception": false,
     "start_time": "2025-07-09T11:17:53.527270",
     "status": "completed"
    },
    "tags": []
   },
   "outputs": [
    {
     "name": "stdout",
     "output_type": "stream",
     "text": [
      "{'encoding': 'ascii', 'language': 'English', 'confidence': 1.0}\n"
     ]
    }
   ],
   "source": [
    "# (Optional) Use this code cell for any additional work.\n",
    "with open(\"../input/fatal-police-shootings-in-the-us/PoliceKillingsUS.csv\", 'rb') as rawdata:\n",
    "    result = charset_normalizer.detect(rawdata.read(10000))\n",
    "\n",
    "print(result)"
   ]
  },
  {
   "cell_type": "code",
   "execution_count": 8,
   "id": "0c8c3b57",
   "metadata": {
    "execution": {
     "iopub.execute_input": "2025-07-09T11:17:53.554363Z",
     "iopub.status.busy": "2025-07-09T11:17:53.554055Z",
     "iopub.status.idle": "2025-07-09T11:17:53.557760Z",
     "shell.execute_reply": "2025-07-09T11:17:53.556994Z"
    },
    "papermill": {
     "duration": 0.00935,
     "end_time": "2025-07-09T11:17:53.559008",
     "exception": false,
     "start_time": "2025-07-09T11:17:53.549658",
     "status": "completed"
    },
    "tags": []
   },
   "outputs": [],
   "source": [
    "# Lines below will give you a hint or solution code\n",
    "#q2.hint()\n",
    "#q2.solution()"
   ]
  },
  {
   "cell_type": "markdown",
   "id": "3609581a",
   "metadata": {
    "papermill": {
     "duration": 0.003376,
     "end_time": "2025-07-09T11:17:53.566239",
     "exception": false,
     "start_time": "2025-07-09T11:17:53.562863",
     "status": "completed"
    },
    "tags": []
   },
   "source": [
    "# 3) Saving your files with UTF-8 encoding\n",
    "\n",
    "Save a version of the police killings dataset to CSV with UTF-8 encoding.  Your answer will be marked correct after saving this file.  \n",
    "\n",
    "Note: When using the `to_csv()` method, supply only the name of the file (e.g., `\"my_file.csv\"`).  This saves the file at the filepath `\"/kaggle/working/my_file.csv\"`."
   ]
  },
  {
   "cell_type": "code",
   "execution_count": 9,
   "id": "c0bec85f",
   "metadata": {
    "execution": {
     "iopub.execute_input": "2025-07-09T11:17:53.574502Z",
     "iopub.status.busy": "2025-07-09T11:17:53.574183Z",
     "iopub.status.idle": "2025-07-09T11:17:53.612607Z",
     "shell.execute_reply": "2025-07-09T11:17:53.611656Z"
    },
    "papermill": {
     "duration": 0.04415,
     "end_time": "2025-07-09T11:17:53.614003",
     "exception": false,
     "start_time": "2025-07-09T11:17:53.569853",
     "status": "completed"
    },
    "tags": []
   },
   "outputs": [
    {
     "data": {
      "application/javascript": [
       "parent.postMessage({\"jupyterEvent\": \"custom.exercise_interaction\", \"data\": {\"outcomeType\": 1, \"valueTowardsCompletion\": 0.3333333333333333, \"interactionType\": 1, \"questionType\": 2, \"questionId\": \"3_SaveCSV\", \"learnToolsVersion\": \"0.3.5\", \"failureMessage\": \"\", \"exceptionClass\": \"\", \"trace\": \"\"}}, \"*\")"
      ],
      "text/plain": [
       "<IPython.core.display.Javascript object>"
      ]
     },
     "metadata": {},
     "output_type": "display_data"
    },
    {
     "data": {
      "text/markdown": [
       "<span style=\"color:#33cc33\">Correct</span>"
      ],
      "text/plain": [
       "Correct"
      ]
     },
     "metadata": {},
     "output_type": "display_data"
    }
   ],
   "source": [
    "# TODO: Save the police killings dataset to CSV\n",
    "police_killings.to_csv(\"police_killing.csv\")\n",
    "\n",
    "# Check your answer\n",
    "q3.check()"
   ]
  },
  {
   "cell_type": "code",
   "execution_count": 10,
   "id": "e22600c2",
   "metadata": {
    "execution": {
     "iopub.execute_input": "2025-07-09T11:17:53.623757Z",
     "iopub.status.busy": "2025-07-09T11:17:53.623197Z",
     "iopub.status.idle": "2025-07-09T11:17:53.626979Z",
     "shell.execute_reply": "2025-07-09T11:17:53.626154Z"
    },
    "papermill": {
     "duration": 0.010204,
     "end_time": "2025-07-09T11:17:53.628284",
     "exception": false,
     "start_time": "2025-07-09T11:17:53.618080",
     "status": "completed"
    },
    "tags": []
   },
   "outputs": [],
   "source": [
    "# Lines below will give you a hint or solution code\n",
    "#q3.hint()\n",
    "#q3.solution()"
   ]
  },
  {
   "cell_type": "markdown",
   "id": "f47a608d",
   "metadata": {
    "papermill": {
     "duration": 0.003663,
     "end_time": "2025-07-09T11:17:53.635940",
     "exception": false,
     "start_time": "2025-07-09T11:17:53.632277",
     "status": "completed"
    },
    "tags": []
   },
   "source": [
    "# (Optional) More practice\n",
    "\n",
    "Check out [this dataset of files in different character encodings](https://www.kaggle.com/rtatman/character-encoding-examples). Can you read in all the files with their original encodings and them save them out as UTF-8 files?\n",
    "\n",
    "If you have a file that's in UTF-8 but has just a couple of weird-looking characters in it, you can try out the [ftfy module](https://ftfy.readthedocs.io/en/latest/#) and see if it helps. \n",
    "\n",
    "# Keep going\n",
    "\n",
    "In the final lesson, learn how to [**clean up inconsistent text entries**](https://www.kaggle.com/alexisbcook/inconsistent-data-entry) in your dataset."
   ]
  },
  {
   "cell_type": "markdown",
   "id": "62da83d5",
   "metadata": {
    "papermill": {
     "duration": 0.003662,
     "end_time": "2025-07-09T11:17:53.644724",
     "exception": false,
     "start_time": "2025-07-09T11:17:53.641062",
     "status": "completed"
    },
    "tags": []
   },
   "source": [
    "---\n",
    "\n",
    "\n",
    "\n",
    "\n",
    "*Have questions or comments? Visit the [course discussion forum](https://www.kaggle.com/learn/data-cleaning/discussion) to chat with other learners.*"
   ]
  }
 ],
 "metadata": {
  "kaggle": {
   "accelerator": "none",
   "dataSources": [
    {
     "datasetId": 2647,
     "sourceId": 4395,
     "sourceType": "datasetVersion"
    }
   ],
   "isGpuEnabled": false,
   "isInternetEnabled": false,
   "language": "python",
   "sourceType": "notebook"
  },
  "kernelspec": {
   "display_name": "Python 3",
   "language": "python",
   "name": "python3"
  },
  "language_info": {
   "codemirror_mode": {
    "name": "ipython",
    "version": 3
   },
   "file_extension": ".py",
   "mimetype": "text/x-python",
   "name": "python",
   "nbconvert_exporter": "python",
   "pygments_lexer": "ipython3",
   "version": "3.11.13"
  },
  "papermill": {
   "default_parameters": {},
   "duration": 7.376804,
   "end_time": "2025-07-09T11:17:54.166648",
   "environment_variables": {},
   "exception": null,
   "input_path": "__notebook__.ipynb",
   "output_path": "__notebook__.ipynb",
   "parameters": {},
   "start_time": "2025-07-09T11:17:46.789844",
   "version": "2.6.0"
  }
 },
 "nbformat": 4,
 "nbformat_minor": 5
}
