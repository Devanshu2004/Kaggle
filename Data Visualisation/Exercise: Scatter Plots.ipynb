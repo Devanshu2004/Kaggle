{
 "cells": [
  {
   "cell_type": "markdown",
   "id": "c7454175",
   "metadata": {
    "papermill": {
     "duration": 0.008411,
     "end_time": "2024-07-10T19:30:39.832842",
     "exception": false,
     "start_time": "2024-07-10T19:30:39.824431",
     "status": "completed"
    },
    "tags": []
   },
   "source": [
    "**This notebook is an exercise in the [Data Visualization](https://www.kaggle.com/learn/data-visualization) course.  You can reference the tutorial at [this link](https://www.kaggle.com/alexisbcook/scatter-plots).**\n",
    "\n",
    "---\n"
   ]
  },
  {
   "cell_type": "markdown",
   "id": "684c90d7",
   "metadata": {
    "papermill": {
     "duration": 0.007751,
     "end_time": "2024-07-10T19:30:39.848774",
     "exception": false,
     "start_time": "2024-07-10T19:30:39.841023",
     "status": "completed"
    },
    "tags": []
   },
   "source": [
    "In this exercise, you will use your new knowledge to propose a solution to a real-world scenario.  To succeed, you will need to import data into Python, answer questions using the data, and generate **scatter plots** to understand patterns in the data.\n",
    "\n",
    "## Scenario\n",
    "\n",
    "You work for a major candy producer, and your goal is to write a report that your company can use to guide the design of its next product.  Soon after starting your research, you stumble across this [very interesting dataset](https://fivethirtyeight.com/features/the-ultimate-halloween-candy-power-ranking/) containing results from a fun survey to crowdsource favorite candies.\n",
    "\n",
    "## Setup\n",
    "\n",
    "Run the next cell to import and configure the Python libraries that you need to complete the exercise."
   ]
  },
  {
   "cell_type": "code",
   "execution_count": 1,
   "id": "2821065c",
   "metadata": {
    "execution": {
     "iopub.execute_input": "2024-07-10T19:30:39.867099Z",
     "iopub.status.busy": "2024-07-10T19:30:39.866132Z",
     "iopub.status.idle": "2024-07-10T19:30:42.173397Z",
     "shell.execute_reply": "2024-07-10T19:30:42.171839Z"
    },
    "papermill": {
     "duration": 2.319155,
     "end_time": "2024-07-10T19:30:42.176053",
     "exception": false,
     "start_time": "2024-07-10T19:30:39.856898",
     "status": "completed"
    },
    "tags": []
   },
   "outputs": [
    {
     "name": "stdout",
     "output_type": "stream",
     "text": [
      "Setup Complete\n"
     ]
    }
   ],
   "source": [
    "import pandas as pd\n",
    "pd.plotting.register_matplotlib_converters()\n",
    "import matplotlib.pyplot as plt\n",
    "%matplotlib inline\n",
    "import seaborn as sns\n",
    "print(\"Setup Complete\")"
   ]
  },
  {
   "cell_type": "markdown",
   "id": "d05d9fc9",
   "metadata": {
    "papermill": {
     "duration": 0.007801,
     "end_time": "2024-07-10T19:30:42.192198",
     "exception": false,
     "start_time": "2024-07-10T19:30:42.184397",
     "status": "completed"
    },
    "tags": []
   },
   "source": [
    "The questions below will give you feedback on your work. Run the following cell to set up our feedback system."
   ]
  },
  {
   "cell_type": "code",
   "execution_count": 2,
   "id": "466878da",
   "metadata": {
    "execution": {
     "iopub.execute_input": "2024-07-10T19:30:42.210252Z",
     "iopub.status.busy": "2024-07-10T19:30:42.209762Z",
     "iopub.status.idle": "2024-07-10T19:30:42.287615Z",
     "shell.execute_reply": "2024-07-10T19:30:42.286386Z"
    },
    "papermill": {
     "duration": 0.089564,
     "end_time": "2024-07-10T19:30:42.289984",
     "exception": false,
     "start_time": "2024-07-10T19:30:42.200420",
     "status": "completed"
    },
    "tags": []
   },
   "outputs": [
    {
     "name": "stdout",
     "output_type": "stream",
     "text": [
      "Setup Complete\n"
     ]
    }
   ],
   "source": [
    "# Set up code checking\n",
    "import os\n",
    "if not os.path.exists(\"../input/candy.csv\"):\n",
    "    os.symlink(\"../input/data-for-datavis/candy.csv\", \"../input/candy.csv\") \n",
    "from learntools.core import binder\n",
    "binder.bind(globals())\n",
    "from learntools.data_viz_to_coder.ex4 import *\n",
    "print(\"Setup Complete\")"
   ]
  },
  {
   "cell_type": "markdown",
   "id": "e0716ade",
   "metadata": {
    "papermill": {
     "duration": 0.007891,
     "end_time": "2024-07-10T19:30:42.306421",
     "exception": false,
     "start_time": "2024-07-10T19:30:42.298530",
     "status": "completed"
    },
    "tags": []
   },
   "source": [
    "## Step 1: Load the Data\n",
    "\n",
    "Read the candy data file into `candy_data`.  Use the `\"id\"` column to label the rows."
   ]
  },
  {
   "cell_type": "code",
   "execution_count": 3,
   "id": "1bebf9e2",
   "metadata": {
    "execution": {
     "iopub.execute_input": "2024-07-10T19:30:42.324706Z",
     "iopub.status.busy": "2024-07-10T19:30:42.324272Z",
     "iopub.status.idle": "2024-07-10T19:30:42.338784Z",
     "shell.execute_reply": "2024-07-10T19:30:42.337587Z"
    },
    "papermill": {
     "duration": 0.026556,
     "end_time": "2024-07-10T19:30:42.341398",
     "exception": false,
     "start_time": "2024-07-10T19:30:42.314842",
     "status": "completed"
    },
    "tags": []
   },
   "outputs": [
    {
     "data": {
      "application/javascript": [
       "parent.postMessage({\"jupyterEvent\": \"custom.exercise_interaction\", \"data\": {\"outcomeType\": 1, \"valueTowardsCompletion\": 0.3333333333333333, \"interactionType\": 1, \"questionType\": 1, \"questionId\": \"1_LoadData\", \"learnToolsVersion\": \"0.3.4\", \"failureMessage\": \"\", \"exceptionClass\": \"\", \"trace\": \"\"}}, \"*\")"
      ],
      "text/plain": [
       "<IPython.core.display.Javascript object>"
      ]
     },
     "metadata": {},
     "output_type": "display_data"
    },
    {
     "data": {
      "text/markdown": [
       "<span style=\"color:#33cc33\">Correct</span>"
      ],
      "text/plain": [
       "Correct"
      ]
     },
     "metadata": {},
     "output_type": "display_data"
    }
   ],
   "source": [
    "# Path of the file to read\n",
    "candy_filepath = \"../input/candy.csv\"\n",
    "\n",
    "# Fill in the line below to read the file into a variable candy_data\n",
    "candy_data = pd.read_csv(candy_filepath, index_col='id')\n",
    "\n",
    "# Run the line below with no changes to check that you've loaded the data correctly\n",
    "step_1.check()"
   ]
  },
  {
   "cell_type": "code",
   "execution_count": 4,
   "id": "8c828359",
   "metadata": {
    "execution": {
     "iopub.execute_input": "2024-07-10T19:30:42.360139Z",
     "iopub.status.busy": "2024-07-10T19:30:42.359783Z",
     "iopub.status.idle": "2024-07-10T19:30:42.364592Z",
     "shell.execute_reply": "2024-07-10T19:30:42.363367Z"
    },
    "papermill": {
     "duration": 0.016945,
     "end_time": "2024-07-10T19:30:42.366980",
     "exception": false,
     "start_time": "2024-07-10T19:30:42.350035",
     "status": "completed"
    },
    "tags": []
   },
   "outputs": [],
   "source": [
    "# Lines below will give you a hint or solution code\n",
    "#step_1.hint()\n",
    "#step_1.solution()"
   ]
  },
  {
   "cell_type": "markdown",
   "id": "3d2612cf",
   "metadata": {
    "papermill": {
     "duration": 0.008556,
     "end_time": "2024-07-10T19:30:42.385015",
     "exception": false,
     "start_time": "2024-07-10T19:30:42.376459",
     "status": "completed"
    },
    "tags": []
   },
   "source": [
    "## Step 2: Review the data\n",
    "\n",
    "Use a Python command to print the first five rows of the data."
   ]
  },
  {
   "cell_type": "code",
   "execution_count": 5,
   "id": "bc29e9f3",
   "metadata": {
    "execution": {
     "iopub.execute_input": "2024-07-10T19:30:42.403461Z",
     "iopub.status.busy": "2024-07-10T19:30:42.403059Z",
     "iopub.status.idle": "2024-07-10T19:30:42.425441Z",
     "shell.execute_reply": "2024-07-10T19:30:42.424349Z"
    },
    "papermill": {
     "duration": 0.034313,
     "end_time": "2024-07-10T19:30:42.427883",
     "exception": false,
     "start_time": "2024-07-10T19:30:42.393570",
     "status": "completed"
    },
    "tags": []
   },
   "outputs": [
    {
     "data": {
      "text/html": [
       "<div>\n",
       "<style scoped>\n",
       "    .dataframe tbody tr th:only-of-type {\n",
       "        vertical-align: middle;\n",
       "    }\n",
       "\n",
       "    .dataframe tbody tr th {\n",
       "        vertical-align: top;\n",
       "    }\n",
       "\n",
       "    .dataframe thead th {\n",
       "        text-align: right;\n",
       "    }\n",
       "</style>\n",
       "<table border=\"1\" class=\"dataframe\">\n",
       "  <thead>\n",
       "    <tr style=\"text-align: right;\">\n",
       "      <th></th>\n",
       "      <th>competitorname</th>\n",
       "      <th>chocolate</th>\n",
       "      <th>fruity</th>\n",
       "      <th>caramel</th>\n",
       "      <th>peanutyalmondy</th>\n",
       "      <th>nougat</th>\n",
       "      <th>crispedricewafer</th>\n",
       "      <th>hard</th>\n",
       "      <th>bar</th>\n",
       "      <th>pluribus</th>\n",
       "      <th>sugarpercent</th>\n",
       "      <th>pricepercent</th>\n",
       "      <th>winpercent</th>\n",
       "    </tr>\n",
       "    <tr>\n",
       "      <th>id</th>\n",
       "      <th></th>\n",
       "      <th></th>\n",
       "      <th></th>\n",
       "      <th></th>\n",
       "      <th></th>\n",
       "      <th></th>\n",
       "      <th></th>\n",
       "      <th></th>\n",
       "      <th></th>\n",
       "      <th></th>\n",
       "      <th></th>\n",
       "      <th></th>\n",
       "      <th></th>\n",
       "    </tr>\n",
       "  </thead>\n",
       "  <tbody>\n",
       "    <tr>\n",
       "      <th>0</th>\n",
       "      <td>100 Grand</td>\n",
       "      <td>Yes</td>\n",
       "      <td>No</td>\n",
       "      <td>Yes</td>\n",
       "      <td>No</td>\n",
       "      <td>No</td>\n",
       "      <td>Yes</td>\n",
       "      <td>No</td>\n",
       "      <td>Yes</td>\n",
       "      <td>No</td>\n",
       "      <td>0.732</td>\n",
       "      <td>0.860</td>\n",
       "      <td>66.971725</td>\n",
       "    </tr>\n",
       "    <tr>\n",
       "      <th>1</th>\n",
       "      <td>3 Musketeers</td>\n",
       "      <td>Yes</td>\n",
       "      <td>No</td>\n",
       "      <td>No</td>\n",
       "      <td>No</td>\n",
       "      <td>Yes</td>\n",
       "      <td>No</td>\n",
       "      <td>No</td>\n",
       "      <td>Yes</td>\n",
       "      <td>No</td>\n",
       "      <td>0.604</td>\n",
       "      <td>0.511</td>\n",
       "      <td>67.602936</td>\n",
       "    </tr>\n",
       "    <tr>\n",
       "      <th>2</th>\n",
       "      <td>Air Heads</td>\n",
       "      <td>No</td>\n",
       "      <td>Yes</td>\n",
       "      <td>No</td>\n",
       "      <td>No</td>\n",
       "      <td>No</td>\n",
       "      <td>No</td>\n",
       "      <td>No</td>\n",
       "      <td>No</td>\n",
       "      <td>No</td>\n",
       "      <td>0.906</td>\n",
       "      <td>0.511</td>\n",
       "      <td>52.341465</td>\n",
       "    </tr>\n",
       "    <tr>\n",
       "      <th>3</th>\n",
       "      <td>Almond Joy</td>\n",
       "      <td>Yes</td>\n",
       "      <td>No</td>\n",
       "      <td>No</td>\n",
       "      <td>Yes</td>\n",
       "      <td>No</td>\n",
       "      <td>No</td>\n",
       "      <td>No</td>\n",
       "      <td>Yes</td>\n",
       "      <td>No</td>\n",
       "      <td>0.465</td>\n",
       "      <td>0.767</td>\n",
       "      <td>50.347546</td>\n",
       "    </tr>\n",
       "    <tr>\n",
       "      <th>4</th>\n",
       "      <td>Baby Ruth</td>\n",
       "      <td>Yes</td>\n",
       "      <td>No</td>\n",
       "      <td>Yes</td>\n",
       "      <td>Yes</td>\n",
       "      <td>Yes</td>\n",
       "      <td>No</td>\n",
       "      <td>No</td>\n",
       "      <td>Yes</td>\n",
       "      <td>No</td>\n",
       "      <td>0.604</td>\n",
       "      <td>0.767</td>\n",
       "      <td>56.914547</td>\n",
       "    </tr>\n",
       "  </tbody>\n",
       "</table>\n",
       "</div>"
      ],
      "text/plain": [
       "   competitorname chocolate fruity caramel peanutyalmondy nougat  \\\n",
       "id                                                                 \n",
       "0       100 Grand       Yes     No     Yes             No     No   \n",
       "1    3 Musketeers       Yes     No      No             No    Yes   \n",
       "2       Air Heads        No    Yes      No             No     No   \n",
       "3      Almond Joy       Yes     No      No            Yes     No   \n",
       "4       Baby Ruth       Yes     No     Yes            Yes    Yes   \n",
       "\n",
       "   crispedricewafer hard  bar pluribus  sugarpercent  pricepercent  winpercent  \n",
       "id                                                                              \n",
       "0               Yes   No  Yes       No         0.732         0.860   66.971725  \n",
       "1                No   No  Yes       No         0.604         0.511   67.602936  \n",
       "2                No   No   No       No         0.906         0.511   52.341465  \n",
       "3                No   No  Yes       No         0.465         0.767   50.347546  \n",
       "4                No   No  Yes       No         0.604         0.767   56.914547  "
      ]
     },
     "execution_count": 5,
     "metadata": {},
     "output_type": "execute_result"
    }
   ],
   "source": [
    "# Print the first five rows of the data\n",
    "candy_data.head()"
   ]
  },
  {
   "cell_type": "markdown",
   "id": "62f13fcf",
   "metadata": {
    "papermill": {
     "duration": 0.008542,
     "end_time": "2024-07-10T19:30:42.445352",
     "exception": false,
     "start_time": "2024-07-10T19:30:42.436810",
     "status": "completed"
    },
    "tags": []
   },
   "source": [
    "The dataset contains 83 rows, where each corresponds to a different candy bar.  There are 13 columns:\n",
    "- `'competitorname'` contains the name of the candy bar. \n",
    "- the next **9** columns (from `'chocolate'` to `'pluribus'`) describe the candy.  For instance, rows with chocolate candies have `\"Yes\"` in the `'chocolate'` column (and candies without chocolate have `\"No\"` in the same column).\n",
    "- `'sugarpercent'` provides some indication of the amount of sugar, where higher values signify higher sugar content.\n",
    "- `'pricepercent'` shows the price per unit, relative to the other candies in the dataset.\n",
    "- `'winpercent'` is calculated from the survey results; higher values indicate that the candy was more popular with survey respondents.\n",
    "\n",
    "Use the first five rows of the data to answer the questions below."
   ]
  },
  {
   "cell_type": "code",
   "execution_count": 6,
   "id": "4c3d5868",
   "metadata": {
    "execution": {
     "iopub.execute_input": "2024-07-10T19:30:42.465276Z",
     "iopub.status.busy": "2024-07-10T19:30:42.464904Z",
     "iopub.status.idle": "2024-07-10T19:30:42.474789Z",
     "shell.execute_reply": "2024-07-10T19:30:42.473602Z"
    },
    "papermill": {
     "duration": 0.022421,
     "end_time": "2024-07-10T19:30:42.477022",
     "exception": false,
     "start_time": "2024-07-10T19:30:42.454601",
     "status": "completed"
    },
    "tags": []
   },
   "outputs": [
    {
     "data": {
      "application/javascript": [
       "parent.postMessage({\"jupyterEvent\": \"custom.exercise_interaction\", \"data\": {\"outcomeType\": 1, \"valueTowardsCompletion\": 0.3333333333333333, \"interactionType\": 1, \"questionType\": 1, \"questionId\": \"2_ReviewData\", \"learnToolsVersion\": \"0.3.4\", \"failureMessage\": \"\", \"exceptionClass\": \"\", \"trace\": \"\"}}, \"*\")"
      ],
      "text/plain": [
       "<IPython.core.display.Javascript object>"
      ]
     },
     "metadata": {},
     "output_type": "display_data"
    },
    {
     "data": {
      "text/markdown": [
       "<span style=\"color:#33cc33\">Correct</span>"
      ],
      "text/plain": [
       "Correct"
      ]
     },
     "metadata": {},
     "output_type": "display_data"
    }
   ],
   "source": [
    "# Fill in the line below: Which candy was more popular with survey respondents:\n",
    "# '3 Musketeers' or 'Almond Joy'?  (Please enclose your answer in single quotes.)\n",
    "more_popular = '3 Musketeers'\n",
    "\n",
    "# Fill in the line below: Which candy has higher sugar content: 'Air Heads'\n",
    "# or 'Baby Ruth'? (Please enclose your answer in single quotes.)\n",
    "more_sugar = 'Air Heads'\n",
    "\n",
    "# Check your answers\n",
    "step_2.check()"
   ]
  },
  {
   "cell_type": "code",
   "execution_count": 7,
   "id": "ef405e74",
   "metadata": {
    "execution": {
     "iopub.execute_input": "2024-07-10T19:30:42.498820Z",
     "iopub.status.busy": "2024-07-10T19:30:42.497946Z",
     "iopub.status.idle": "2024-07-10T19:30:42.502997Z",
     "shell.execute_reply": "2024-07-10T19:30:42.501769Z"
    },
    "papermill": {
     "duration": 0.017796,
     "end_time": "2024-07-10T19:30:42.505410",
     "exception": false,
     "start_time": "2024-07-10T19:30:42.487614",
     "status": "completed"
    },
    "tags": []
   },
   "outputs": [],
   "source": [
    "# Lines below will give you a hint or solution code\n",
    "#step_2.hint()\n",
    "#step_2.solution()"
   ]
  },
  {
   "cell_type": "markdown",
   "id": "0831c56a",
   "metadata": {
    "papermill": {
     "duration": 0.008682,
     "end_time": "2024-07-10T19:30:42.523275",
     "exception": false,
     "start_time": "2024-07-10T19:30:42.514593",
     "status": "completed"
    },
    "tags": []
   },
   "source": [
    "## Step 3: The role of sugar\n",
    "\n",
    "Do people tend to prefer candies with higher sugar content?  \n",
    "\n",
    "#### Part A\n",
    "\n",
    "Create a scatter plot that shows the relationship between `'sugarpercent'` (on the horizontal x-axis) and `'winpercent'` (on the vertical y-axis).  _Don't add a regression line just yet -- you'll do that in the next step!_"
   ]
  },
  {
   "cell_type": "code",
   "execution_count": 8,
   "id": "a946f021",
   "metadata": {
    "execution": {
     "iopub.execute_input": "2024-07-10T19:30:42.542880Z",
     "iopub.status.busy": "2024-07-10T19:30:42.542526Z",
     "iopub.status.idle": "2024-07-10T19:30:42.899737Z",
     "shell.execute_reply": "2024-07-10T19:30:42.898669Z"
    },
    "papermill": {
     "duration": 0.369756,
     "end_time": "2024-07-10T19:30:42.902134",
     "exception": false,
     "start_time": "2024-07-10T19:30:42.532378",
     "status": "completed"
    },
    "tags": []
   },
   "outputs": [
    {
     "data": {
      "application/javascript": [
       "parent.postMessage({\"jupyterEvent\": \"custom.exercise_interaction\", \"data\": {\"outcomeType\": 1, \"valueTowardsCompletion\": 0.3333333333333333, \"interactionType\": 1, \"questionType\": 2, \"questionId\": \"3.1_PlotBlueScatter\", \"learnToolsVersion\": \"0.3.4\", \"failureMessage\": \"\", \"exceptionClass\": \"\", \"trace\": \"\"}}, \"*\")"
      ],
      "text/plain": [
       "<IPython.core.display.Javascript object>"
      ]
     },
     "metadata": {},
     "output_type": "display_data"
    },
    {
     "data": {
      "text/markdown": [
       "<span style=\"color:#33cc33\">Correct</span>"
      ],
      "text/plain": [
       "Correct"
      ]
     },
     "metadata": {},
     "output_type": "display_data"
    },
    {
     "data": {
      "image/png": "[encoded data removed]",
      "text/plain": [
       "<Figure size 640x480 with 1 Axes>"
      ]
     },
     "metadata": {},
     "output_type": "display_data"
    }
   ],
   "source": [
    "# Scatter plot showing the relationship between 'sugarpercent' and 'winpercent'\n",
    "sns.scatterplot(x=candy_data['sugarpercent'], y=candy_data['winpercent'])\n",
    "\n",
    "# Check your answer\n",
    "step_3.a.check()"
   ]
  },
  {
   "cell_type": "code",
   "execution_count": 9,
   "id": "80e026c1",
   "metadata": {
    "execution": {
     "iopub.execute_input": "2024-07-10T19:30:42.922928Z",
     "iopub.status.busy": "2024-07-10T19:30:42.922551Z",
     "iopub.status.idle": "2024-07-10T19:30:42.927092Z",
     "shell.execute_reply": "2024-07-10T19:30:42.925954Z"
    },
    "papermill": {
     "duration": 0.017501,
     "end_time": "2024-07-10T19:30:42.929284",
     "exception": false,
     "start_time": "2024-07-10T19:30:42.911783",
     "status": "completed"
    },
    "tags": []
   },
   "outputs": [],
   "source": [
    "# Lines below will give you a hint or solution code\n",
    "#step_3.a.hint()\n",
    "#step_3.a.solution_plot()"
   ]
  },
  {
   "cell_type": "markdown",
   "id": "01262615",
   "metadata": {
    "papermill": {
     "duration": 0.009897,
     "end_time": "2024-07-10T19:30:42.949333",
     "exception": false,
     "start_time": "2024-07-10T19:30:42.939436",
     "status": "completed"
    },
    "tags": []
   },
   "source": [
    "#### Part B\n",
    "\n",
    "Does the scatter plot show a **strong** correlation between the two variables?  If so, are candies with more sugar relatively more or less popular with the survey respondents?"
   ]
  },
  {
   "cell_type": "code",
   "execution_count": 10,
   "id": "7d035584",
   "metadata": {
    "execution": {
     "iopub.execute_input": "2024-07-10T19:30:42.970571Z",
     "iopub.status.busy": "2024-07-10T19:30:42.970164Z",
     "iopub.status.idle": "2024-07-10T19:30:42.974729Z",
     "shell.execute_reply": "2024-07-10T19:30:42.973722Z"
    },
    "papermill": {
     "duration": 0.017949,
     "end_time": "2024-07-10T19:30:42.976990",
     "exception": false,
     "start_time": "2024-07-10T19:30:42.959041",
     "status": "completed"
    },
    "tags": []
   },
   "outputs": [],
   "source": [
    "#step_3.b.hint()"
   ]
  },
  {
   "cell_type": "code",
   "execution_count": 11,
   "id": "cf996027",
   "metadata": {
    "execution": {
     "iopub.execute_input": "2024-07-10T19:30:42.998417Z",
     "iopub.status.busy": "2024-07-10T19:30:42.998001Z",
     "iopub.status.idle": "2024-07-10T19:30:43.007219Z",
     "shell.execute_reply": "2024-07-10T19:30:43.006054Z"
    },
    "papermill": {
     "duration": 0.022626,
     "end_time": "2024-07-10T19:30:43.009467",
     "exception": false,
     "start_time": "2024-07-10T19:30:42.986841",
     "status": "completed"
    },
    "tags": []
   },
   "outputs": [
    {
     "data": {
      "application/javascript": [
       "parent.postMessage({\"jupyterEvent\": \"custom.exercise_interaction\", \"data\": {\"interactionType\": 3, \"questionType\": 4, \"questionId\": \"3.2_ThinkBlueScatter\", \"learnToolsVersion\": \"0.3.4\", \"valueTowardsCompletion\": 0.0, \"failureMessage\": \"\", \"exceptionClass\": \"\", \"trace\": \"\", \"outcomeType\": 4}}, \"*\")"
      ],
      "text/plain": [
       "<IPython.core.display.Javascript object>"
      ]
     },
     "metadata": {},
     "output_type": "display_data"
    },
    {
     "data": {
      "text/markdown": [
       "<span style=\"color:#33cc99\">Solution:</span> The scatter plot does not show a strong correlation between the two variables. Since there is no clear relationship between the two variables, this tells us that sugar content does not play a strong role in candy popularity."
      ],
      "text/plain": [
       "Solution: The scatter plot does not show a strong correlation between the two variables. Since there is no clear relationship between the two variables, this tells us that sugar content does not play a strong role in candy popularity."
      ]
     },
     "metadata": {},
     "output_type": "display_data"
    }
   ],
   "source": [
    "# Check your answer (Run this code cell to receive credit!)\n",
    "step_3.b.solution()"
   ]
  },
  {
   "cell_type": "markdown",
   "id": "1952a669",
   "metadata": {
    "papermill": {
     "duration": 0.009604,
     "end_time": "2024-07-10T19:30:43.029176",
     "exception": false,
     "start_time": "2024-07-10T19:30:43.019572",
     "status": "completed"
    },
    "tags": []
   },
   "source": [
    "## Step 4: Take a closer look\n",
    "\n",
    "#### Part A\n",
    "\n",
    "Create the same scatter plot you created in **Step 3**, but now with a regression line!"
   ]
  },
  {
   "cell_type": "code",
   "execution_count": 12,
   "id": "5a7e20b3",
   "metadata": {
    "execution": {
     "iopub.execute_input": "2024-07-10T19:30:43.050995Z",
     "iopub.status.busy": "2024-07-10T19:30:43.050633Z",
     "iopub.status.idle": "2024-07-10T19:30:43.408131Z",
     "shell.execute_reply": "2024-07-10T19:30:43.407067Z"
    },
    "papermill": {
     "duration": 0.371055,
     "end_time": "2024-07-10T19:30:43.410392",
     "exception": false,
     "start_time": "2024-07-10T19:30:43.039337",
     "status": "completed"
    },
    "tags": []
   },
   "outputs": [
    {
     "data": {
      "application/javascript": [
       "parent.postMessage({\"jupyterEvent\": \"custom.exercise_interaction\", \"data\": {\"outcomeType\": 1, \"valueTowardsCompletion\": 0.3333333333333333, \"interactionType\": 1, \"questionType\": 2, \"questionId\": \"4.1_PlotBlueReg\", \"learnToolsVersion\": \"0.3.4\", \"failureMessage\": \"\", \"exceptionClass\": \"\", \"trace\": \"\"}}, \"*\")"
      ],
      "text/plain": [
       "<IPython.core.display.Javascript object>"
      ]
     },
     "metadata": {},
     "output_type": "display_data"
    },
    {
     "data": {
      "text/markdown": [
       "<span style=\"color:#33cc33\">Correct</span>"
      ],
      "text/plain": [
       "Correct"
      ]
     },
     "metadata": {},
     "output_type": "display_data"
    },
    {
     "data": {
      "image/png": "[encoded data removed]",
      "text/plain": [
       "<Figure size 640x480 with 1 Axes>"
      ]
     },
     "metadata": {},
     "output_type": "display_data"
    }
   ],
   "source": [
    "# Scatter plot w/ regression line showing the relationship between 'sugarpercent' and 'winpercent'\n",
    "sns.regplot(x=candy_data['sugarpercent'], y=candy_data['winpercent'])\n",
    "\n",
    "# Check your answer\n",
    "step_4.a.check()"
   ]
  },
  {
   "cell_type": "code",
   "execution_count": 13,
   "id": "a3b612eb",
   "metadata": {
    "execution": {
     "iopub.execute_input": "2024-07-10T19:30:43.434352Z",
     "iopub.status.busy": "2024-07-10T19:30:43.433199Z",
     "iopub.status.idle": "2024-07-10T19:30:43.438454Z",
     "shell.execute_reply": "2024-07-10T19:30:43.437195Z"
    },
    "papermill": {
     "duration": 0.019687,
     "end_time": "2024-07-10T19:30:43.440890",
     "exception": false,
     "start_time": "2024-07-10T19:30:43.421203",
     "status": "completed"
    },
    "tags": []
   },
   "outputs": [],
   "source": [
    "# Lines below will give you a hint or solution code\n",
    "#step_4.a.hint()\n",
    "#step_4.a.solution_plot()"
   ]
  },
  {
   "cell_type": "markdown",
   "id": "088a70dc",
   "metadata": {
    "papermill": {
     "duration": 0.010441,
     "end_time": "2024-07-10T19:30:43.462190",
     "exception": false,
     "start_time": "2024-07-10T19:30:43.451749",
     "status": "completed"
    },
    "tags": []
   },
   "source": [
    "#### Part B\n",
    "\n",
    "According to the plot above, is there a **slight** correlation between `'winpercent'` and `'sugarpercent'`?  What does this tell you about the candy that people tend to prefer?"
   ]
  },
  {
   "cell_type": "code",
   "execution_count": 14,
   "id": "b9bfd718",
   "metadata": {
    "execution": {
     "iopub.execute_input": "2024-07-10T19:30:43.486959Z",
     "iopub.status.busy": "2024-07-10T19:30:43.485530Z",
     "iopub.status.idle": "2024-07-10T19:30:43.491473Z",
     "shell.execute_reply": "2024-07-10T19:30:43.490276Z"
    },
    "papermill": {
     "duration": 0.02082,
     "end_time": "2024-07-10T19:30:43.493804",
     "exception": false,
     "start_time": "2024-07-10T19:30:43.472984",
     "status": "completed"
    },
    "tags": []
   },
   "outputs": [],
   "source": [
    "#step_4.b.hint()"
   ]
  },
  {
   "cell_type": "code",
   "execution_count": 15,
   "id": "b9787777",
   "metadata": {
    "execution": {
     "iopub.execute_input": "2024-07-10T19:30:43.517714Z",
     "iopub.status.busy": "2024-07-10T19:30:43.517327Z",
     "iopub.status.idle": "2024-07-10T19:30:43.526510Z",
     "shell.execute_reply": "2024-07-10T19:30:43.525390Z"
    },
    "papermill": {
     "duration": 0.024048,
     "end_time": "2024-07-10T19:30:43.528805",
     "exception": false,
     "start_time": "2024-07-10T19:30:43.504757",
     "status": "completed"
    },
    "tags": []
   },
   "outputs": [
    {
     "data": {
      "application/javascript": [
       "parent.postMessage({\"jupyterEvent\": \"custom.exercise_interaction\", \"data\": {\"interactionType\": 3, \"questionType\": 4, \"questionId\": \"4.2_ThinkBlueReg\", \"learnToolsVersion\": \"0.3.4\", \"valueTowardsCompletion\": 0.0, \"failureMessage\": \"\", \"exceptionClass\": \"\", \"trace\": \"\", \"outcomeType\": 4}}, \"*\")"
      ],
      "text/plain": [
       "<IPython.core.display.Javascript object>"
      ]
     },
     "metadata": {},
     "output_type": "display_data"
    },
    {
     "data": {
      "text/markdown": [
       "<span style=\"color:#33cc99\">Solution:</span> Since the regression line has a slightly positive slope, this tells us that there is a slightly positive correlation between `'winpercent'` and `'sugarpercent'`. Thus, people have a slight preference for candies containing relatively more sugar."
      ],
      "text/plain": [
       "Solution: Since the regression line has a slightly positive slope, this tells us that there is a slightly positive correlation between `'winpercent'` and `'sugarpercent'`. Thus, people have a slight preference for candies containing relatively more sugar."
      ]
     },
     "metadata": {},
     "output_type": "display_data"
    }
   ],
   "source": [
    "# Check your answer (Run this code cell to receive credit!)\n",
    "step_4.b.solution()"
   ]
  },
  {
   "cell_type": "markdown",
   "id": "cf53db39",
   "metadata": {
    "papermill": {
     "duration": 0.010773,
     "end_time": "2024-07-10T19:30:43.550717",
     "exception": false,
     "start_time": "2024-07-10T19:30:43.539944",
     "status": "completed"
    },
    "tags": []
   },
   "source": [
    "## Step 5: Chocolate!\n",
    "\n",
    "In the code cell below, create a scatter plot to show the relationship between `'pricepercent'` (on the horizontal x-axis) and `'winpercent'` (on the vertical y-axis). Use the `'chocolate'` column to color-code the points.  _Don't add any regression lines just yet -- you'll do that in the next step!_"
   ]
  },
  {
   "cell_type": "code",
   "execution_count": 16,
   "id": "f5fdb8db",
   "metadata": {
    "execution": {
     "iopub.execute_input": "2024-07-10T19:30:43.575139Z",
     "iopub.status.busy": "2024-07-10T19:30:43.574755Z",
     "iopub.status.idle": "2024-07-10T19:30:43.929784Z",
     "shell.execute_reply": "2024-07-10T19:30:43.928572Z"
    },
    "papermill": {
     "duration": 0.370291,
     "end_time": "2024-07-10T19:30:43.932226",
     "exception": false,
     "start_time": "2024-07-10T19:30:43.561935",
     "status": "completed"
    },
    "tags": []
   },
   "outputs": [
    {
     "data": {
      "application/javascript": [
       "parent.postMessage({\"jupyterEvent\": \"custom.exercise_interaction\", \"data\": {\"outcomeType\": 1, \"valueTowardsCompletion\": 0.3333333333333333, \"interactionType\": 1, \"questionType\": 2, \"questionId\": \"5_ColorScatter\", \"learnToolsVersion\": \"0.3.4\", \"failureMessage\": \"\", \"exceptionClass\": \"\", \"trace\": \"\"}}, \"*\")"
      ],
      "text/plain": [
       "<IPython.core.display.Javascript object>"
      ]
     },
     "metadata": {},
     "output_type": "display_data"
    },
    {
     "data": {
      "text/markdown": [
       "<span style=\"color:#33cc33\">Correct</span>"
      ],
      "text/plain": [
       "Correct"
      ]
     },
     "metadata": {},
     "output_type": "display_data"
    },
    {
     "data": {
      "image/png": "[encoded data removed]",
      "text/plain": [
       "<Figure size 640x480 with 1 Axes>"
      ]
     },
     "metadata": {},
     "output_type": "display_data"
    }
   ],
   "source": [
    "# Scatter plot showing the relationship between 'pricepercent', 'winpercent', and 'chocolate'\n",
    "sns.scatterplot(x=candy_data['pricepercent'], y=candy_data['winpercent'], hue=candy_data['chocolate'])\n",
    "\n",
    "# Check your answer\n",
    "step_5.check()"
   ]
  },
  {
   "cell_type": "code",
   "execution_count": 17,
   "id": "a2de82c0",
   "metadata": {
    "execution": {
     "iopub.execute_input": "2024-07-10T19:30:43.957946Z",
     "iopub.status.busy": "2024-07-10T19:30:43.957542Z",
     "iopub.status.idle": "2024-07-10T19:30:43.962670Z",
     "shell.execute_reply": "2024-07-10T19:30:43.961397Z"
    },
    "papermill": {
     "duration": 0.020963,
     "end_time": "2024-07-10T19:30:43.965063",
     "exception": false,
     "start_time": "2024-07-10T19:30:43.944100",
     "status": "completed"
    },
    "tags": []
   },
   "outputs": [],
   "source": [
    "# Lines below will give you a hint or solution code\n",
    "#step_5.hint()\n",
    "#step_5.solution_plot()"
   ]
  },
  {
   "cell_type": "markdown",
   "id": "6fa32484",
   "metadata": {
    "papermill": {
     "duration": 0.011716,
     "end_time": "2024-07-10T19:30:43.988793",
     "exception": false,
     "start_time": "2024-07-10T19:30:43.977077",
     "status": "completed"
    },
    "tags": []
   },
   "source": [
    "Can you see any interesting patterns in the scatter plot?  We'll investigate this plot further  by adding regression lines in the next step!\n",
    "\n",
    "## Step 6: Investigate chocolate\n",
    "\n",
    "#### Part A\n",
    "\n",
    "Create the same scatter plot you created in **Step 5**, but now with two regression lines, corresponding to (1) chocolate candies and (2) candies without chocolate."
   ]
  },
  {
   "cell_type": "code",
   "execution_count": 18,
   "id": "3eb54cf1",
   "metadata": {
    "execution": {
     "iopub.execute_input": "2024-07-10T19:30:44.014798Z",
     "iopub.status.busy": "2024-07-10T19:30:44.014421Z",
     "iopub.status.idle": "2024-07-10T19:30:44.768605Z",
     "shell.execute_reply": "2024-07-10T19:30:44.767487Z"
    },
    "papermill": {
     "duration": 0.770546,
     "end_time": "2024-07-10T19:30:44.771342",
     "exception": false,
     "start_time": "2024-07-10T19:30:44.000796",
     "status": "completed"
    },
    "tags": []
   },
   "outputs": [
    {
     "data": {
      "application/javascript": [
       "parent.postMessage({\"jupyterEvent\": \"custom.exercise_interaction\", \"data\": {\"outcomeType\": 1, \"valueTowardsCompletion\": 0.3333333333333333, \"interactionType\": 1, \"questionType\": 2, \"questionId\": \"6.1_PlotColorReg\", \"learnToolsVersion\": \"0.3.4\", \"failureMessage\": \"\", \"exceptionClass\": \"\", \"trace\": \"\"}}, \"*\")"
      ],
      "text/plain": [
       "<IPython.core.display.Javascript object>"
      ]
     },
     "metadata": {},
     "output_type": "display_data"
    },
    {
     "data": {
      "text/markdown": [
       "<span style=\"color:#33cc33\">Correct</span>"
      ],
      "text/plain": [
       "Correct"
      ]
     },
     "metadata": {},
     "output_type": "display_data"
    },
    {
     "data": {
      "image/png": "[encoded data removed]",
      "text/plain": [
       "<Figure size 578.611x500 with 1 Axes>"
      ]
     },
     "metadata": {},
     "output_type": "display_data"
    }
   ],
   "source": [
    "# Color-coded scatter plot w/ regression lines\n",
    "sns.lmplot(x=\"pricepercent\", y=\"winpercent\", hue=\"chocolate\", data=candy_data)\n",
    "\n",
    "# Check your answer\n",
    "step_6.a.check()"
   ]
  },
  {
   "cell_type": "code",
   "execution_count": 19,
   "id": "98fb4d4e",
   "metadata": {
    "execution": {
     "iopub.execute_input": "2024-07-10T19:30:44.798851Z",
     "iopub.status.busy": "2024-07-10T19:30:44.798467Z",
     "iopub.status.idle": "2024-07-10T19:30:44.803069Z",
     "shell.execute_reply": "2024-07-10T19:30:44.801983Z"
    },
    "papermill": {
     "duration": 0.021043,
     "end_time": "2024-07-10T19:30:44.805140",
     "exception": false,
     "start_time": "2024-07-10T19:30:44.784097",
     "status": "completed"
    },
    "tags": []
   },
   "outputs": [],
   "source": [
    "# Lines below will give you a hint or solution code\n",
    "#step_6.a.hint()\n",
    "#step_6.a.solution_plot()"
   ]
  },
  {
   "cell_type": "markdown",
   "id": "a3a4673f",
   "metadata": {
    "papermill": {
     "duration": 0.012781,
     "end_time": "2024-07-10T19:30:44.830744",
     "exception": false,
     "start_time": "2024-07-10T19:30:44.817963",
     "status": "completed"
    },
    "tags": []
   },
   "source": [
    "#### Part B\n",
    "\n",
    "Using the regression lines, what conclusions can you draw about the effects of chocolate and price on candy popularity?"
   ]
  },
  {
   "cell_type": "code",
   "execution_count": 20,
   "id": "407f3a05",
   "metadata": {
    "execution": {
     "iopub.execute_input": "2024-07-10T19:30:44.859099Z",
     "iopub.status.busy": "2024-07-10T19:30:44.858707Z",
     "iopub.status.idle": "2024-07-10T19:30:44.863915Z",
     "shell.execute_reply": "2024-07-10T19:30:44.862595Z"
    },
    "papermill": {
     "duration": 0.022697,
     "end_time": "2024-07-10T19:30:44.866461",
     "exception": false,
     "start_time": "2024-07-10T19:30:44.843764",
     "status": "completed"
    },
    "tags": []
   },
   "outputs": [],
   "source": [
    "#step_6.b.hint()"
   ]
  },
  {
   "cell_type": "code",
   "execution_count": 21,
   "id": "a1d6894b",
   "metadata": {
    "execution": {
     "iopub.execute_input": "2024-07-10T19:30:44.893827Z",
     "iopub.status.busy": "2024-07-10T19:30:44.893459Z",
     "iopub.status.idle": "2024-07-10T19:30:44.902588Z",
     "shell.execute_reply": "2024-07-10T19:30:44.901336Z"
    },
    "papermill": {
     "duration": 0.025558,
     "end_time": "2024-07-10T19:30:44.904837",
     "exception": false,
     "start_time": "2024-07-10T19:30:44.879279",
     "status": "completed"
    },
    "tags": []
   },
   "outputs": [
    {
     "data": {
      "application/javascript": [
       "parent.postMessage({\"jupyterEvent\": \"custom.exercise_interaction\", \"data\": {\"interactionType\": 3, \"questionType\": 4, \"questionId\": \"6.2_ThinkColorReg\", \"learnToolsVersion\": \"0.3.4\", \"valueTowardsCompletion\": 0.0, \"failureMessage\": \"\", \"exceptionClass\": \"\", \"trace\": \"\", \"outcomeType\": 4}}, \"*\")"
      ],
      "text/plain": [
       "<IPython.core.display.Javascript object>"
      ]
     },
     "metadata": {},
     "output_type": "display_data"
    },
    {
     "data": {
      "text/markdown": [
       "<span style=\"color:#33cc99\">Solution:</span> We'll begin with the regression line for chocolate candies. Since this line has a slightly positive slope, we can say that more expensive chocolate candies tend to be more popular (than relatively cheaper chocolate candies).  Likewise, since the regression line for candies without chocolate has a negative slope, we can say that if candies don't contain chocolate, they tend to be more popular when they are cheaper.  One important note, however, is that the dataset is quite small -- so we shouldn't invest too much trust in these patterns!  To inspire more confidence in the results, we should add more candies to the dataset."
      ],
      "text/plain": [
       "Solution: We'll begin with the regression line for chocolate candies. Since this line has a slightly positive slope, we can say that more expensive chocolate candies tend to be more popular (than relatively cheaper chocolate candies).  Likewise, since the regression line for candies without chocolate has a negative slope, we can say that if candies don't contain chocolate, they tend to be more popular when they are cheaper.  One important note, however, is that the dataset is quite small -- so we shouldn't invest too much trust in these patterns!  To inspire more confidence in the results, we should add more candies to the dataset."
      ]
     },
     "metadata": {},
     "output_type": "display_data"
    }
   ],
   "source": [
    "# Check your answer (Run this code cell to receive credit!)\n",
    "step_6.b.solution()"
   ]
  },
  {
   "cell_type": "markdown",
   "id": "3c54a022",
   "metadata": {
    "papermill": {
     "duration": 0.012605,
     "end_time": "2024-07-10T19:30:44.931015",
     "exception": false,
     "start_time": "2024-07-10T19:30:44.918410",
     "status": "completed"
    },
    "tags": []
   },
   "source": [
    "## Step 7: Everybody loves chocolate.\n",
    "\n",
    "#### Part A\n",
    "\n",
    "Create a categorical scatter plot to highlight the relationship between `'chocolate'` and `'winpercent'`.  Put `'chocolate'` on the (horizontal) x-axis, and `'winpercent'` on the (vertical) y-axis."
   ]
  },
  {
   "cell_type": "code",
   "execution_count": 22,
   "id": "18969b16",
   "metadata": {
    "execution": {
     "iopub.execute_input": "2024-07-10T19:30:45.019088Z",
     "iopub.status.busy": "2024-07-10T19:30:45.018721Z",
     "iopub.status.idle": "2024-07-10T19:30:45.439725Z",
     "shell.execute_reply": "2024-07-10T19:30:45.438256Z"
    },
    "papermill": {
     "duration": 0.439032,
     "end_time": "2024-07-10T19:30:45.443225",
     "exception": false,
     "start_time": "2024-07-10T19:30:45.004193",
     "status": "completed"
    },
    "tags": []
   },
   "outputs": [
    {
     "data": {
      "application/javascript": [
       "parent.postMessage({\"jupyterEvent\": \"custom.exercise_interaction\", \"data\": {\"outcomeType\": 1, \"valueTowardsCompletion\": 0.3333333333333333, \"interactionType\": 1, \"questionType\": 2, \"questionId\": \"7.1_PlotSwarm\", \"learnToolsVersion\": \"0.3.4\", \"failureMessage\": \"\", \"exceptionClass\": \"\", \"trace\": \"\"}}, \"*\")"
      ],
      "text/plain": [
       "<IPython.core.display.Javascript object>"
      ]
     },
     "metadata": {},
     "output_type": "display_data"
    },
    {
     "data": {
      "text/markdown": [
       "<span style=\"color:#33cc33\">Correct</span>"
      ],
      "text/plain": [
       "Correct"
      ]
     },
     "metadata": {},
     "output_type": "display_data"
    },
    {
     "data": {
      "image/png": "[encoded data removed]",
      "text/plain": [
       "<Figure size 640x480 with 1 Axes>"
      ]
     },
     "metadata": {},
     "output_type": "display_data"
    }
   ],
   "source": [
    "# Scatter plot showing the relationship between 'chocolate' and 'winpercent'\n",
    "sns.swarmplot(x=candy_data['chocolate'], y=candy_data['winpercent'])\n",
    "\n",
    "# Check your answer\n",
    "step_7.a.check()"
   ]
  },
  {
   "cell_type": "code",
   "execution_count": 23,
   "id": "1aa9562c",
   "metadata": {
    "execution": {
     "iopub.execute_input": "2024-07-10T19:30:45.500798Z",
     "iopub.status.busy": "2024-07-10T19:30:45.499987Z",
     "iopub.status.idle": "2024-07-10T19:30:45.504869Z",
     "shell.execute_reply": "2024-07-10T19:30:45.503538Z"
    },
    "papermill": {
     "duration": 0.037601,
     "end_time": "2024-07-10T19:30:45.507131",
     "exception": false,
     "start_time": "2024-07-10T19:30:45.469530",
     "status": "completed"
    },
    "tags": []
   },
   "outputs": [],
   "source": [
    "# Lines below will give you a hint or solution code\n",
    "#step_7.a.hint()\n",
    "#step_7.a.solution_plot()"
   ]
  },
  {
   "cell_type": "markdown",
   "id": "6ce75ae1",
   "metadata": {
    "papermill": {
     "duration": 0.014713,
     "end_time": "2024-07-10T19:30:45.540729",
     "exception": false,
     "start_time": "2024-07-10T19:30:45.526016",
     "status": "completed"
    },
    "tags": []
   },
   "source": [
    "#### Part B\n",
    "\n",
    "You decide to dedicate a section of your report to the fact that chocolate candies tend to be more popular than candies without chocolate.  Which plot is more appropriate to tell this story: the plot from **Step 6**, or the plot from **Step 7**?"
   ]
  },
  {
   "cell_type": "code",
   "execution_count": 24,
   "id": "b3aca34b",
   "metadata": {
    "execution": {
     "iopub.execute_input": "2024-07-10T19:30:45.570602Z",
     "iopub.status.busy": "2024-07-10T19:30:45.569647Z",
     "iopub.status.idle": "2024-07-10T19:30:45.574513Z",
     "shell.execute_reply": "2024-07-10T19:30:45.573338Z"
    },
    "papermill": {
     "duration": 0.022122,
     "end_time": "2024-07-10T19:30:45.576714",
     "exception": false,
     "start_time": "2024-07-10T19:30:45.554592",
     "status": "completed"
    },
    "tags": []
   },
   "outputs": [],
   "source": [
    "#step_7.b.hint()"
   ]
  },
  {
   "cell_type": "code",
   "execution_count": 25,
   "id": "a08fc718",
   "metadata": {
    "execution": {
     "iopub.execute_input": "2024-07-10T19:30:45.606848Z",
     "iopub.status.busy": "2024-07-10T19:30:45.606457Z",
     "iopub.status.idle": "2024-07-10T19:30:45.615354Z",
     "shell.execute_reply": "2024-07-10T19:30:45.614182Z"
    },
    "papermill": {
     "duration": 0.027842,
     "end_time": "2024-07-10T19:30:45.618469",
     "exception": false,
     "start_time": "2024-07-10T19:30:45.590627",
     "status": "completed"
    },
    "tags": []
   },
   "outputs": [
    {
     "data": {
      "application/javascript": [
       "parent.postMessage({\"jupyterEvent\": \"custom.exercise_interaction\", \"data\": {\"interactionType\": 3, \"questionType\": 4, \"questionId\": \"7.2_ThinkSwarm\", \"learnToolsVersion\": \"0.3.4\", \"valueTowardsCompletion\": 0.0, \"failureMessage\": \"\", \"exceptionClass\": \"\", \"trace\": \"\", \"outcomeType\": 4}}, \"*\")"
      ],
      "text/plain": [
       "<IPython.core.display.Javascript object>"
      ]
     },
     "metadata": {},
     "output_type": "display_data"
    },
    {
     "data": {
      "text/markdown": [
       "<span style=\"color:#33cc99\">Solution:</span> In this case, the categorical scatter plot from **Step 7** is the more appropriate plot. While both plots tell the desired story, the plot from **Step 6** conveys far more information that could distract from the main point."
      ],
      "text/plain": [
       "Solution: In this case, the categorical scatter plot from **Step 7** is the more appropriate plot. While both plots tell the desired story, the plot from **Step 6** conveys far more information that could distract from the main point."
      ]
     },
     "metadata": {},
     "output_type": "display_data"
    }
   ],
   "source": [
    "# Check your answer (Run this code cell to receive credit!)\n",
    "step_7.b.solution()"
   ]
  },
  {
   "cell_type": "markdown",
   "id": "e193d80f",
   "metadata": {
    "papermill": {
     "duration": 0.019155,
     "end_time": "2024-07-10T19:30:45.655882",
     "exception": false,
     "start_time": "2024-07-10T19:30:45.636727",
     "status": "completed"
    },
    "tags": []
   },
   "source": [
    "## Keep going\n",
    "\n",
    "Explore **[histograms and density plots](https://www.kaggle.com/alexisbcook/distributions)**."
   ]
  },
  {
   "cell_type": "markdown",
   "id": "95be26e0",
   "metadata": {
    "papermill": {
     "duration": 0.022465,
     "end_time": "2024-07-10T19:30:45.698057",
     "exception": false,
     "start_time": "2024-07-10T19:30:45.675592",
     "status": "completed"
    },
    "tags": []
   },
   "source": [
    "---\n",
    "\n",
    "\n",
    "\n",
    "\n",
    "*Have questions or comments? Visit the [course discussion forum](https://www.kaggle.com/learn/data-visualization/discussion) to chat with other learners.*"
   ]
  }
 ],
 "metadata": {
  "kaggle": {
   "accelerator": "none",
   "dataSources": [
    {
     "datasetId": 116573,
     "sourceId": 3551030,
     "sourceType": "datasetVersion"
    }
   ],
   "isGpuEnabled": false,
   "isInternetEnabled": false,
   "language": "python",
   "sourceType": "notebook"
  },
  "kernelspec": {
   "display_name": "Python 3",
   "language": "python",
   "name": "python3"
  },
  "language_info": {
   "codemirror_mode": {
    "name": "ipython",
    "version": 3
   },
   "file_extension": ".py",
   "mimetype": "text/x-python",
   "name": "python",
   "nbconvert_exporter": "python",
   "pygments_lexer": "ipython3",
   "version": "3.10.13"
  },
  "papermill": {
   "default_parameters": {},
   "duration": 9.314977,
   "end_time": "2024-07-10T19:30:46.343745",
   "environment_variables": {},
   "exception": null,
   "input_path": "__notebook__.ipynb",
   "output_path": "__notebook__.ipynb",
   "parameters": {},
   "start_time": "2024-07-10T19:30:37.028768",
   "version": "2.5.0"
  }
 },
 "nbformat": 4,
 "nbformat_minor": 5
}
