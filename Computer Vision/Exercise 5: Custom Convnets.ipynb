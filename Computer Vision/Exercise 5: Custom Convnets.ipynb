{
 "cells": [
  {
   "cell_type": "markdown",
   "id": "3d8efe4b",
   "metadata": {
    "papermill": {
     "duration": 0.006077,
     "end_time": "2025-07-19T10:10:11.193098",
     "exception": false,
     "start_time": "2025-07-19T10:10:11.187021",
     "status": "completed"
    },
    "tags": []
   },
   "source": [
    "**This notebook is an exercise in the [Computer Vision](https://www.kaggle.com/learn/computer-vision) course.  You can reference the tutorial at [this link](https://www.kaggle.com/ryanholbrook/custom-convnets).**\n",
    "\n",
    "---\n"
   ]
  },
  {
   "cell_type": "markdown",
   "id": "43cef7d8",
   "metadata": {
    "papermill": {
     "duration": 0.002965,
     "end_time": "2025-07-19T10:10:11.201753",
     "exception": false,
     "start_time": "2025-07-19T10:10:11.198788",
     "status": "completed"
    },
    "tags": []
   },
   "source": [
    "# Introduction #\n",
    "\n",
    "In these exercises, you'll build a custom convnet with performance competitive to the VGG16 model from Lesson 1.\n",
    "\n",
    "Get started by running the code cell below."
   ]
  },
  {
   "cell_type": "code",
   "execution_count": 1,
   "id": "ab32263d",
   "metadata": {
    "execution": {
     "iopub.execute_input": "2025-07-19T10:10:11.209366Z",
     "iopub.status.busy": "2025-07-19T10:10:11.208941Z",
     "iopub.status.idle": "2025-07-19T10:10:36.277985Z",
     "shell.execute_reply": "2025-07-19T10:10:36.277251Z"
    },
    "papermill": {
     "duration": 25.07528,
     "end_time": "2025-07-19T10:10:36.280027",
     "exception": false,
     "start_time": "2025-07-19T10:10:11.204747",
     "status": "completed"
    },
    "tags": []
   },
   "outputs": [
    {
     "name": "stderr",
     "output_type": "stream",
     "text": [
      "2025-07-19 10:10:13.760233: E external/local_xla/xla/stream_executor/cuda/cuda_dnn.cc:9261] Unable to register cuDNN factory: Attempting to register factory for plugin cuDNN when one has already been registered\n",
      "2025-07-19 10:10:13.760348: E external/local_xla/xla/stream_executor/cuda/cuda_fft.cc:607] Unable to register cuFFT factory: Attempting to register factory for plugin cuFFT when one has already been registered\n",
      "2025-07-19 10:10:13.875387: E external/local_xla/xla/stream_executor/cuda/cuda_blas.cc:1515] Unable to register cuBLAS factory: Attempting to register factory for plugin cuBLAS when one has already been registered\n"
     ]
    },
    {
     "name": "stdout",
     "output_type": "stream",
     "text": [
      "Found 5117 files belonging to 2 classes.\n",
      "Found 5051 files belonging to 2 classes.\n"
     ]
    }
   ],
   "source": [
    "# Setup feedback system\n",
    "from learntools.core import binder\n",
    "binder.bind(globals())\n",
    "from learntools.computer_vision.ex5 import *\n",
    "\n",
    "# Imports\n",
    "import os, warnings\n",
    "import matplotlib.pyplot as plt\n",
    "from matplotlib import gridspec\n",
    "\n",
    "import numpy as np\n",
    "import tensorflow as tf\n",
    "from tensorflow.keras.preprocessing import image_dataset_from_directory\n",
    "\n",
    "# Reproducability\n",
    "def set_seed(seed=31415):\n",
    "    np.random.seed(seed)\n",
    "    tf.random.set_seed(seed)\n",
    "    os.environ['PYTHONHASHSEED'] = str(seed)\n",
    "    os.environ['TF_DETERMINISTIC_OPS'] = '1'\n",
    "set_seed()\n",
    "\n",
    "# Set Matplotlib defaults\n",
    "plt.rc('figure', autolayout=True)\n",
    "plt.rc('axes', labelweight='bold', labelsize='large',\n",
    "       titleweight='bold', titlesize=18, titlepad=10)\n",
    "plt.rc('image', cmap='magma')\n",
    "warnings.filterwarnings(\"ignore\") # to clean up output cells\n",
    "\n",
    "\n",
    "# Load training and validation sets\n",
    "ds_train_ = image_dataset_from_directory(\n",
    "    '../input/car-or-truck/train',\n",
    "    labels='inferred',\n",
    "    label_mode='binary',\n",
    "    image_size=[128, 128],\n",
    "    interpolation='nearest',\n",
    "    batch_size=64,\n",
    "    shuffle=True,\n",
    ")\n",
    "ds_valid_ = image_dataset_from_directory(\n",
    "    '../input/car-or-truck/valid',\n",
    "    labels='inferred',\n",
    "    label_mode='binary',\n",
    "    image_size=[128, 128],\n",
    "    interpolation='nearest',\n",
    "    batch_size=64,\n",
    "    shuffle=False,\n",
    ")\n",
    "\n",
    "# Data Pipeline\n",
    "def convert_to_float(image, label):\n",
    "    image = tf.image.convert_image_dtype(image, dtype=tf.float32)\n",
    "    return image, label\n",
    "\n",
    "AUTOTUNE = tf.data.experimental.AUTOTUNE\n",
    "ds_train = (\n",
    "    ds_train_\n",
    "    .map(convert_to_float)\n",
    "    .cache()\n",
    "    .prefetch(buffer_size=AUTOTUNE)\n",
    ")\n",
    "ds_valid = (\n",
    "    ds_valid_\n",
    "    .map(convert_to_float)\n",
    "    .cache()\n",
    "    .prefetch(buffer_size=AUTOTUNE)\n",
    ")\n"
   ]
  },
  {
   "cell_type": "markdown",
   "id": "7f643b46",
   "metadata": {
    "papermill": {
     "duration": 0.002898,
     "end_time": "2025-07-19T10:10:36.286352",
     "exception": false,
     "start_time": "2025-07-19T10:10:36.283454",
     "status": "completed"
    },
    "tags": []
   },
   "source": [
    "# Design a Convnet #\n",
    "\n",
    "Let's design a convolutional network with a block architecture like we saw in the tutorial. The model from the example had three blocks, each with a single convolutional layer. Its performance on the \"Car or Truck\" problem was okay, but far from what the pretrained VGG16 could achieve. It might be that our simple network lacks the ability to extract sufficiently complex features. We could try improving the model either by adding more blocks or by adding convolutions to the blocks we have.\n",
    "\n",
    "Let's go with the second approach. We'll keep the three block structure, but increase the number of `Conv2D` layer in the second block to two, and in the third block to three.\n",
    "\n",
    "<figure>\n",
    "<!-- <img src=\"./images/2-convmodel-2.png\" width=\"250\" alt=\"Diagram of a convolutional model.\"> -->\n",
    "<img src=\"https://storage.googleapis.com/kaggle-media/learn/images/Vko6nCK.png\" width=\"250\" alt=\"Diagram of a convolutional model.\">\n",
    "</figure>\n",
    "\n",
    "# 1) Define Model #\n",
    "\n",
    "Given the diagram above, complete the model by defining the layers of the third block."
   ]
  },
  {
   "cell_type": "code",
   "execution_count": 2,
   "id": "8c42beaf",
   "metadata": {
    "execution": {
     "iopub.execute_input": "2025-07-19T10:10:36.293531Z",
     "iopub.status.busy": "2025-07-19T10:10:36.293248Z",
     "iopub.status.idle": "2025-07-19T10:10:36.427712Z",
     "shell.execute_reply": "2025-07-19T10:10:36.426828Z"
    },
    "lines_to_next_cell": 0,
    "papermill": {
     "duration": 0.140221,
     "end_time": "2025-07-19T10:10:36.429532",
     "exception": false,
     "start_time": "2025-07-19T10:10:36.289311",
     "status": "completed"
    },
    "tags": []
   },
   "outputs": [
    {
     "data": {
      "application/javascript": [
       "parent.postMessage({\"jupyterEvent\": \"custom.exercise_interaction\", \"data\": {\"outcomeType\": 1, \"valueTowardsCompletion\": 0.3333333333333333, \"interactionType\": 1, \"questionType\": 2, \"questionId\": \"1_Q1\", \"learnToolsVersion\": \"0.3.4\", \"failureMessage\": \"\", \"exceptionClass\": \"\", \"trace\": \"\"}}, \"*\")"
      ],
      "text/plain": [
       "<IPython.core.display.Javascript object>"
      ]
     },
     "metadata": {},
     "output_type": "display_data"
    },
    {
     "data": {
      "text/markdown": [
       "<span style=\"color:#33cc33\">Correct</span>"
      ],
      "text/plain": [
       "Correct"
      ]
     },
     "metadata": {},
     "output_type": "display_data"
    }
   ],
   "source": [
    "from tensorflow import keras\n",
    "from tensorflow.keras import layers\n",
    "\n",
    "model = keras.Sequential([\n",
    "    # Block One\n",
    "    layers.Conv2D(filters=32, kernel_size=3, activation='relu', padding='same',\n",
    "                  input_shape=[128, 128, 3]),\n",
    "    layers.MaxPool2D(),\n",
    "\n",
    "    # Block Two\n",
    "    layers.Conv2D(filters=64, kernel_size=3, activation='relu', padding='same'),\n",
    "    layers.MaxPool2D(),\n",
    "\n",
    "    # Block Three\n",
    "    # YOUR CODE HERE\n",
    "    layers.Conv2D(filters=128, kernel_size=3, activation='relu', padding='same'),\n",
    "    layers.Conv2D(filters=128, kernel_size=3, activation='relu', padding='same'),\n",
    "    layers.MaxPool2D(),\n",
    "\n",
    "    # Head\n",
    "    layers.Flatten(),\n",
    "    layers.Dense(6, activation='relu'),\n",
    "    layers.Dropout(0.2),\n",
    "    layers.Dense(1, activation='sigmoid'),\n",
    "])\n",
    "\n",
    "# Check your answer\n",
    "q_1.check()"
   ]
  },
  {
   "cell_type": "code",
   "execution_count": 3,
   "id": "f205e273",
   "metadata": {
    "execution": {
     "iopub.execute_input": "2025-07-19T10:10:36.438980Z",
     "iopub.status.busy": "2025-07-19T10:10:36.438726Z",
     "iopub.status.idle": "2025-07-19T10:10:36.442026Z",
     "shell.execute_reply": "2025-07-19T10:10:36.441416Z"
    },
    "papermill": {
     "duration": 0.010659,
     "end_time": "2025-07-19T10:10:36.443616",
     "exception": false,
     "start_time": "2025-07-19T10:10:36.432957",
     "status": "completed"
    },
    "tags": []
   },
   "outputs": [],
   "source": [
    "# Lines below will give you a hint or solution code\n",
    "#q_1.hint()\n",
    "#q_1.solution()"
   ]
  },
  {
   "cell_type": "markdown",
   "id": "c35e5a44",
   "metadata": {
    "papermill": {
     "duration": 0.00306,
     "end_time": "2025-07-19T10:10:36.449825",
     "exception": false,
     "start_time": "2025-07-19T10:10:36.446765",
     "status": "completed"
    },
    "tags": []
   },
   "source": [
    "# 2) Compile #\n",
    "\n",
    "To prepare for training, compile the model with an appropriate loss and accuracy metric for the \"Car or Truck\" dataset."
   ]
  },
  {
   "cell_type": "code",
   "execution_count": 4,
   "id": "5b9e1252",
   "metadata": {
    "execution": {
     "iopub.execute_input": "2025-07-19T10:10:36.457265Z",
     "iopub.status.busy": "2025-07-19T10:10:36.456778Z",
     "iopub.status.idle": "2025-07-19T10:10:36.650156Z",
     "shell.execute_reply": "2025-07-19T10:10:36.649355Z"
    },
    "lines_to_next_cell": 0,
    "papermill": {
     "duration": 0.199234,
     "end_time": "2025-07-19T10:10:36.652179",
     "exception": false,
     "start_time": "2025-07-19T10:10:36.452945",
     "status": "completed"
    },
    "tags": []
   },
   "outputs": [
    {
     "data": {
      "application/javascript": [
       "parent.postMessage({\"jupyterEvent\": \"custom.exercise_interaction\", \"data\": {\"outcomeType\": 1, \"valueTowardsCompletion\": 0.3333333333333333, \"interactionType\": 1, \"questionType\": 2, \"questionId\": \"2_Q2\", \"learnToolsVersion\": \"0.3.4\", \"failureMessage\": \"\", \"exceptionClass\": \"\", \"trace\": \"\"}}, \"*\")"
      ],
      "text/plain": [
       "<IPython.core.display.Javascript object>"
      ]
     },
     "metadata": {},
     "output_type": "display_data"
    },
    {
     "data": {
      "text/markdown": [
       "<span style=\"color:#33cc33\">Correct</span>"
      ],
      "text/plain": [
       "Correct"
      ]
     },
     "metadata": {},
     "output_type": "display_data"
    }
   ],
   "source": [
    "model.compile(\n",
    "    optimizer=tf.keras.optimizers.Adam(epsilon=0.01),\n",
    "    # YOUR CODE HERE: Add loss and metric\n",
    "    loss='binary_crossentropy',\n",
    "    metrics=['binary_accuracy']\n",
    ")\n",
    "\n",
    "# Check your answer\n",
    "q_2.check()"
   ]
  },
  {
   "cell_type": "code",
   "execution_count": 5,
   "id": "b486120c",
   "metadata": {
    "execution": {
     "iopub.execute_input": "2025-07-19T10:10:36.660765Z",
     "iopub.status.busy": "2025-07-19T10:10:36.660104Z",
     "iopub.status.idle": "2025-07-19T10:10:36.672152Z",
     "shell.execute_reply": "2025-07-19T10:10:36.671373Z"
    },
    "lines_to_next_cell": 0,
    "papermill": {
     "duration": 0.017988,
     "end_time": "2025-07-19T10:10:36.673795",
     "exception": false,
     "start_time": "2025-07-19T10:10:36.655807",
     "status": "completed"
    },
    "tags": []
   },
   "outputs": [
    {
     "data": {
      "application/javascript": [
       "parent.postMessage({\"jupyterEvent\": \"custom.exercise_interaction\", \"data\": {\"outcomeType\": 1, \"valueTowardsCompletion\": 0.3333333333333333, \"interactionType\": 1, \"questionType\": 2, \"questionId\": \"2_Q2\", \"learnToolsVersion\": \"0.3.4\", \"failureMessage\": \"\", \"exceptionClass\": \"\", \"trace\": \"\"}}, \"*\")"
      ],
      "text/plain": [
       "<IPython.core.display.Javascript object>"
      ]
     },
     "metadata": {},
     "output_type": "display_data"
    },
    {
     "data": {
      "text/markdown": [
       "<span style=\"color:#33cc33\">Correct</span>"
      ],
      "text/plain": [
       "Correct"
      ]
     },
     "metadata": {},
     "output_type": "display_data"
    }
   ],
   "source": [
    "model.compile(\n",
    "    optimizer=tf.keras.optimizers.Adam(epsilon=0.01),\n",
    "    loss='binary_crossentropy',\n",
    "    metrics=['binary_accuracy'],\n",
    ")\n",
    "q_2.assert_check_passed()"
   ]
  },
  {
   "cell_type": "code",
   "execution_count": 6,
   "id": "d167850d",
   "metadata": {
    "execution": {
     "iopub.execute_input": "2025-07-19T10:10:36.682182Z",
     "iopub.status.busy": "2025-07-19T10:10:36.681703Z",
     "iopub.status.idle": "2025-07-19T10:10:36.685097Z",
     "shell.execute_reply": "2025-07-19T10:10:36.684439Z"
    },
    "lines_to_next_cell": 0,
    "papermill": {
     "duration": 0.0093,
     "end_time": "2025-07-19T10:10:36.686732",
     "exception": false,
     "start_time": "2025-07-19T10:10:36.677432",
     "status": "completed"
    },
    "tags": []
   },
   "outputs": [],
   "source": [
    "# Lines below will give you a hint or solution code\n",
    "#q_2.hint()\n",
    "#q_2.solution()"
   ]
  },
  {
   "cell_type": "markdown",
   "id": "33830378",
   "metadata": {
    "papermill": {
     "duration": 0.003335,
     "end_time": "2025-07-19T10:10:36.693748",
     "exception": false,
     "start_time": "2025-07-19T10:10:36.690413",
     "status": "completed"
    },
    "tags": []
   },
   "source": [
    "Finally, let's test the performance of this new model. First run this cell to fit the model to the training set."
   ]
  },
  {
   "cell_type": "code",
   "execution_count": 7,
   "id": "68e358ae",
   "metadata": {
    "execution": {
     "iopub.execute_input": "2025-07-19T10:10:36.702834Z",
     "iopub.status.busy": "2025-07-19T10:10:36.702402Z",
     "iopub.status.idle": "2025-07-19T10:13:26.414671Z",
     "shell.execute_reply": "2025-07-19T10:13:26.413783Z"
    },
    "papermill": {
     "duration": 169.719181,
     "end_time": "2025-07-19T10:13:26.416479",
     "exception": false,
     "start_time": "2025-07-19T10:10:36.697298",
     "status": "completed"
    },
    "tags": []
   },
   "outputs": [
    {
     "name": "stdout",
     "output_type": "stream",
     "text": [
      "Epoch 1/50\n"
     ]
    },
    {
     "name": "stderr",
     "output_type": "stream",
     "text": [
      "WARNING: All log messages before absl::InitializeLog() is called are written to STDERR\n",
      "I0000 00:00:1752919840.772033      75 device_compiler.h:186] Compiled cluster using XLA!  This line is logged at most once for the lifetime of the process.\n"
     ]
    },
    {
     "name": "stdout",
     "output_type": "stream",
     "text": [
      "80/80 [==============================] - 15s 124ms/step - loss: 0.6792 - binary_accuracy: 0.5818 - val_loss: 0.6675 - val_binary_accuracy: 0.5793\n",
      "Epoch 2/50\n",
      "80/80 [==============================] - 3s 40ms/step - loss: 0.6639 - binary_accuracy: 0.6023 - val_loss: 0.6530 - val_binary_accuracy: 0.6272\n",
      "Epoch 3/50\n",
      "80/80 [==============================] - 3s 40ms/step - loss: 0.6570 - binary_accuracy: 0.6121 - val_loss: 0.6479 - val_binary_accuracy: 0.6363\n",
      "Epoch 4/50\n",
      "80/80 [==============================] - 3s 39ms/step - loss: 0.6510 - binary_accuracy: 0.6154 - val_loss: 0.6436 - val_binary_accuracy: 0.6415\n",
      "Epoch 5/50\n",
      "80/80 [==============================] - 3s 39ms/step - loss: 0.6378 - binary_accuracy: 0.6291 - val_loss: 0.6312 - val_binary_accuracy: 0.6320\n",
      "Epoch 6/50\n",
      "80/80 [==============================] - 3s 40ms/step - loss: 0.6229 - binary_accuracy: 0.6449 - val_loss: 0.6206 - val_binary_accuracy: 0.6482\n",
      "Epoch 7/50\n",
      "80/80 [==============================] - 3s 39ms/step - loss: 0.6117 - binary_accuracy: 0.6559 - val_loss: 0.6090 - val_binary_accuracy: 0.6646\n",
      "Epoch 8/50\n",
      "80/80 [==============================] - 3s 40ms/step - loss: 0.6017 - binary_accuracy: 0.6674 - val_loss: 0.5964 - val_binary_accuracy: 0.6834\n",
      "Epoch 9/50\n",
      "80/80 [==============================] - 3s 40ms/step - loss: 0.5957 - binary_accuracy: 0.6750 - val_loss: 0.6049 - val_binary_accuracy: 0.6632\n",
      "Epoch 10/50\n",
      "80/80 [==============================] - 3s 39ms/step - loss: 0.5790 - binary_accuracy: 0.6838 - val_loss: 0.5812 - val_binary_accuracy: 0.6925\n",
      "Epoch 11/50\n",
      "80/80 [==============================] - 3s 39ms/step - loss: 0.5729 - binary_accuracy: 0.6875 - val_loss: 0.5910 - val_binary_accuracy: 0.6846\n",
      "Epoch 12/50\n",
      "80/80 [==============================] - 3s 39ms/step - loss: 0.5600 - binary_accuracy: 0.7045 - val_loss: 0.5932 - val_binary_accuracy: 0.6844\n",
      "Epoch 13/50\n",
      "80/80 [==============================] - 3s 39ms/step - loss: 0.5414 - binary_accuracy: 0.7096 - val_loss: 0.5425 - val_binary_accuracy: 0.7270\n",
      "Epoch 14/50\n",
      "80/80 [==============================] - 3s 39ms/step - loss: 0.5281 - binary_accuracy: 0.7215 - val_loss: 0.5390 - val_binary_accuracy: 0.7300\n",
      "Epoch 15/50\n",
      "80/80 [==============================] - 3s 39ms/step - loss: 0.5061 - binary_accuracy: 0.7405 - val_loss: 0.5216 - val_binary_accuracy: 0.7466\n",
      "Epoch 16/50\n",
      "80/80 [==============================] - 3s 39ms/step - loss: 0.4900 - binary_accuracy: 0.7415 - val_loss: 0.5213 - val_binary_accuracy: 0.7460\n",
      "Epoch 17/50\n",
      "80/80 [==============================] - 3s 40ms/step - loss: 0.4669 - binary_accuracy: 0.7725 - val_loss: 0.4936 - val_binary_accuracy: 0.7634\n",
      "Epoch 18/50\n",
      "80/80 [==============================] - 3s 40ms/step - loss: 0.4549 - binary_accuracy: 0.7774 - val_loss: 0.4809 - val_binary_accuracy: 0.7741\n",
      "Epoch 19/50\n",
      "80/80 [==============================] - 3s 40ms/step - loss: 0.4187 - binary_accuracy: 0.8028 - val_loss: 0.4662 - val_binary_accuracy: 0.7767\n",
      "Epoch 20/50\n",
      "80/80 [==============================] - 3s 39ms/step - loss: 0.3961 - binary_accuracy: 0.8198 - val_loss: 0.4764 - val_binary_accuracy: 0.7763\n",
      "Epoch 21/50\n",
      "80/80 [==============================] - 3s 39ms/step - loss: 0.3793 - binary_accuracy: 0.8278 - val_loss: 0.4507 - val_binary_accuracy: 0.7955\n",
      "Epoch 22/50\n",
      "80/80 [==============================] - 3s 40ms/step - loss: 0.3556 - binary_accuracy: 0.8413 - val_loss: 0.4611 - val_binary_accuracy: 0.7800\n",
      "Epoch 23/50\n",
      "80/80 [==============================] - 3s 40ms/step - loss: 0.3314 - binary_accuracy: 0.8526 - val_loss: 0.4618 - val_binary_accuracy: 0.7832\n",
      "Epoch 24/50\n",
      "80/80 [==============================] - 3s 40ms/step - loss: 0.3034 - binary_accuracy: 0.8650 - val_loss: 0.4830 - val_binary_accuracy: 0.7890\n",
      "Epoch 25/50\n",
      "80/80 [==============================] - 3s 40ms/step - loss: 0.3115 - binary_accuracy: 0.8589 - val_loss: 0.4382 - val_binary_accuracy: 0.8008\n",
      "Epoch 26/50\n",
      "80/80 [==============================] - 3s 39ms/step - loss: 0.2632 - binary_accuracy: 0.8865 - val_loss: 0.4599 - val_binary_accuracy: 0.7931\n",
      "Epoch 27/50\n",
      "80/80 [==============================] - 3s 40ms/step - loss: 0.2558 - binary_accuracy: 0.8859 - val_loss: 0.4990 - val_binary_accuracy: 0.7862\n",
      "Epoch 28/50\n",
      "80/80 [==============================] - 3s 40ms/step - loss: 0.2311 - binary_accuracy: 0.9007 - val_loss: 0.5280 - val_binary_accuracy: 0.7927\n",
      "Epoch 29/50\n",
      "80/80 [==============================] - 3s 39ms/step - loss: 0.2142 - binary_accuracy: 0.9105 - val_loss: 0.5834 - val_binary_accuracy: 0.7836\n",
      "Epoch 30/50\n",
      "80/80 [==============================] - 3s 39ms/step - loss: 0.2422 - binary_accuracy: 0.8935 - val_loss: 0.4981 - val_binary_accuracy: 0.8052\n",
      "Epoch 31/50\n",
      "80/80 [==============================] - 3s 39ms/step - loss: 0.2256 - binary_accuracy: 0.9085 - val_loss: 0.5254 - val_binary_accuracy: 0.8183\n",
      "Epoch 32/50\n",
      "80/80 [==============================] - 3s 39ms/step - loss: 0.1920 - binary_accuracy: 0.9234 - val_loss: 0.5969 - val_binary_accuracy: 0.8076\n",
      "Epoch 33/50\n",
      "80/80 [==============================] - 3s 39ms/step - loss: 0.1884 - binary_accuracy: 0.9201 - val_loss: 0.5854 - val_binary_accuracy: 0.8198\n",
      "Epoch 34/50\n",
      "80/80 [==============================] - 3s 39ms/step - loss: 0.1504 - binary_accuracy: 0.9406 - val_loss: 0.6303 - val_binary_accuracy: 0.8163\n",
      "Epoch 35/50\n",
      "80/80 [==============================] - 3s 39ms/step - loss: 0.1420 - binary_accuracy: 0.9410 - val_loss: 0.6675 - val_binary_accuracy: 0.8139\n",
      "Epoch 36/50\n",
      "80/80 [==============================] - 3s 39ms/step - loss: 0.1123 - binary_accuracy: 0.9584 - val_loss: 0.6777 - val_binary_accuracy: 0.8163\n",
      "Epoch 37/50\n",
      "80/80 [==============================] - 3s 39ms/step - loss: 0.1337 - binary_accuracy: 0.9502 - val_loss: 0.6335 - val_binary_accuracy: 0.8256\n",
      "Epoch 38/50\n",
      "80/80 [==============================] - 3s 40ms/step - loss: 0.1198 - binary_accuracy: 0.9531 - val_loss: 0.7255 - val_binary_accuracy: 0.8103\n",
      "Epoch 39/50\n",
      "80/80 [==============================] - 3s 39ms/step - loss: 0.1091 - binary_accuracy: 0.9605 - val_loss: 0.9113 - val_binary_accuracy: 0.7856\n",
      "Epoch 40/50\n",
      "80/80 [==============================] - 3s 39ms/step - loss: 0.0976 - binary_accuracy: 0.9652 - val_loss: 0.7088 - val_binary_accuracy: 0.8127\n",
      "Epoch 41/50\n",
      "80/80 [==============================] - 3s 39ms/step - loss: 0.1151 - binary_accuracy: 0.9554 - val_loss: 0.6550 - val_binary_accuracy: 0.8240\n",
      "Epoch 42/50\n",
      "80/80 [==============================] - 3s 39ms/step - loss: 0.1216 - binary_accuracy: 0.9525 - val_loss: 0.6078 - val_binary_accuracy: 0.8317\n",
      "Epoch 43/50\n",
      "80/80 [==============================] - 3s 39ms/step - loss: 0.1091 - binary_accuracy: 0.9568 - val_loss: 0.6825 - val_binary_accuracy: 0.7990\n",
      "Epoch 44/50\n",
      "80/80 [==============================] - 3s 39ms/step - loss: 0.1051 - binary_accuracy: 0.9637 - val_loss: 0.7197 - val_binary_accuracy: 0.7933\n",
      "Epoch 45/50\n",
      "80/80 [==============================] - 3s 39ms/step - loss: 0.1109 - binary_accuracy: 0.9613 - val_loss: 0.6797 - val_binary_accuracy: 0.8141\n",
      "Epoch 46/50\n",
      "80/80 [==============================] - 3s 39ms/step - loss: 0.0746 - binary_accuracy: 0.9717 - val_loss: 0.7101 - val_binary_accuracy: 0.8236\n",
      "Epoch 47/50\n",
      "80/80 [==============================] - 3s 39ms/step - loss: 0.0663 - binary_accuracy: 0.9764 - val_loss: 0.7101 - val_binary_accuracy: 0.8317\n",
      "Epoch 48/50\n",
      "80/80 [==============================] - 3s 39ms/step - loss: 0.0636 - binary_accuracy: 0.9769 - val_loss: 0.7513 - val_binary_accuracy: 0.8388\n",
      "Epoch 49/50\n",
      "80/80 [==============================] - 3s 39ms/step - loss: 0.0547 - binary_accuracy: 0.9816 - val_loss: 0.7776 - val_binary_accuracy: 0.8351\n",
      "Epoch 50/50\n",
      "80/80 [==============================] - 3s 39ms/step - loss: 0.0434 - binary_accuracy: 0.9853 - val_loss: 0.8116 - val_binary_accuracy: 0.8481\n"
     ]
    }
   ],
   "source": [
    "history = model.fit(\n",
    "    ds_train,\n",
    "    validation_data=ds_valid,\n",
    "    epochs=50,\n",
    ")"
   ]
  },
  {
   "cell_type": "markdown",
   "id": "ddd99085",
   "metadata": {
    "papermill": {
     "duration": 0.094177,
     "end_time": "2025-07-19T10:13:26.649388",
     "exception": false,
     "start_time": "2025-07-19T10:13:26.555211",
     "status": "completed"
    },
    "tags": []
   },
   "source": [
    "And now run the cell below to plot the loss and metric curves for this training run."
   ]
  },
  {
   "cell_type": "code",
   "execution_count": 8,
   "id": "66b6392f",
   "metadata": {
    "execution": {
     "iopub.execute_input": "2025-07-19T10:13:26.838603Z",
     "iopub.status.busy": "2025-07-19T10:13:26.838307Z",
     "iopub.status.idle": "2025-07-19T10:13:27.348353Z",
     "shell.execute_reply": "2025-07-19T10:13:27.347488Z"
    },
    "papermill": {
     "duration": 0.606875,
     "end_time": "2025-07-19T10:13:27.350004",
     "exception": false,
     "start_time": "2025-07-19T10:13:26.743129",
     "status": "completed"
    },
    "tags": []
   },
   "outputs": [
    {
     "data": {
      "image/png": "[encoded data removed]",
      "text/plain": [
       "<Figure size 640x480 with 1 Axes>"
      ]
     },
     "metadata": {},
     "output_type": "display_data"
    },
    {
     "data": {
      "image/png": "[encoded data removed]",
      "text/plain": [
       "<Figure size 640x480 with 1 Axes>"
      ]
     },
     "metadata": {},
     "output_type": "display_data"
    }
   ],
   "source": [
    "import pandas as pd\n",
    "history_frame = pd.DataFrame(history.history)\n",
    "history_frame.loc[:, ['loss', 'val_loss']].plot()\n",
    "history_frame.loc[:, ['binary_accuracy', 'val_binary_accuracy']].plot();"
   ]
  },
  {
   "cell_type": "markdown",
   "id": "663acfa5",
   "metadata": {
    "papermill": {
     "duration": 0.095397,
     "end_time": "2025-07-19T10:13:27.540019",
     "exception": false,
     "start_time": "2025-07-19T10:13:27.444622",
     "status": "completed"
    },
    "tags": []
   },
   "source": [
    "# 3) Train the Model #\n",
    "\n",
    "How would you interpret these training curves? Did this model improve upon the model from the tutorial?"
   ]
  },
  {
   "cell_type": "code",
   "execution_count": 9,
   "id": "7cb0a960",
   "metadata": {
    "execution": {
     "iopub.execute_input": "2025-07-19T10:13:27.730916Z",
     "iopub.status.busy": "2025-07-19T10:13:27.730139Z",
     "iopub.status.idle": "2025-07-19T10:13:27.736797Z",
     "shell.execute_reply": "2025-07-19T10:13:27.736019Z"
    },
    "lines_to_next_cell": 0,
    "papermill": {
     "duration": 0.103993,
     "end_time": "2025-07-19T10:13:27.738361",
     "exception": false,
     "start_time": "2025-07-19T10:13:27.634368",
     "status": "completed"
    },
    "tags": []
   },
   "outputs": [
    {
     "data": {
      "application/javascript": [
       "parent.postMessage({\"jupyterEvent\": \"custom.exercise_interaction\", \"data\": {\"outcomeType\": 1, \"valueTowardsCompletion\": 0.3333333333333333, \"interactionType\": 1, \"questionType\": 4, \"questionId\": \"3_Q3\", \"learnToolsVersion\": \"0.3.4\", \"failureMessage\": \"\", \"exceptionClass\": \"\", \"trace\": \"\"}}, \"*\")"
      ],
      "text/plain": [
       "<IPython.core.display.Javascript object>"
      ]
     },
     "metadata": {},
     "output_type": "display_data"
    },
    {
     "data": {
      "text/markdown": [
       "<span style=\"color:#33cc33\">Correct:</span> \n",
       "\n",
       "\n",
       "The learning curves for the model from the tutorial diverged fairly rapidly. This would indicate that it was prone to overfitting and in need of some regularization. The additional layer in our new model would make it even more prone to overfitting. However, adding some regularization with the `Dropout` layer helped prevent this. These changes improved the validation accuracy of the model by several points.\n"
      ],
      "text/plain": [
       "Correct: \n",
       "\n",
       "\n",
       "The learning curves for the model from the tutorial diverged fairly rapidly. This would indicate that it was prone to overfitting and in need of some regularization. The additional layer in our new model would make it even more prone to overfitting. However, adding some regularization with the `Dropout` layer helped prevent this. These changes improved the validation accuracy of the model by several points."
      ]
     },
     "metadata": {},
     "output_type": "display_data"
    }
   ],
   "source": [
    "# View the solution (Run this code cell to receive credit!)\n",
    "q_3.check()"
   ]
  },
  {
   "cell_type": "markdown",
   "id": "fd7b00a9",
   "metadata": {
    "papermill": {
     "duration": 0.095243,
     "end_time": "2025-07-19T10:13:27.927702",
     "exception": false,
     "start_time": "2025-07-19T10:13:27.832459",
     "status": "completed"
    },
    "tags": []
   },
   "source": [
    "# Conclusion #\n",
    "\n",
    "These exercises showed you how to design a custom convolutional network to solve a specific classification problem. Though most models these days will be built on top of a pretrained base, it certain circumstances a smaller custom convnet might still be preferable -- such as with a smaller or unusual dataset or when computing resources are very limited. As you saw here, for certain problems they can perform just as well as a pretrained model.\n",
    "\n",
    "# Keep Going #\n",
    "\n",
    "Continue on to [**Lesson 6**](https://www.kaggle.com/ryanholbrook/data-augmentation), where you'll learn a widely-used technique that can give a boost to your training data: **data augmentation**."
   ]
  },
  {
   "cell_type": "markdown",
   "id": "ff8a0aa1",
   "metadata": {
    "papermill": {
     "duration": 0.093804,
     "end_time": "2025-07-19T10:13:28.116568",
     "exception": false,
     "start_time": "2025-07-19T10:13:28.022764",
     "status": "completed"
    },
    "tags": []
   },
   "source": [
    "---\n",
    "\n",
    "\n",
    "\n",
    "\n",
    "*Have questions or comments? Visit the [course discussion forum](https://www.kaggle.com/learn/computer-vision/discussion) to chat with other learners.*"
   ]
  }
 ],
 "metadata": {
  "jupytext": {
   "formats": "md,ipynb"
  },
  "kaggle": {
   "accelerator": "gpu",
   "dataSources": [
    {
     "datasetId": 708136,
     "sourceId": 1338830,
     "sourceType": "datasetVersion"
    },
    {
     "datasetId": 701538,
     "sourceId": 1363948,
     "sourceType": "datasetVersion"
    },
    {
     "datasetId": 878523,
     "sourceId": 1495782,
     "sourceType": "datasetVersion"
    }
   ],
   "dockerImageVersionId": 30648,
   "isGpuEnabled": true,
   "isInternetEnabled": false,
   "language": "python",
   "sourceType": "notebook"
  },
  "kernelspec": {
   "display_name": "Python 3",
   "language": "python",
   "name": "python3"
  },
  "language_info": {
   "codemirror_mode": {
    "name": "ipython",
    "version": 3
   },
   "file_extension": ".py",
   "mimetype": "text/x-python",
   "name": "python",
   "nbconvert_exporter": "python",
   "pygments_lexer": "ipython3",
   "version": "3.10.13"
  },
  "papermill": {
   "default_parameters": {},
   "duration": 202.165662,
   "end_time": "2025-07-19T10:13:30.821109",
   "environment_variables": {},
   "exception": null,
   "input_path": "__notebook__.ipynb",
   "output_path": "__notebook__.ipynb",
   "parameters": {},
   "start_time": "2025-07-19T10:10:08.655447",
   "version": "2.5.0"
  }
 },
 "nbformat": 4,
 "nbformat_minor": 5
}
