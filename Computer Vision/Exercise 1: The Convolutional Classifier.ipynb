{
 "cells": [
  {
   "cell_type": "markdown",
   "id": "e2744fd3",
   "metadata": {
    "papermill": {
     "duration": 0.005305,
     "end_time": "2025-07-19T06:30:14.964122",
     "exception": false,
     "start_time": "2025-07-19T06:30:14.958817",
     "status": "completed"
    },
    "tags": []
   },
   "source": [
    "**This notebook is an exercise in the [Computer Vision](https://www.kaggle.com/learn/computer-vision) course.  You can reference the tutorial at [this link](https://www.kaggle.com/ryanholbrook/the-convolutional-classifier).**\n",
    "\n",
    "---\n"
   ]
  },
  {
   "cell_type": "markdown",
   "id": "86263e8d",
   "metadata": {
    "papermill": {
     "duration": 0.003297,
     "end_time": "2025-07-19T06:30:14.971043",
     "exception": false,
     "start_time": "2025-07-19T06:30:14.967746",
     "status": "completed"
    },
    "tags": []
   },
   "source": [
    "<blockquote style=\"margin-right:auto; margin-left:auto; padding: 1em; margin:24px;\">\n",
    "    <strong>Accelerate Training with a Kaggle GPU!</strong><br>\n",
    "Did you know Kaggle offers free time with a GPU accelerator? You can speed up training neural networks in this course by switching to <strong>GPU</strong> in the <em>Accelerator</em> option on the right. (It may already be turned on.) Two things to be aware of:\n",
    "<ul>\n",
    "<li>Changing the <em>Accelerator</em> option will cause the notebook session to restart. You'll need to rerun any setup code.\n",
    "<li>You can have only one GPU session at a time, so be sure to shut the notebook down after you've finished the exercise.\n",
    "</ul>\n",
    "</blockquote>"
   ]
  },
  {
   "cell_type": "markdown",
   "id": "1666e048",
   "metadata": {
    "papermill": {
     "duration": 0.003183,
     "end_time": "2025-07-19T06:30:14.977745",
     "exception": false,
     "start_time": "2025-07-19T06:30:14.974562",
     "status": "completed"
    },
    "tags": []
   },
   "source": [
    "# Introduction #\n",
    "\n",
    "In the tutorial, we saw how to build an image classifier by attaching a head of dense layers to a pretrained base. The base we used was from a model called **VGG16**. We saw that the VGG16 architecture was prone to overfitting this dataset. Over this course, you'll learn a number of ways you can improve upon this initial attempt.\n",
    "\n",
    "The first way you'll see is to use a base more appropriate to the dataset. The base this model comes from is called **InceptionV1** (also known as GoogLeNet). InceptionV1 was one of the early winners of the ImageNet competition. One of its successors, InceptionV4, is among the state of the art today.\n",
    "\n",
    "To get started, run the code cell below to set everything up."
   ]
  },
  {
   "cell_type": "code",
   "execution_count": 1,
   "id": "7958097a",
   "metadata": {
    "execution": {
     "iopub.execute_input": "2025-07-19T06:30:14.985451Z",
     "iopub.status.busy": "2025-07-19T06:30:14.985212Z",
     "iopub.status.idle": "2025-07-19T06:30:39.596761Z",
     "shell.execute_reply": "2025-07-19T06:30:39.596069Z"
    },
    "lines_to_next_cell": 2,
    "papermill": {
     "duration": 24.61761,
     "end_time": "2025-07-19T06:30:39.598661",
     "exception": false,
     "start_time": "2025-07-19T06:30:14.981051",
     "status": "completed"
    },
    "tags": []
   },
   "outputs": [
    {
     "name": "stderr",
     "output_type": "stream",
     "text": [
      "2025-07-19 06:30:17.571135: E external/local_xla/xla/stream_executor/cuda/cuda_dnn.cc:9261] Unable to register cuDNN factory: Attempting to register factory for plugin cuDNN when one has already been registered\n",
      "2025-07-19 06:30:17.571252: E external/local_xla/xla/stream_executor/cuda/cuda_fft.cc:607] Unable to register cuFFT factory: Attempting to register factory for plugin cuFFT when one has already been registered\n",
      "2025-07-19 06:30:17.714051: E external/local_xla/xla/stream_executor/cuda/cuda_blas.cc:1515] Unable to register cuBLAS factory: Attempting to register factory for plugin cuBLAS when one has already been registered\n"
     ]
    },
    {
     "name": "stdout",
     "output_type": "stream",
     "text": [
      "Found 5117 files belonging to 2 classes.\n",
      "Found 5051 files belonging to 2 classes.\n"
     ]
    }
   ],
   "source": [
    "# Setup feedback system\n",
    "from learntools.core import binder\n",
    "binder.bind(globals())\n",
    "from learntools.computer_vision.ex1 import *\n",
    "\n",
    "# Imports\n",
    "import os, warnings\n",
    "import matplotlib.pyplot as plt\n",
    "from matplotlib import gridspec\n",
    "\n",
    "import numpy as np\n",
    "import tensorflow as tf\n",
    "from tensorflow.keras.preprocessing import image_dataset_from_directory\n",
    "\n",
    "# Reproducability\n",
    "def set_seed(seed=31415):\n",
    "    np.random.seed(seed)\n",
    "    tf.random.set_seed(seed)\n",
    "    os.environ['PYTHONHASHSEED'] = str(seed)\n",
    "    os.environ['TF_DETERMINISTIC_OPS'] = '1'\n",
    "set_seed()\n",
    "\n",
    "# Set Matplotlib defaults\n",
    "plt.rc('figure', autolayout=True)\n",
    "plt.rc('axes', labelweight='bold', labelsize='large',\n",
    "       titleweight='bold', titlesize=18, titlepad=10)\n",
    "plt.rc('image', cmap='magma')\n",
    "warnings.filterwarnings(\"ignore\") # to clean up output cells\n",
    "\n",
    "\n",
    "# Load training and validation sets\n",
    "ds_train_ = image_dataset_from_directory(\n",
    "    '../input/car-or-truck/train',\n",
    "    labels='inferred',\n",
    "    label_mode='binary',\n",
    "    image_size=[128, 128],\n",
    "    interpolation='nearest',\n",
    "    batch_size=64,\n",
    "    shuffle=True,\n",
    ")\n",
    "ds_valid_ = image_dataset_from_directory(\n",
    "    '../input/car-or-truck/valid',\n",
    "    labels='inferred',\n",
    "    label_mode='binary',\n",
    "    image_size=[128, 128],\n",
    "    interpolation='nearest',\n",
    "    batch_size=64,\n",
    "    shuffle=False,\n",
    ")\n",
    "\n",
    "# Data Pipeline\n",
    "def convert_to_float(image, label):\n",
    "    image = tf.image.convert_image_dtype(image, dtype=tf.float32)\n",
    "    return image, label\n",
    "\n",
    "AUTOTUNE = tf.data.experimental.AUTOTUNE\n",
    "ds_train = (\n",
    "    ds_train_\n",
    "    .map(convert_to_float)\n",
    "    .cache()\n",
    "    .prefetch(buffer_size=AUTOTUNE)\n",
    ")\n",
    "ds_valid = (\n",
    "    ds_valid_\n",
    "    .map(convert_to_float)\n",
    "    .cache()\n",
    "    .prefetch(buffer_size=AUTOTUNE)\n",
    ")\n"
   ]
  },
  {
   "cell_type": "markdown",
   "id": "cf29a117",
   "metadata": {
    "papermill": {
     "duration": 0.003561,
     "end_time": "2025-07-19T06:30:39.606071",
     "exception": false,
     "start_time": "2025-07-19T06:30:39.602510",
     "status": "completed"
    },
    "tags": []
   },
   "source": [
    "The **InceptionV1** model pretrained on ImageNet is available in the [TensorFlow Hub](https://www.tensorflow.org/hub/) repository, but we'll load it from a local copy. Run this cell to load InceptionV1 for your base."
   ]
  },
  {
   "cell_type": "code",
   "execution_count": 2,
   "id": "f090b458",
   "metadata": {
    "execution": {
     "iopub.execute_input": "2025-07-19T06:30:39.613949Z",
     "iopub.status.busy": "2025-07-19T06:30:39.613691Z",
     "iopub.status.idle": "2025-07-19T06:30:42.924228Z",
     "shell.execute_reply": "2025-07-19T06:30:42.923207Z"
    },
    "lines_to_next_cell": 0,
    "papermill": {
     "duration": 3.316862,
     "end_time": "2025-07-19T06:30:42.926405",
     "exception": false,
     "start_time": "2025-07-19T06:30:39.609543",
     "status": "completed"
    },
    "tags": []
   },
   "outputs": [],
   "source": [
    "import tensorflow_hub as hub\n",
    "\n",
    "pretrained_base = tf.keras.models.load_model(\n",
    "    '../input/cv-course-models/cv-course-models/inceptionv1'\n",
    ")"
   ]
  },
  {
   "cell_type": "markdown",
   "id": "e7b43b87",
   "metadata": {
    "papermill": {
     "duration": 0.003748,
     "end_time": "2025-07-19T06:30:42.934289",
     "exception": false,
     "start_time": "2025-07-19T06:30:42.930541",
     "status": "completed"
    },
    "tags": []
   },
   "source": [
    "# 1) Define Pretrained Base #\n",
    "\n",
    "Now that you have a pretrained base to do our feature extraction, decide whether this base should be trainable or not."
   ]
  },
  {
   "cell_type": "code",
   "execution_count": 3,
   "id": "7698b3f8",
   "metadata": {
    "execution": {
     "iopub.execute_input": "2025-07-19T06:30:42.942669Z",
     "iopub.status.busy": "2025-07-19T06:30:42.942394Z",
     "iopub.status.idle": "2025-07-19T06:30:42.950268Z",
     "shell.execute_reply": "2025-07-19T06:30:42.949391Z"
    },
    "lines_to_next_cell": 0,
    "papermill": {
     "duration": 0.013907,
     "end_time": "2025-07-19T06:30:42.951827",
     "exception": false,
     "start_time": "2025-07-19T06:30:42.937920",
     "status": "completed"
    },
    "tags": []
   },
   "outputs": [
    {
     "data": {
      "application/javascript": [
       "parent.postMessage({\"jupyterEvent\": \"custom.exercise_interaction\", \"data\": {\"outcomeType\": 1, \"valueTowardsCompletion\": 0.25, \"interactionType\": 1, \"questionType\": 2, \"questionId\": \"1_Q1\", \"learnToolsVersion\": \"0.3.4\", \"failureMessage\": \"\", \"exceptionClass\": \"\", \"trace\": \"\"}}, \"*\")"
      ],
      "text/plain": [
       "<IPython.core.display.Javascript object>"
      ]
     },
     "metadata": {},
     "output_type": "display_data"
    },
    {
     "data": {
      "text/markdown": [
       "<span style=\"color:#33cc33\">Correct:</span> When doing transfer learning, it's generally not a good idea to retrain the entire base -- at least not without some care. The reason is that the random weights in the head will initially create large gradient updates, which propogate back into the base layers and destroy much of the pretraining. Using techniques known as **fine tuning** it's possible to further train the base on new data, but this requires some care to do well."
      ],
      "text/plain": [
       "Correct: When doing transfer learning, it's generally not a good idea to retrain the entire base -- at least not without some care. The reason is that the random weights in the head will initially create large gradient updates, which propogate back into the base layers and destroy much of the pretraining. Using techniques known as **fine tuning** it's possible to further train the base on new data, but this requires some care to do well."
      ]
     },
     "metadata": {},
     "output_type": "display_data"
    }
   ],
   "source": [
    "# YOUR_CODE_HERE\n",
    "pretrained_base.trainable = False\n",
    "\n",
    "# Check your answer\n",
    "q_1.check()"
   ]
  },
  {
   "cell_type": "code",
   "execution_count": 4,
   "id": "38e0e6cd",
   "metadata": {
    "execution": {
     "iopub.execute_input": "2025-07-19T06:30:42.960101Z",
     "iopub.status.busy": "2025-07-19T06:30:42.959825Z",
     "iopub.status.idle": "2025-07-19T06:30:42.963014Z",
     "shell.execute_reply": "2025-07-19T06:30:42.962290Z"
    },
    "papermill": {
     "duration": 0.009131,
     "end_time": "2025-07-19T06:30:42.964626",
     "exception": false,
     "start_time": "2025-07-19T06:30:42.955495",
     "status": "completed"
    },
    "tags": []
   },
   "outputs": [],
   "source": [
    "# Lines below will give you a hint or solution code\n",
    "#q_1.hint()\n",
    "# q_1.solution()"
   ]
  },
  {
   "cell_type": "markdown",
   "id": "f091b1dc",
   "metadata": {
    "papermill": {
     "duration": 0.003606,
     "end_time": "2025-07-19T06:30:42.972981",
     "exception": false,
     "start_time": "2025-07-19T06:30:42.969375",
     "status": "completed"
    },
    "tags": []
   },
   "source": [
    "# 2) Attach Head #\n",
    "\n",
    "Now that the base is defined to do the feature extraction, create a head of `Dense` layers to perform the classification, following this diagram:\n",
    "\n",
    "<figure>\n",
    "<img src=\"https://storage.googleapis.com/kaggle-media/learn/images/i5VU7Ry.png\" alt=\"Diagram of the dense head.\">\n",
    "</figure>\n"
   ]
  },
  {
   "cell_type": "code",
   "execution_count": 5,
   "id": "68b7f28d",
   "metadata": {
    "execution": {
     "iopub.execute_input": "2025-07-19T06:30:42.981512Z",
     "iopub.status.busy": "2025-07-19T06:30:42.981016Z",
     "iopub.status.idle": "2025-07-19T06:30:42.996638Z",
     "shell.execute_reply": "2025-07-19T06:30:42.995872Z"
    },
    "lines_to_next_cell": 0,
    "papermill": {
     "duration": 0.021494,
     "end_time": "2025-07-19T06:30:42.998138",
     "exception": false,
     "start_time": "2025-07-19T06:30:42.976644",
     "status": "completed"
    },
    "tags": []
   },
   "outputs": [
    {
     "data": {
      "application/javascript": [
       "parent.postMessage({\"jupyterEvent\": \"custom.exercise_interaction\", \"data\": {\"outcomeType\": 1, \"valueTowardsCompletion\": 0.25, \"interactionType\": 1, \"questionType\": 2, \"questionId\": \"2_Q2\", \"learnToolsVersion\": \"0.3.4\", \"failureMessage\": \"\", \"exceptionClass\": \"\", \"trace\": \"\"}}, \"*\")"
      ],
      "text/plain": [
       "<IPython.core.display.Javascript object>"
      ]
     },
     "metadata": {},
     "output_type": "display_data"
    },
    {
     "data": {
      "text/markdown": [
       "<span style=\"color:#33cc33\">Correct</span>"
      ],
      "text/plain": [
       "Correct"
      ]
     },
     "metadata": {},
     "output_type": "display_data"
    }
   ],
   "source": [
    "from tensorflow import keras\n",
    "from tensorflow.keras import layers\n",
    "\n",
    "model = keras.Sequential([\n",
    "    pretrained_base,\n",
    "    layers.Flatten(),\n",
    "    # YOUR CODE HERE. Attach a head of dense layers.\n",
    "    layers.Dense(6, activation='relu'),\n",
    "    layers.Dense(1, activation='sigmoid')\n",
    "])\n",
    "\n",
    "# Check your answer\n",
    "q_2.check()"
   ]
  },
  {
   "cell_type": "code",
   "execution_count": 6,
   "id": "483b5217",
   "metadata": {
    "execution": {
     "iopub.execute_input": "2025-07-19T06:30:43.006990Z",
     "iopub.status.busy": "2025-07-19T06:30:43.006375Z",
     "iopub.status.idle": "2025-07-19T06:30:43.009572Z",
     "shell.execute_reply": "2025-07-19T06:30:43.008895Z"
    },
    "papermill": {
     "duration": 0.009248,
     "end_time": "2025-07-19T06:30:43.011208",
     "exception": false,
     "start_time": "2025-07-19T06:30:43.001960",
     "status": "completed"
    },
    "tags": []
   },
   "outputs": [],
   "source": [
    "# Lines below will give you a hint or solution code\n",
    "#q_2.hint()\n",
    "#q_2.solution()"
   ]
  },
  {
   "cell_type": "markdown",
   "id": "5a972cdc",
   "metadata": {
    "papermill": {
     "duration": 0.003656,
     "end_time": "2025-07-19T06:30:43.018739",
     "exception": false,
     "start_time": "2025-07-19T06:30:43.015083",
     "status": "completed"
    },
    "tags": []
   },
   "source": [
    "# 3) Train #\n",
    "\n",
    "Before training a model in Keras, you need to specify an *optimizer* to perform the gradient descent, a *loss function* to be minimized, and (optionally) any *performance metrics*. The optimization algorithm we'll use for this course is called [\"Adam\"](https://keras.io/api/optimizers/adam/), which generally performs well regardless of what kind of problem you're trying to solve.\n",
    "\n",
    "The loss and the metrics, however, need to match the kind of problem you're trying to solve. Our problem is a **binary classification** problem: `Car` coded as 0, and `Truck` coded as 1. Choose an appropriate loss and an appropriate accuracy metric for binary classification."
   ]
  },
  {
   "cell_type": "code",
   "execution_count": 7,
   "id": "35208da7",
   "metadata": {
    "execution": {
     "iopub.execute_input": "2025-07-19T06:30:43.027362Z",
     "iopub.status.busy": "2025-07-19T06:30:43.027131Z",
     "iopub.status.idle": "2025-07-19T06:30:43.052312Z",
     "shell.execute_reply": "2025-07-19T06:30:43.051512Z"
    },
    "lines_to_next_cell": 0,
    "papermill": {
     "duration": 0.031248,
     "end_time": "2025-07-19T06:30:43.053899",
     "exception": false,
     "start_time": "2025-07-19T06:30:43.022651",
     "status": "completed"
    },
    "tags": []
   },
   "outputs": [
    {
     "data": {
      "application/javascript": [
       "parent.postMessage({\"jupyterEvent\": \"custom.exercise_interaction\", \"data\": {\"outcomeType\": 1, \"valueTowardsCompletion\": 0.25, \"interactionType\": 1, \"questionType\": 2, \"questionId\": \"3_Q3\", \"learnToolsVersion\": \"0.3.4\", \"failureMessage\": \"\", \"exceptionClass\": \"\", \"trace\": \"\"}}, \"*\")"
      ],
      "text/plain": [
       "<IPython.core.display.Javascript object>"
      ]
     },
     "metadata": {},
     "output_type": "display_data"
    },
    {
     "data": {
      "text/markdown": [
       "<span style=\"color:#33cc33\">Correct</span>"
      ],
      "text/plain": [
       "Correct"
      ]
     },
     "metadata": {},
     "output_type": "display_data"
    }
   ],
   "source": [
    "# YOUR CODE HERE: what loss function should you use for a binary\n",
    "# classification problem? (Your answer for each should be a string.)\n",
    "optimizer = tf.keras.optimizers.Adam(epsilon=0.01)\n",
    "model.compile(\n",
    "    optimizer=optimizer,\n",
    "    loss = 'binary_crossentropy',\n",
    "    metrics=['binary_accuracy'],\n",
    ")\n",
    "\n",
    "# Check your answer\n",
    "q_3.check()"
   ]
  },
  {
   "cell_type": "code",
   "execution_count": 8,
   "id": "e5fefc8f",
   "metadata": {
    "execution": {
     "iopub.execute_input": "2025-07-19T06:30:43.062776Z",
     "iopub.status.busy": "2025-07-19T06:30:43.062573Z",
     "iopub.status.idle": "2025-07-19T06:30:43.065818Z",
     "shell.execute_reply": "2025-07-19T06:30:43.065132Z"
    },
    "lines_to_next_cell": 0,
    "papermill": {
     "duration": 0.009371,
     "end_time": "2025-07-19T06:30:43.067337",
     "exception": false,
     "start_time": "2025-07-19T06:30:43.057966",
     "status": "completed"
    },
    "tags": []
   },
   "outputs": [],
   "source": [
    "# Lines below will give you a hint or solution code\n",
    "#q_3.hint()\n",
    "#q_3.solution()"
   ]
  },
  {
   "cell_type": "code",
   "execution_count": 9,
   "id": "5a21ef5a",
   "metadata": {
    "execution": {
     "iopub.execute_input": "2025-07-19T06:30:43.076547Z",
     "iopub.status.busy": "2025-07-19T06:30:43.076321Z",
     "iopub.status.idle": "2025-07-19T06:32:37.531684Z",
     "shell.execute_reply": "2025-07-19T06:32:37.530697Z"
    },
    "papermill": {
     "duration": 114.461918,
     "end_time": "2025-07-19T06:32:37.533388",
     "exception": false,
     "start_time": "2025-07-19T06:30:43.071470",
     "status": "completed"
    },
    "tags": []
   },
   "outputs": [
    {
     "name": "stdout",
     "output_type": "stream",
     "text": [
      "Epoch 1/30\n"
     ]
    },
    {
     "name": "stderr",
     "output_type": "stream",
     "text": [
      "WARNING: All log messages before absl::InitializeLog() is called are written to STDERR\n",
      "I0000 00:00:1752906650.026790      73 device_compiler.h:186] Compiled cluster using XLA!  This line is logged at most once for the lifetime of the process.\n"
     ]
    },
    {
     "name": "stdout",
     "output_type": "stream",
     "text": [
      "80/80 [==============================] - 18s 135ms/step - loss: 0.5534 - binary_accuracy: 0.7168 - val_loss: 0.4321 - val_binary_accuracy: 0.8062\n",
      "Epoch 2/30\n",
      "80/80 [==============================] - 3s 42ms/step - loss: 0.4209 - binary_accuracy: 0.8095 - val_loss: 0.3940 - val_binary_accuracy: 0.8244\n",
      "Epoch 3/30\n",
      "80/80 [==============================] - 3s 42ms/step - loss: 0.3871 - binary_accuracy: 0.8286 - val_loss: 0.3802 - val_binary_accuracy: 0.8327\n",
      "Epoch 4/30\n",
      "80/80 [==============================] - 3s 42ms/step - loss: 0.3679 - binary_accuracy: 0.8419 - val_loss: 0.3724 - val_binary_accuracy: 0.8375\n",
      "Epoch 5/30\n",
      "80/80 [==============================] - 3s 42ms/step - loss: 0.3545 - binary_accuracy: 0.8495 - val_loss: 0.3667 - val_binary_accuracy: 0.8412\n",
      "Epoch 6/30\n",
      "80/80 [==============================] - 3s 41ms/step - loss: 0.3440 - binary_accuracy: 0.8556 - val_loss: 0.3623 - val_binary_accuracy: 0.8446\n",
      "Epoch 7/30\n",
      "80/80 [==============================] - 3s 41ms/step - loss: 0.3351 - binary_accuracy: 0.8616 - val_loss: 0.3589 - val_binary_accuracy: 0.8466\n",
      "Epoch 8/30\n",
      "80/80 [==============================] - 3s 41ms/step - loss: 0.3272 - binary_accuracy: 0.8646 - val_loss: 0.3554 - val_binary_accuracy: 0.8462\n",
      "Epoch 9/30\n",
      "80/80 [==============================] - 3s 41ms/step - loss: 0.3205 - binary_accuracy: 0.8677 - val_loss: 0.3523 - val_binary_accuracy: 0.8478\n",
      "Epoch 10/30\n",
      "80/80 [==============================] - 3s 41ms/step - loss: 0.3141 - binary_accuracy: 0.8704 - val_loss: 0.3498 - val_binary_accuracy: 0.8493\n",
      "Epoch 11/30\n",
      "80/80 [==============================] - 3s 41ms/step - loss: 0.3083 - binary_accuracy: 0.8743 - val_loss: 0.3473 - val_binary_accuracy: 0.8501\n",
      "Epoch 12/30\n",
      "80/80 [==============================] - 3s 41ms/step - loss: 0.3031 - binary_accuracy: 0.8773 - val_loss: 0.3450 - val_binary_accuracy: 0.8515\n",
      "Epoch 13/30\n",
      "80/80 [==============================] - 3s 41ms/step - loss: 0.2982 - binary_accuracy: 0.8788 - val_loss: 0.3434 - val_binary_accuracy: 0.8531\n",
      "Epoch 14/30\n",
      "80/80 [==============================] - 3s 42ms/step - loss: 0.2936 - binary_accuracy: 0.8806 - val_loss: 0.3417 - val_binary_accuracy: 0.8539\n",
      "Epoch 15/30\n",
      "80/80 [==============================] - 3s 41ms/step - loss: 0.2892 - binary_accuracy: 0.8845 - val_loss: 0.3397 - val_binary_accuracy: 0.8555\n",
      "Epoch 16/30\n",
      "80/80 [==============================] - 3s 42ms/step - loss: 0.2853 - binary_accuracy: 0.8857 - val_loss: 0.3385 - val_binary_accuracy: 0.8561\n",
      "Epoch 17/30\n",
      "80/80 [==============================] - 3s 42ms/step - loss: 0.2813 - binary_accuracy: 0.8876 - val_loss: 0.3369 - val_binary_accuracy: 0.8575\n",
      "Epoch 18/30\n",
      "80/80 [==============================] - 3s 44ms/step - loss: 0.2776 - binary_accuracy: 0.8898 - val_loss: 0.3355 - val_binary_accuracy: 0.8571\n",
      "Epoch 19/30\n",
      "80/80 [==============================] - 3s 43ms/step - loss: 0.2739 - binary_accuracy: 0.8913 - val_loss: 0.3344 - val_binary_accuracy: 0.8571\n",
      "Epoch 20/30\n",
      "80/80 [==============================] - 3s 43ms/step - loss: 0.2705 - binary_accuracy: 0.8937 - val_loss: 0.3336 - val_binary_accuracy: 0.8586\n",
      "Epoch 21/30\n",
      "80/80 [==============================] - 3s 42ms/step - loss: 0.2673 - binary_accuracy: 0.8949 - val_loss: 0.3327 - val_binary_accuracy: 0.8600\n",
      "Epoch 22/30\n",
      "80/80 [==============================] - 3s 42ms/step - loss: 0.2640 - binary_accuracy: 0.8962 - val_loss: 0.3318 - val_binary_accuracy: 0.8624\n",
      "Epoch 23/30\n",
      "80/80 [==============================] - 3s 42ms/step - loss: 0.2609 - binary_accuracy: 0.8972 - val_loss: 0.3310 - val_binary_accuracy: 0.8624\n",
      "Epoch 24/30\n",
      "80/80 [==============================] - 3s 42ms/step - loss: 0.2579 - binary_accuracy: 0.8996 - val_loss: 0.3306 - val_binary_accuracy: 0.8632\n",
      "Epoch 25/30\n",
      "80/80 [==============================] - 3s 42ms/step - loss: 0.2550 - binary_accuracy: 0.9001 - val_loss: 0.3299 - val_binary_accuracy: 0.8626\n",
      "Epoch 26/30\n",
      "80/80 [==============================] - 3s 42ms/step - loss: 0.2523 - binary_accuracy: 0.9013 - val_loss: 0.3299 - val_binary_accuracy: 0.8630\n",
      "Epoch 27/30\n",
      "80/80 [==============================] - 3s 42ms/step - loss: 0.2495 - binary_accuracy: 0.9019 - val_loss: 0.3294 - val_binary_accuracy: 0.8640\n",
      "Epoch 28/30\n",
      "80/80 [==============================] - 3s 42ms/step - loss: 0.2469 - binary_accuracy: 0.9038 - val_loss: 0.3294 - val_binary_accuracy: 0.8648\n",
      "Epoch 29/30\n",
      "80/80 [==============================] - 3s 42ms/step - loss: 0.2441 - binary_accuracy: 0.9042 - val_loss: 0.3300 - val_binary_accuracy: 0.8640\n",
      "Epoch 30/30\n",
      "80/80 [==============================] - 3s 42ms/step - loss: 0.2417 - binary_accuracy: 0.9052 - val_loss: 0.3297 - val_binary_accuracy: 0.8646\n"
     ]
    }
   ],
   "source": [
    "history = model.fit(\n",
    "    ds_train,\n",
    "    validation_data=ds_valid,\n",
    "    epochs=30,\n",
    ")"
   ]
  },
  {
   "cell_type": "markdown",
   "id": "6351afaf",
   "metadata": {
    "papermill": {
     "duration": 0.041976,
     "end_time": "2025-07-19T06:32:37.618186",
     "exception": false,
     "start_time": "2025-07-19T06:32:37.576210",
     "status": "completed"
    },
    "tags": []
   },
   "source": [
    "Run the cell below to plot the loss and metric curves for this training run."
   ]
  },
  {
   "cell_type": "code",
   "execution_count": 10,
   "id": "d5cb0531",
   "metadata": {
    "execution": {
     "iopub.execute_input": "2025-07-19T06:32:37.705271Z",
     "iopub.status.busy": "2025-07-19T06:32:37.704937Z",
     "iopub.status.idle": "2025-07-19T06:32:38.239244Z",
     "shell.execute_reply": "2025-07-19T06:32:38.238355Z"
    },
    "papermill": {
     "duration": 0.579998,
     "end_time": "2025-07-19T06:32:38.240985",
     "exception": false,
     "start_time": "2025-07-19T06:32:37.660987",
     "status": "completed"
    },
    "tags": []
   },
   "outputs": [
    {
     "data": {
      "image/png": "[encoded data removed]",
      "text/plain": [
       "<Figure size 640x480 with 1 Axes>"
      ]
     },
     "metadata": {},
     "output_type": "display_data"
    },
    {
     "data": {
      "image/png": "[encoded data removed]",
      "text/plain": [
       "<Figure size 640x480 with 1 Axes>"
      ]
     },
     "metadata": {},
     "output_type": "display_data"
    }
   ],
   "source": [
    "import pandas as pd\n",
    "history_frame = pd.DataFrame(history.history)\n",
    "history_frame.loc[:, ['loss', 'val_loss']].plot()\n",
    "history_frame.loc[:, ['binary_accuracy', 'val_binary_accuracy']].plot();"
   ]
  },
  {
   "cell_type": "markdown",
   "id": "54d4e80a",
   "metadata": {
    "papermill": {
     "duration": 0.045628,
     "end_time": "2025-07-19T06:32:38.375304",
     "exception": false,
     "start_time": "2025-07-19T06:32:38.329676",
     "status": "completed"
    },
    "tags": []
   },
   "source": [
    "# 4) Examine Loss and Accuracy #\n",
    "\n",
    "Do you notice a difference between these learning curves and the curves for VGG16 from the tutorial? What does this difference tell you about what this model (InceptionV2) learned compared to VGG16? Are there ways in which one is better than the other? Worse?\n",
    "\n",
    "After you've thought about it, run the cell below to see the answer."
   ]
  },
  {
   "cell_type": "code",
   "execution_count": 11,
   "id": "b514504d",
   "metadata": {
    "execution": {
     "iopub.execute_input": "2025-07-19T06:32:38.463448Z",
     "iopub.status.busy": "2025-07-19T06:32:38.463116Z",
     "iopub.status.idle": "2025-07-19T06:32:38.469942Z",
     "shell.execute_reply": "2025-07-19T06:32:38.469145Z"
    },
    "papermill": {
     "duration": 0.052479,
     "end_time": "2025-07-19T06:32:38.471519",
     "exception": false,
     "start_time": "2025-07-19T06:32:38.419040",
     "status": "completed"
    },
    "tags": []
   },
   "outputs": [
    {
     "data": {
      "application/javascript": [
       "parent.postMessage({\"jupyterEvent\": \"custom.exercise_interaction\", \"data\": {\"outcomeType\": 1, \"valueTowardsCompletion\": 0.25, \"interactionType\": 1, \"questionType\": 4, \"questionId\": \"4_Q4\", \"learnToolsVersion\": \"0.3.4\", \"failureMessage\": \"\", \"exceptionClass\": \"\", \"trace\": \"\"}}, \"*\")"
      ],
      "text/plain": [
       "<IPython.core.display.Javascript object>"
      ]
     },
     "metadata": {},
     "output_type": "display_data"
    },
    {
     "data": {
      "text/markdown": [
       "<span style=\"color:#33cc33\">Correct:</span> \n",
       "\n",
       "That the training loss and validation loss stay fairly close is evidence that the model isn't just memorizing the training data, but rather learning general properties of the two classes. But, because this model converges at a loss greater than the VGG16 model, it's likely that it is underfitting some, and could benefit from some extra capacity.\n"
      ],
      "text/plain": [
       "Correct: \n",
       "\n",
       "That the training loss and validation loss stay fairly close is evidence that the model isn't just memorizing the training data, but rather learning general properties of the two classes. But, because this model converges at a loss greater than the VGG16 model, it's likely that it is underfitting some, and could benefit from some extra capacity."
      ]
     },
     "metadata": {},
     "output_type": "display_data"
    }
   ],
   "source": [
    "# View the solution (Run this code cell to receive credit!)\n",
    "q_4.check()"
   ]
  },
  {
   "cell_type": "markdown",
   "id": "dfe025e8",
   "metadata": {
    "papermill": {
     "duration": 0.042867,
     "end_time": "2025-07-19T06:32:38.557433",
     "exception": false,
     "start_time": "2025-07-19T06:32:38.514566",
     "status": "completed"
    },
    "tags": []
   },
   "source": [
    "# Conclusion #\n",
    "\n",
    "In this first lesson, you learned the basics of **convolutional image classifiers**, that they consist of a **base** for extracting features from images, and a **head** which uses the features to decide the image's class. You also saw how to build a classifier with **transfer learning** on pretrained base. "
   ]
  },
  {
   "cell_type": "markdown",
   "id": "e9f21829",
   "metadata": {
    "papermill": {
     "duration": 0.043646,
     "end_time": "2025-07-19T06:32:38.644249",
     "exception": false,
     "start_time": "2025-07-19T06:32:38.600603",
     "status": "completed"
    },
    "tags": []
   },
   "source": [
    "# Keep Going #\n",
    "\n",
    "Move on to [**Lesson 2**](https://www.kaggle.com/ryanholbrook/convolution-and-relu) for a detailed look at how the base does this feature extraction. (It's really cool!)"
   ]
  },
  {
   "cell_type": "markdown",
   "id": "5db063ef",
   "metadata": {
    "papermill": {
     "duration": 0.042758,
     "end_time": "2025-07-19T06:32:38.730543",
     "exception": false,
     "start_time": "2025-07-19T06:32:38.687785",
     "status": "completed"
    },
    "tags": []
   },
   "source": [
    "---\n",
    "\n",
    "\n",
    "\n",
    "\n",
    "*Have questions or comments? Visit the [course discussion forum](https://www.kaggle.com/learn/computer-vision/discussion) to chat with other learners.*"
   ]
  }
 ],
 "metadata": {
  "jupytext": {
   "formats": "ipynb,md",
   "split_at_heading": true
  },
  "kaggle": {
   "accelerator": "gpu",
   "dataSources": [
    {
     "datasetId": 708136,
     "sourceId": 1338830,
     "sourceType": "datasetVersion"
    },
    {
     "datasetId": 701538,
     "sourceId": 1363948,
     "sourceType": "datasetVersion"
    },
    {
     "datasetId": 878523,
     "sourceId": 1495782,
     "sourceType": "datasetVersion"
    }
   ],
   "dockerImageVersionId": 30648,
   "isGpuEnabled": true,
   "isInternetEnabled": false,
   "language": "python",
   "sourceType": "notebook"
  },
  "kernelspec": {
   "display_name": "Python 3",
   "language": "python",
   "name": "python3"
  },
  "language_info": {
   "codemirror_mode": {
    "name": "ipython",
    "version": 3
   },
   "file_extension": ".py",
   "mimetype": "text/x-python",
   "name": "python",
   "nbconvert_exporter": "python",
   "pygments_lexer": "ipython3",
   "version": "3.10.13"
  },
  "papermill": {
   "default_parameters": {},
   "duration": 149.189406,
   "end_time": "2025-07-19T06:32:41.644948",
   "environment_variables": {},
   "exception": null,
   "input_path": "__notebook__.ipynb",
   "output_path": "__notebook__.ipynb",
   "parameters": {},
   "start_time": "2025-07-19T06:30:12.455542",
   "version": "2.5.0"
  }
 },
 "nbformat": 4,
 "nbformat_minor": 5
}
