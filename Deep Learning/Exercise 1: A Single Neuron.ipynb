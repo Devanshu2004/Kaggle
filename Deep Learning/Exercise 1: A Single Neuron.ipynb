{
 "cells": [
  {
   "cell_type": "markdown",
   "id": "8bb32234",
   "metadata": {
    "papermill": {
     "duration": 0.00439,
     "end_time": "2025-07-17T18:28:06.856773",
     "exception": false,
     "start_time": "2025-07-17T18:28:06.852383",
     "status": "completed"
    },
    "tags": []
   },
   "source": [
    "**This notebook is an exercise in the [Intro to Deep Learning](https://www.kaggle.com/learn/intro-to-deep-learning) course.  You can reference the tutorial at [this link](https://www.kaggle.com/ryanholbrook/a-single-neuron).**\n",
    "\n",
    "---\n"
   ]
  },
  {
   "cell_type": "markdown",
   "id": "50ad7eec",
   "metadata": {
    "papermill": {
     "duration": 0.003593,
     "end_time": "2025-07-17T18:28:06.864539",
     "exception": false,
     "start_time": "2025-07-17T18:28:06.860946",
     "status": "completed"
    },
    "tags": []
   },
   "source": [
    "# Introduction #\n",
    "\n",
    "In the tutorial we learned about the building blocks of neural networks: *linear units*. We saw that a model of just one linear unit will fit a linear function to a dataset (equivalent to linear regression). In this exercise, you'll build a linear model and get some practice working with models in Keras.\n",
    "\n",
    "Before you get started, run the code cell below to set everything up."
   ]
  },
  {
   "cell_type": "code",
   "execution_count": 1,
   "id": "383b533a",
   "metadata": {
    "execution": {
     "iopub.execute_input": "2025-07-17T18:28:06.874595Z",
     "iopub.status.busy": "2025-07-17T18:28:06.873678Z",
     "iopub.status.idle": "2025-07-17T18:28:22.481948Z",
     "shell.execute_reply": "2025-07-17T18:28:22.480833Z"
    },
    "papermill": {
     "duration": 15.616009,
     "end_time": "2025-07-17T18:28:22.484424",
     "exception": false,
     "start_time": "2025-07-17T18:28:06.868415",
     "status": "completed"
    },
    "tags": []
   },
   "outputs": [
    {
     "name": "stderr",
     "output_type": "stream",
     "text": [
      "/tmp/ipykernel_18/3895727876.py:4: MatplotlibDeprecationWarning: The seaborn styles shipped by Matplotlib are deprecated since 3.6, as they no longer correspond to the styles shipped by seaborn. However, they will remain available as 'seaborn-v0_8-<style>'. Alternatively, directly use the seaborn API instead.\n",
      "  plt.style.use('seaborn-whitegrid')\n",
      "2025-07-17 18:28:10.231869: E external/local_xla/xla/stream_executor/cuda/cuda_dnn.cc:9261] Unable to register cuDNN factory: Attempting to register factory for plugin cuDNN when one has already been registered\n",
      "2025-07-17 18:28:10.232035: E external/local_xla/xla/stream_executor/cuda/cuda_fft.cc:607] Unable to register cuFFT factory: Attempting to register factory for plugin cuFFT when one has already been registered\n",
      "2025-07-17 18:28:10.380135: E external/local_xla/xla/stream_executor/cuda/cuda_blas.cc:1515] Unable to register cuBLAS factory: Attempting to register factory for plugin cuBLAS when one has already been registered\n"
     ]
    }
   ],
   "source": [
    "# Setup plotting\n",
    "import matplotlib.pyplot as plt\n",
    "\n",
    "plt.style.use('seaborn-whitegrid')\n",
    "# Set Matplotlib defaults\n",
    "plt.rc('figure', autolayout=True)\n",
    "plt.rc('axes', labelweight='bold', labelsize='large',\n",
    "       titleweight='bold', titlesize=18, titlepad=10)\n",
    "\n",
    "# Setup feedback system\n",
    "from learntools.core import binder\n",
    "binder.bind(globals())\n",
    "from learntools.deep_learning_intro.ex1 import *"
   ]
  },
  {
   "cell_type": "markdown",
   "id": "bd365beb",
   "metadata": {
    "papermill": {
     "duration": 0.003828,
     "end_time": "2025-07-17T18:28:22.492628",
     "exception": false,
     "start_time": "2025-07-17T18:28:22.488800",
     "status": "completed"
    },
    "tags": []
   },
   "source": [
    "The *Red Wine Quality* dataset consists of physiochemical measurements from about 1600 Portuguese red wines.  Also included is a quality rating for each wine from blind taste-tests. \n",
    "\n",
    "First, run the next cell to display the first few rows of this dataset."
   ]
  },
  {
   "cell_type": "code",
   "execution_count": 2,
   "id": "c8188e96",
   "metadata": {
    "execution": {
     "iopub.execute_input": "2025-07-17T18:28:22.502835Z",
     "iopub.status.busy": "2025-07-17T18:28:22.502095Z",
     "iopub.status.idle": "2025-07-17T18:28:22.539289Z",
     "shell.execute_reply": "2025-07-17T18:28:22.538036Z"
    },
    "papermill": {
     "duration": 0.044678,
     "end_time": "2025-07-17T18:28:22.541413",
     "exception": false,
     "start_time": "2025-07-17T18:28:22.496735",
     "status": "completed"
    },
    "tags": []
   },
   "outputs": [
    {
     "data": {
      "text/html": [
       "<div>\n",
       "<style scoped>\n",
       "    .dataframe tbody tr th:only-of-type {\n",
       "        vertical-align: middle;\n",
       "    }\n",
       "\n",
       "    .dataframe tbody tr th {\n",
       "        vertical-align: top;\n",
       "    }\n",
       "\n",
       "    .dataframe thead th {\n",
       "        text-align: right;\n",
       "    }\n",
       "</style>\n",
       "<table border=\"1\" class=\"dataframe\">\n",
       "  <thead>\n",
       "    <tr style=\"text-align: right;\">\n",
       "      <th></th>\n",
       "      <th>fixed acidity</th>\n",
       "      <th>volatile acidity</th>\n",
       "      <th>citric acid</th>\n",
       "      <th>residual sugar</th>\n",
       "      <th>chlorides</th>\n",
       "      <th>free sulfur dioxide</th>\n",
       "      <th>total sulfur dioxide</th>\n",
       "      <th>density</th>\n",
       "      <th>pH</th>\n",
       "      <th>sulphates</th>\n",
       "      <th>alcohol</th>\n",
       "      <th>quality</th>\n",
       "    </tr>\n",
       "  </thead>\n",
       "  <tbody>\n",
       "    <tr>\n",
       "      <th>0</th>\n",
       "      <td>7.4</td>\n",
       "      <td>0.70</td>\n",
       "      <td>0.00</td>\n",
       "      <td>1.9</td>\n",
       "      <td>0.076</td>\n",
       "      <td>11.0</td>\n",
       "      <td>34.0</td>\n",
       "      <td>0.9978</td>\n",
       "      <td>3.51</td>\n",
       "      <td>0.56</td>\n",
       "      <td>9.4</td>\n",
       "      <td>5</td>\n",
       "    </tr>\n",
       "    <tr>\n",
       "      <th>1</th>\n",
       "      <td>7.8</td>\n",
       "      <td>0.88</td>\n",
       "      <td>0.00</td>\n",
       "      <td>2.6</td>\n",
       "      <td>0.098</td>\n",
       "      <td>25.0</td>\n",
       "      <td>67.0</td>\n",
       "      <td>0.9968</td>\n",
       "      <td>3.20</td>\n",
       "      <td>0.68</td>\n",
       "      <td>9.8</td>\n",
       "      <td>5</td>\n",
       "    </tr>\n",
       "    <tr>\n",
       "      <th>2</th>\n",
       "      <td>7.8</td>\n",
       "      <td>0.76</td>\n",
       "      <td>0.04</td>\n",
       "      <td>2.3</td>\n",
       "      <td>0.092</td>\n",
       "      <td>15.0</td>\n",
       "      <td>54.0</td>\n",
       "      <td>0.9970</td>\n",
       "      <td>3.26</td>\n",
       "      <td>0.65</td>\n",
       "      <td>9.8</td>\n",
       "      <td>5</td>\n",
       "    </tr>\n",
       "    <tr>\n",
       "      <th>3</th>\n",
       "      <td>11.2</td>\n",
       "      <td>0.28</td>\n",
       "      <td>0.56</td>\n",
       "      <td>1.9</td>\n",
       "      <td>0.075</td>\n",
       "      <td>17.0</td>\n",
       "      <td>60.0</td>\n",
       "      <td>0.9980</td>\n",
       "      <td>3.16</td>\n",
       "      <td>0.58</td>\n",
       "      <td>9.8</td>\n",
       "      <td>6</td>\n",
       "    </tr>\n",
       "    <tr>\n",
       "      <th>4</th>\n",
       "      <td>7.4</td>\n",
       "      <td>0.70</td>\n",
       "      <td>0.00</td>\n",
       "      <td>1.9</td>\n",
       "      <td>0.076</td>\n",
       "      <td>11.0</td>\n",
       "      <td>34.0</td>\n",
       "      <td>0.9978</td>\n",
       "      <td>3.51</td>\n",
       "      <td>0.56</td>\n",
       "      <td>9.4</td>\n",
       "      <td>5</td>\n",
       "    </tr>\n",
       "  </tbody>\n",
       "</table>\n",
       "</div>"
      ],
      "text/plain": [
       "   fixed acidity  volatile acidity  citric acid  residual sugar  chlorides  \\\n",
       "0            7.4              0.70         0.00             1.9      0.076   \n",
       "1            7.8              0.88         0.00             2.6      0.098   \n",
       "2            7.8              0.76         0.04             2.3      0.092   \n",
       "3           11.2              0.28         0.56             1.9      0.075   \n",
       "4            7.4              0.70         0.00             1.9      0.076   \n",
       "\n",
       "   free sulfur dioxide  total sulfur dioxide  density    pH  sulphates  \\\n",
       "0                 11.0                  34.0   0.9978  3.51       0.56   \n",
       "1                 25.0                  67.0   0.9968  3.20       0.68   \n",
       "2                 15.0                  54.0   0.9970  3.26       0.65   \n",
       "3                 17.0                  60.0   0.9980  3.16       0.58   \n",
       "4                 11.0                  34.0   0.9978  3.51       0.56   \n",
       "\n",
       "   alcohol  quality  \n",
       "0      9.4        5  \n",
       "1      9.8        5  \n",
       "2      9.8        5  \n",
       "3      9.8        6  \n",
       "4      9.4        5  "
      ]
     },
     "execution_count": 2,
     "metadata": {},
     "output_type": "execute_result"
    }
   ],
   "source": [
    "import pandas as pd\n",
    "\n",
    "red_wine = pd.read_csv('../input/dl-course-data/red-wine.csv')\n",
    "red_wine.head()"
   ]
  },
  {
   "cell_type": "markdown",
   "id": "160d6e36",
   "metadata": {
    "papermill": {
     "duration": 0.004119,
     "end_time": "2025-07-17T18:28:22.550020",
     "exception": false,
     "start_time": "2025-07-17T18:28:22.545901",
     "status": "completed"
    },
    "tags": []
   },
   "source": [
    "You can get the number of rows and columns of a dataframe (or a Numpy array) with the `shape` attribute."
   ]
  },
  {
   "cell_type": "code",
   "execution_count": 3,
   "id": "b25bda16",
   "metadata": {
    "execution": {
     "iopub.execute_input": "2025-07-17T18:28:22.560524Z",
     "iopub.status.busy": "2025-07-17T18:28:22.560148Z",
     "iopub.status.idle": "2025-07-17T18:28:22.566595Z",
     "shell.execute_reply": "2025-07-17T18:28:22.565489Z"
    },
    "papermill": {
     "duration": 0.014275,
     "end_time": "2025-07-17T18:28:22.568655",
     "exception": false,
     "start_time": "2025-07-17T18:28:22.554380",
     "status": "completed"
    },
    "tags": []
   },
   "outputs": [
    {
     "data": {
      "text/plain": [
       "(1599, 12)"
      ]
     },
     "execution_count": 3,
     "metadata": {},
     "output_type": "execute_result"
    }
   ],
   "source": [
    "red_wine.shape # (rows, columns)"
   ]
  },
  {
   "cell_type": "markdown",
   "id": "06db9e7b",
   "metadata": {
    "papermill": {
     "duration": 0.00418,
     "end_time": "2025-07-17T18:28:22.577397",
     "exception": false,
     "start_time": "2025-07-17T18:28:22.573217",
     "status": "completed"
    },
    "tags": []
   },
   "source": [
    "# 1) Input shape #\n",
    "\n",
    "How well can we predict a wine's perceived quality from the physiochemical measurements?  \n",
    "\n",
    "The target is `'quality'`, and the remaining columns are the features.  How would you set the `input_shape` parameter for a Keras model on this task?"
   ]
  },
  {
   "cell_type": "code",
   "execution_count": 4,
   "id": "6ea4f39f",
   "metadata": {
    "execution": {
     "iopub.execute_input": "2025-07-17T18:28:22.588300Z",
     "iopub.status.busy": "2025-07-17T18:28:22.587536Z",
     "iopub.status.idle": "2025-07-17T18:28:22.597315Z",
     "shell.execute_reply": "2025-07-17T18:28:22.595532Z"
    },
    "lines_to_next_cell": 0,
    "papermill": {
     "duration": 0.019176,
     "end_time": "2025-07-17T18:28:22.600998",
     "exception": false,
     "start_time": "2025-07-17T18:28:22.581822",
     "status": "completed"
    },
    "tags": []
   },
   "outputs": [
    {
     "data": {
      "application/javascript": [
       "parent.postMessage({\"jupyterEvent\": \"custom.exercise_interaction\", \"data\": {\"outcomeType\": 1, \"valueTowardsCompletion\": 0.3333333333333333, \"interactionType\": 1, \"questionType\": 2, \"questionId\": \"1_Q1\", \"learnToolsVersion\": \"0.3.4\", \"failureMessage\": \"\", \"exceptionClass\": \"\", \"trace\": \"\"}}, \"*\")"
      ],
      "text/plain": [
       "<IPython.core.display.Javascript object>"
      ]
     },
     "metadata": {},
     "output_type": "display_data"
    },
    {
     "data": {
      "text/markdown": [
       "<span style=\"color:#33cc33\">Correct</span>"
      ],
      "text/plain": [
       "Correct"
      ]
     },
     "metadata": {},
     "output_type": "display_data"
    }
   ],
   "source": [
    "# YOUR CODE HERE\n",
    "input_shape = [11]\n",
    "\n",
    "# Check your answer\n",
    "q_1.check()"
   ]
  },
  {
   "cell_type": "code",
   "execution_count": 5,
   "id": "31b7768d",
   "metadata": {
    "execution": {
     "iopub.execute_input": "2025-07-17T18:28:22.615543Z",
     "iopub.status.busy": "2025-07-17T18:28:22.614920Z",
     "iopub.status.idle": "2025-07-17T18:28:22.619761Z",
     "shell.execute_reply": "2025-07-17T18:28:22.618624Z"
    },
    "papermill": {
     "duration": 0.014865,
     "end_time": "2025-07-17T18:28:22.622367",
     "exception": false,
     "start_time": "2025-07-17T18:28:22.607502",
     "status": "completed"
    },
    "tags": []
   },
   "outputs": [],
   "source": [
    "# Lines below will give you a hint or solution code\n",
    "#q_1.hint()\n",
    "#q_1.solution()"
   ]
  },
  {
   "cell_type": "markdown",
   "id": "26b2dd74",
   "metadata": {
    "papermill": {
     "duration": 0.006334,
     "end_time": "2025-07-17T18:28:22.634370",
     "exception": false,
     "start_time": "2025-07-17T18:28:22.628036",
     "status": "completed"
    },
    "tags": []
   },
   "source": [
    "# 2) Define a linear model\n",
    "\n",
    "Now define a linear model appropriate for this task. Pay attention to how many inputs and outputs the model should have."
   ]
  },
  {
   "cell_type": "code",
   "execution_count": 6,
   "id": "74a9b8e7",
   "metadata": {
    "execution": {
     "iopub.execute_input": "2025-07-17T18:28:22.648333Z",
     "iopub.status.busy": "2025-07-17T18:28:22.647511Z",
     "iopub.status.idle": "2025-07-17T18:28:22.899627Z",
     "shell.execute_reply": "2025-07-17T18:28:22.898390Z"
    },
    "lines_to_next_cell": 0,
    "papermill": {
     "duration": 0.261485,
     "end_time": "2025-07-17T18:28:22.901867",
     "exception": false,
     "start_time": "2025-07-17T18:28:22.640382",
     "status": "completed"
    },
    "tags": []
   },
   "outputs": [
    {
     "data": {
      "application/javascript": [
       "parent.postMessage({\"jupyterEvent\": \"custom.exercise_interaction\", \"data\": {\"outcomeType\": 1, \"valueTowardsCompletion\": 0.3333333333333333, \"interactionType\": 1, \"questionType\": 2, \"questionId\": \"2_Q2\", \"learnToolsVersion\": \"0.3.4\", \"failureMessage\": \"\", \"exceptionClass\": \"\", \"trace\": \"\"}}, \"*\")"
      ],
      "text/plain": [
       "<IPython.core.display.Javascript object>"
      ]
     },
     "metadata": {},
     "output_type": "display_data"
    },
    {
     "data": {
      "text/markdown": [
       "<span style=\"color:#33cc33\">Correct</span>"
      ],
      "text/plain": [
       "Correct"
      ]
     },
     "metadata": {},
     "output_type": "display_data"
    }
   ],
   "source": [
    "from tensorflow import keras\n",
    "from tensorflow.keras import layers\n",
    "\n",
    "# YOUR CODE HERE\n",
    "model = keras.Sequential([\n",
    "    layers.Dense(units=1, input_shape=[11])\n",
    "])\n",
    "\n",
    "# Check your answer\n",
    "q_2.check()"
   ]
  },
  {
   "cell_type": "code",
   "execution_count": 7,
   "id": "1464019b",
   "metadata": {
    "execution": {
     "iopub.execute_input": "2025-07-17T18:28:22.913470Z",
     "iopub.status.busy": "2025-07-17T18:28:22.913110Z",
     "iopub.status.idle": "2025-07-17T18:28:22.917602Z",
     "shell.execute_reply": "2025-07-17T18:28:22.916538Z"
    },
    "papermill": {
     "duration": 0.013278,
     "end_time": "2025-07-17T18:28:22.920294",
     "exception": false,
     "start_time": "2025-07-17T18:28:22.907016",
     "status": "completed"
    },
    "tags": []
   },
   "outputs": [],
   "source": [
    "# Lines below will give you a hint or solution code\n",
    "#q_2.hint()\n",
    "#q_2.solution()"
   ]
  },
  {
   "cell_type": "markdown",
   "id": "f024bc31",
   "metadata": {
    "papermill": {
     "duration": 0.006445,
     "end_time": "2025-07-17T18:28:22.935231",
     "exception": false,
     "start_time": "2025-07-17T18:28:22.928786",
     "status": "completed"
    },
    "tags": []
   },
   "source": [
    "# 3) Look at the weights\n",
    "\n",
    "Internally, Keras represents the weights of a neural network with **tensors**. Tensors are basically TensorFlow's version of a Numpy array with a few differences that make them better suited to deep learning. One of the most important is that tensors are compatible with [GPU](https://www.kaggle.com/docs/efficient-gpu-usage) and [TPU](https://www.kaggle.com/docs/tpu)) accelerators. TPUs, in fact, are designed specifically for tensor computations.\n",
    "\n",
    "A model's weights are kept in its `weights` attribute as a list of tensors. Get the weights of the model you defined above. (If you want, you could display the weights with something like: `print(\"Weights\\n{}\\n\\nBias\\n{}\".format(w, b))`)."
   ]
  },
  {
   "cell_type": "code",
   "execution_count": 8,
   "id": "9c2a495f",
   "metadata": {
    "execution": {
     "iopub.execute_input": "2025-07-17T18:28:22.953754Z",
     "iopub.status.busy": "2025-07-17T18:28:22.953235Z",
     "iopub.status.idle": "2025-07-17T18:28:22.963703Z",
     "shell.execute_reply": "2025-07-17T18:28:22.962552Z"
    },
    "lines_to_next_cell": 0,
    "papermill": {
     "duration": 0.0216,
     "end_time": "2025-07-17T18:28:22.965962",
     "exception": false,
     "start_time": "2025-07-17T18:28:22.944362",
     "status": "completed"
    },
    "tags": []
   },
   "outputs": [
    {
     "data": {
      "application/javascript": [
       "parent.postMessage({\"jupyterEvent\": \"custom.exercise_interaction\", \"data\": {\"outcomeType\": 1, \"valueTowardsCompletion\": 0.3333333333333333, \"interactionType\": 1, \"questionType\": 2, \"questionId\": \"3_Q3\", \"learnToolsVersion\": \"0.3.4\", \"failureMessage\": \"\", \"exceptionClass\": \"\", \"trace\": \"\"}}, \"*\")"
      ],
      "text/plain": [
       "<IPython.core.display.Javascript object>"
      ]
     },
     "metadata": {},
     "output_type": "display_data"
    },
    {
     "data": {
      "text/markdown": [
       "<span style=\"color:#33cc33\">Correct:</span> Do you see how there's one weight for each input (and a bias)? Notice though that there doesn't seem to be any pattern to the values the weights have. Before the model is trained, the weights are set to random numbers (and the bias to 0.0). A neural network learns by finding better values for its weights.\n"
      ],
      "text/plain": [
       "Correct: Do you see how there's one weight for each input (and a bias)? Notice though that there doesn't seem to be any pattern to the values the weights have. Before the model is trained, the weights are set to random numbers (and the bias to 0.0). A neural network learns by finding better values for its weights."
      ]
     },
     "metadata": {},
     "output_type": "display_data"
    }
   ],
   "source": [
    "# YOUR CODE HERE\n",
    "w, b = model.weights\n",
    "\n",
    "# Check your answer\n",
    "q_3.check()"
   ]
  },
  {
   "cell_type": "code",
   "execution_count": 9,
   "id": "66213318",
   "metadata": {
    "execution": {
     "iopub.execute_input": "2025-07-17T18:28:22.979445Z",
     "iopub.status.busy": "2025-07-17T18:28:22.978534Z",
     "iopub.status.idle": "2025-07-17T18:28:22.983547Z",
     "shell.execute_reply": "2025-07-17T18:28:22.982478Z"
    },
    "lines_to_next_cell": 0,
    "papermill": {
     "duration": 0.014589,
     "end_time": "2025-07-17T18:28:22.986366",
     "exception": false,
     "start_time": "2025-07-17T18:28:22.971777",
     "status": "completed"
    },
    "tags": []
   },
   "outputs": [],
   "source": [
    "# Lines below will give you a hint or solution code\n",
    "#q_3.hint()\n",
    "# q_3.solution()"
   ]
  },
  {
   "cell_type": "markdown",
   "id": "889e9727",
   "metadata": {
    "papermill": {
     "duration": 0.005784,
     "end_time": "2025-07-17T18:28:23.000881",
     "exception": false,
     "start_time": "2025-07-17T18:28:22.995097",
     "status": "completed"
    },
    "tags": []
   },
   "source": [
    "(By the way, Keras represents weights as tensors, but also uses tensors to represent data. When you set the `input_shape` argument, you are telling Keras the dimensions of the array it should expect for each example in the training data. Setting `input_shape=[3]` would create a network accepting vectors of length 3, like `[0.2, 0.4, 0.6]`.)\n",
    " \n",
    "\n",
    "# Optional: Plot the output of an untrained linear model\n",
    " \n",
    "The kinds of problems we'll work on through Lesson 5 will be *regression* problems, where the goal is to predict some numeric target. Regression problems are like \"curve-fitting\" problems: we're trying to find a curve that best fits the data. Let's take a look at the \"curve\" produced by a linear model. (You've probably guessed that it's a line!)\n",
    " \n",
    "We mentioned that before training a model's weights are set randomly. Run the cell below a few times to see the different lines produced with a random initialization. (There's no coding for this exercise -- it's just a demonstration.)"
   ]
  },
  {
   "cell_type": "code",
   "execution_count": 10,
   "id": "e9fa27e9",
   "metadata": {
    "execution": {
     "iopub.execute_input": "2025-07-17T18:28:23.013885Z",
     "iopub.status.busy": "2025-07-17T18:28:23.012817Z",
     "iopub.status.idle": "2025-07-17T18:28:23.629406Z",
     "shell.execute_reply": "2025-07-17T18:28:23.627898Z"
    },
    "lines_to_next_cell": 0,
    "papermill": {
     "duration": 0.626185,
     "end_time": "2025-07-17T18:28:23.632315",
     "exception": false,
     "start_time": "2025-07-17T18:28:23.006130",
     "status": "completed"
    },
    "tags": []
   },
   "outputs": [
    {
     "name": "stdout",
     "output_type": "stream",
     "text": [
      "4/4 [==============================] - 0s 2ms/step\n"
     ]
    },
    {
     "data": {
      "image/png": "[encoded data removed]",
      "text/plain": [
       "<Figure size 640x480 with 1 Axes>"
      ]
     },
     "metadata": {},
     "output_type": "display_data"
    }
   ],
   "source": [
    "import tensorflow as tf\n",
    "import matplotlib.pyplot as plt\n",
    "\n",
    "model = keras.Sequential([\n",
    "    layers.Dense(1, input_shape=[1]),\n",
    "])\n",
    "\n",
    "x = tf.linspace(-1.0, 1.0, 100)\n",
    "y = model.predict(x)\n",
    "\n",
    "plt.figure(dpi=100)\n",
    "plt.plot(x, y, 'k')\n",
    "plt.xlim(-1, 1)\n",
    "plt.ylim(-1, 1)\n",
    "plt.xlabel(\"Input: x\")\n",
    "plt.ylabel(\"Target y\")\n",
    "w, b = model.weights # you could also use model.get_weights() here\n",
    "plt.title(\"Weight: {:0.2f}\\nBias: {:0.2f}\".format(w[0][0], b[0]))\n",
    "plt.show()"
   ]
  },
  {
   "cell_type": "markdown",
   "id": "f8e92062",
   "metadata": {
    "papermill": {
     "duration": 0.005677,
     "end_time": "2025-07-17T18:28:23.644030",
     "exception": false,
     "start_time": "2025-07-17T18:28:23.638353",
     "status": "completed"
    },
    "tags": []
   },
   "source": [
    "# Keep Going #\n",
    "\n",
    "Add hidden layers and [**make your models deep**](https://www.kaggle.com/ryanholbrook/deep-neural-networks) in Lesson 2."
   ]
  },
  {
   "cell_type": "markdown",
   "id": "30bb956b",
   "metadata": {
    "papermill": {
     "duration": 0.005554,
     "end_time": "2025-07-17T18:28:23.655527",
     "exception": false,
     "start_time": "2025-07-17T18:28:23.649973",
     "status": "completed"
    },
    "tags": []
   },
   "source": [
    "---\n",
    "\n",
    "\n",
    "\n",
    "\n",
    "*Have questions or comments? Visit the [course discussion forum](https://www.kaggle.com/learn/intro-to-deep-learning/discussion) to chat with other learners.*"
   ]
  }
 ],
 "metadata": {
  "jupytext": {
   "cell_metadata_filter": "-all",
   "formats": "ipynb"
  },
  "kaggle": {
   "accelerator": "none",
   "dataSources": [
    {
     "datasetId": 829369,
     "sourceId": 1480608,
     "sourceType": "datasetVersion"
    }
   ],
   "dockerImageVersionId": 30646,
   "isGpuEnabled": false,
   "isInternetEnabled": false,
   "language": "python",
   "sourceType": "notebook"
  },
  "kernelspec": {
   "display_name": "Python 3",
   "language": "python",
   "name": "python3"
  },
  "language_info": {
   "codemirror_mode": {
    "name": "ipython",
    "version": 3
   },
   "file_extension": ".py",
   "mimetype": "text/x-python",
   "name": "python",
   "nbconvert_exporter": "python",
   "pygments_lexer": "ipython3",
   "version": "3.10.13"
  },
  "papermill": {
   "default_parameters": {},
   "duration": 21.516311,
   "end_time": "2025-07-17T18:28:25.085788",
   "environment_variables": {},
   "exception": null,
   "input_path": "__notebook__.ipynb",
   "output_path": "__notebook__.ipynb",
   "parameters": {},
   "start_time": "2025-07-17T18:28:03.569477",
   "version": "2.5.0"
  }
 },
 "nbformat": 4,
 "nbformat_minor": 5
}
