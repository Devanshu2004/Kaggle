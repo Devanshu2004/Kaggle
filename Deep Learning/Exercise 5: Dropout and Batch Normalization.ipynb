{
 "cells": [
  {
   "cell_type": "markdown",
   "id": "fb3948d1",
   "metadata": {
    "papermill": {
     "duration": 0.004082,
     "end_time": "2025-07-18T18:47:51.016029",
     "exception": false,
     "start_time": "2025-07-18T18:47:51.011947",
     "status": "completed"
    },
    "tags": []
   },
   "source": [
    "**This notebook is an exercise in the [Intro to Deep Learning](https://www.kaggle.com/learn/intro-to-deep-learning) course.  You can reference the tutorial at [this link](https://www.kaggle.com/ryanholbrook/dropout-and-batch-normalization).**\n",
    "\n",
    "---\n"
   ]
  },
  {
   "cell_type": "markdown",
   "id": "f6f12ac2",
   "metadata": {
    "papermill": {
     "duration": 0.003296,
     "end_time": "2025-07-18T18:47:51.023001",
     "exception": false,
     "start_time": "2025-07-18T18:47:51.019705",
     "status": "completed"
    },
    "tags": []
   },
   "source": [
    "# Introduction #\n",
    "\n",
    "In this exercise, you'll add dropout to the *Spotify* model from Exercise 4 and see how batch normalization can let you successfully train models on difficult datasets.\n",
    "\n",
    "Run the next cell to get started!"
   ]
  },
  {
   "cell_type": "code",
   "execution_count": 1,
   "id": "c3d5e4cb",
   "metadata": {
    "execution": {
     "iopub.execute_input": "2025-07-18T18:47:51.031418Z",
     "iopub.status.busy": "2025-07-18T18:47:51.030884Z",
     "iopub.status.idle": "2025-07-18T18:47:51.732673Z",
     "shell.execute_reply": "2025-07-18T18:47:51.732025Z"
    },
    "papermill": {
     "duration": 0.70821,
     "end_time": "2025-07-18T18:47:51.734711",
     "exception": false,
     "start_time": "2025-07-18T18:47:51.026501",
     "status": "completed"
    },
    "tags": []
   },
   "outputs": [
    {
     "name": "stderr",
     "output_type": "stream",
     "text": [
      "/tmp/ipykernel_26/195640296.py:3: MatplotlibDeprecationWarning: The seaborn styles shipped by Matplotlib are deprecated since 3.6, as they no longer correspond to the styles shipped by seaborn. However, they will remain available as 'seaborn-v0_8-<style>'. Alternatively, directly use the seaborn API instead.\n",
      "  plt.style.use('seaborn-whitegrid')\n"
     ]
    }
   ],
   "source": [
    "# Setup plotting\n",
    "import matplotlib.pyplot as plt\n",
    "plt.style.use('seaborn-whitegrid')\n",
    "# Set Matplotlib defaults\n",
    "plt.rc('figure', autolayout=True)\n",
    "plt.rc('axes', labelweight='bold', labelsize='large',\n",
    "       titleweight='bold', titlesize=18, titlepad=10)\n",
    "plt.rc('animation', html='html5')\n",
    "\n",
    "# Setup feedback system\n",
    "from learntools.core import binder\n",
    "binder.bind(globals())\n",
    "from learntools.deep_learning_intro.ex5 import *"
   ]
  },
  {
   "cell_type": "markdown",
   "id": "9dc45f74",
   "metadata": {
    "papermill": {
     "duration": 0.003652,
     "end_time": "2025-07-18T18:47:51.742359",
     "exception": false,
     "start_time": "2025-07-18T18:47:51.738707",
     "status": "completed"
    },
    "tags": []
   },
   "source": [
    "First load the *Spotify* dataset."
   ]
  },
  {
   "cell_type": "code",
   "execution_count": 2,
   "id": "d851a4e8",
   "metadata": {
    "execution": {
     "iopub.execute_input": "2025-07-18T18:47:51.751376Z",
     "iopub.status.busy": "2025-07-18T18:47:51.750657Z",
     "iopub.status.idle": "2025-07-18T18:48:04.762950Z",
     "shell.execute_reply": "2025-07-18T18:48:04.761996Z"
    },
    "papermill": {
     "duration": 13.018946,
     "end_time": "2025-07-18T18:48:04.764943",
     "exception": false,
     "start_time": "2025-07-18T18:47:51.745997",
     "status": "completed"
    },
    "tags": []
   },
   "outputs": [
    {
     "name": "stderr",
     "output_type": "stream",
     "text": [
      "2025-07-18 18:47:54.710134: E external/local_xla/xla/stream_executor/cuda/cuda_dnn.cc:9261] Unable to register cuDNN factory: Attempting to register factory for plugin cuDNN when one has already been registered\n",
      "2025-07-18 18:47:54.710258: E external/local_xla/xla/stream_executor/cuda/cuda_fft.cc:607] Unable to register cuFFT factory: Attempting to register factory for plugin cuFFT when one has already been registered\n",
      "2025-07-18 18:47:54.860749: E external/local_xla/xla/stream_executor/cuda/cuda_blas.cc:1515] Unable to register cuBLAS factory: Attempting to register factory for plugin cuBLAS when one has already been registered\n"
     ]
    },
    {
     "name": "stdout",
     "output_type": "stream",
     "text": [
      "Input shape: [18]\n"
     ]
    }
   ],
   "source": [
    "import pandas as pd\n",
    "from sklearn.preprocessing import StandardScaler, OneHotEncoder\n",
    "from sklearn.compose import make_column_transformer\n",
    "from sklearn.model_selection import GroupShuffleSplit\n",
    "\n",
    "from tensorflow import keras\n",
    "from tensorflow.keras import layers\n",
    "from tensorflow.keras import callbacks\n",
    "\n",
    "spotify = pd.read_csv('../input/dl-course-data/spotify.csv')\n",
    "\n",
    "X = spotify.copy().dropna()\n",
    "y = X.pop('track_popularity')\n",
    "artists = X['track_artist']\n",
    "\n",
    "features_num = ['danceability', 'energy', 'key', 'loudness', 'mode',\n",
    "                'speechiness', 'acousticness', 'instrumentalness',\n",
    "                'liveness', 'valence', 'tempo', 'duration_ms']\n",
    "features_cat = ['playlist_genre']\n",
    "\n",
    "preprocessor = make_column_transformer(\n",
    "    (StandardScaler(), features_num),\n",
    "    (OneHotEncoder(), features_cat),\n",
    ")\n",
    "\n",
    "def group_split(X, y, group, train_size=0.75):\n",
    "    splitter = GroupShuffleSplit(train_size=train_size)\n",
    "    train, test = next(splitter.split(X, y, groups=group))\n",
    "    return (X.iloc[train], X.iloc[test], y.iloc[train], y.iloc[test])\n",
    "\n",
    "X_train, X_valid, y_train, y_valid = group_split(X, y, artists)\n",
    "\n",
    "X_train = preprocessor.fit_transform(X_train)\n",
    "X_valid = preprocessor.transform(X_valid)\n",
    "y_train = y_train / 100\n",
    "y_valid = y_valid / 100\n",
    "\n",
    "input_shape = [X_train.shape[1]]\n",
    "print(\"Input shape: {}\".format(input_shape))"
   ]
  },
  {
   "cell_type": "markdown",
   "id": "8a0808fb",
   "metadata": {
    "papermill": {
     "duration": 0.00372,
     "end_time": "2025-07-18T18:48:04.772693",
     "exception": false,
     "start_time": "2025-07-18T18:48:04.768973",
     "status": "completed"
    },
    "tags": []
   },
   "source": [
    "# 1) Add Dropout to Spotify Model\n",
    "\n",
    "Here is the last model from Exercise 4. Add two dropout layers, one after the `Dense` layer with 128 units, and one after the `Dense` layer with 64 units. Set the dropout rate on both to `0.3`."
   ]
  },
  {
   "cell_type": "code",
   "execution_count": 3,
   "id": "fa4d460d",
   "metadata": {
    "execution": {
     "iopub.execute_input": "2025-07-18T18:48:04.781749Z",
     "iopub.status.busy": "2025-07-18T18:48:04.781111Z",
     "iopub.status.idle": "2025-07-18T18:48:05.722070Z",
     "shell.execute_reply": "2025-07-18T18:48:05.720985Z"
    },
    "lines_to_next_cell": 2,
    "papermill": {
     "duration": 0.948279,
     "end_time": "2025-07-18T18:48:05.724744",
     "exception": false,
     "start_time": "2025-07-18T18:48:04.776465",
     "status": "completed"
    },
    "tags": []
   },
   "outputs": [
    {
     "data": {
      "application/javascript": [
       "parent.postMessage({\"jupyterEvent\": \"custom.exercise_interaction\", \"data\": {\"outcomeType\": 1, \"valueTowardsCompletion\": 0.25, \"interactionType\": 1, \"questionType\": 2, \"questionId\": \"1_Q1\", \"learnToolsVersion\": \"0.3.4\", \"failureMessage\": \"\", \"exceptionClass\": \"\", \"trace\": \"\"}}, \"*\")"
      ],
      "text/plain": [
       "<IPython.core.display.Javascript object>"
      ]
     },
     "metadata": {},
     "output_type": "display_data"
    },
    {
     "data": {
      "text/markdown": [
       "<span style=\"color:#33cc33\">Correct</span>"
      ],
      "text/plain": [
       "Correct"
      ]
     },
     "metadata": {},
     "output_type": "display_data"
    }
   ],
   "source": [
    "# YOUR CODE HERE: Add two 30% dropout layers, one after 128 and one after 64\n",
    "model = keras.Sequential([\n",
    "    layers.Dense(128, activation='relu', input_shape=input_shape),\n",
    "    layers.Dropout(0.3),\n",
    "    layers.Dense(64, activation='relu'),\n",
    "    layers.Dropout(0.3),\n",
    "    layers.Dense(1)\n",
    "])\n",
    "\n",
    "# Check your answer\n",
    "q_1.check()"
   ]
  },
  {
   "cell_type": "code",
   "execution_count": 4,
   "id": "c73f5239",
   "metadata": {
    "execution": {
     "iopub.execute_input": "2025-07-18T18:48:05.738802Z",
     "iopub.status.busy": "2025-07-18T18:48:05.738079Z",
     "iopub.status.idle": "2025-07-18T18:48:05.741692Z",
     "shell.execute_reply": "2025-07-18T18:48:05.740812Z"
    },
    "papermill": {
     "duration": 0.01215,
     "end_time": "2025-07-18T18:48:05.743328",
     "exception": false,
     "start_time": "2025-07-18T18:48:05.731178",
     "status": "completed"
    },
    "tags": []
   },
   "outputs": [],
   "source": [
    "# Lines below will give you a hint or solution code\n",
    "#q_1.hint()\n",
    "#q_1.solution()"
   ]
  },
  {
   "cell_type": "markdown",
   "id": "29464240",
   "metadata": {
    "papermill": {
     "duration": 0.004571,
     "end_time": "2025-07-18T18:48:05.752852",
     "exception": false,
     "start_time": "2025-07-18T18:48:05.748281",
     "status": "completed"
    },
    "tags": []
   },
   "source": [
    "Now run this next cell to train the model see the effect of adding dropout."
   ]
  },
  {
   "cell_type": "code",
   "execution_count": 5,
   "id": "872d43aa",
   "metadata": {
    "execution": {
     "iopub.execute_input": "2025-07-18T18:48:05.762262Z",
     "iopub.status.busy": "2025-07-18T18:48:05.762004Z",
     "iopub.status.idle": "2025-07-18T18:48:16.446969Z",
     "shell.execute_reply": "2025-07-18T18:48:16.446065Z"
    },
    "papermill": {
     "duration": 10.691963,
     "end_time": "2025-07-18T18:48:16.448646",
     "exception": false,
     "start_time": "2025-07-18T18:48:05.756683",
     "status": "completed"
    },
    "tags": []
   },
   "outputs": [
    {
     "name": "stderr",
     "output_type": "stream",
     "text": [
      "WARNING: All log messages before absl::InitializeLog() is called are written to STDERR\n",
      "I0000 00:00:1752864488.094506      69 device_compiler.h:186] Compiled cluster using XLA!  This line is logged at most once for the lifetime of the process.\n"
     ]
    },
    {
     "name": "stdout",
     "output_type": "stream",
     "text": [
      "Minimum Validation Loss: 0.1912\n"
     ]
    },
    {
     "data": {
      "image/png": "[encoded data removed]",
      "text/plain": [
       "<Figure size 640x480 with 1 Axes>"
      ]
     },
     "metadata": {},
     "output_type": "display_data"
    }
   ],
   "source": [
    "model.compile(\n",
    "    optimizer='adam',\n",
    "    loss='mae',\n",
    ")\n",
    "history = model.fit(\n",
    "    X_train, y_train,\n",
    "    validation_data=(X_valid, y_valid),\n",
    "    batch_size=512,\n",
    "    epochs=50,\n",
    "    verbose=0,\n",
    ")\n",
    "history_df = pd.DataFrame(history.history)\n",
    "history_df.loc[:, ['loss', 'val_loss']].plot()\n",
    "print(\"Minimum Validation Loss: {:0.4f}\".format(history_df['val_loss'].min()))"
   ]
  },
  {
   "cell_type": "markdown",
   "id": "bafea9cb",
   "metadata": {
    "papermill": {
     "duration": 0.004315,
     "end_time": "2025-07-18T18:48:16.457569",
     "exception": false,
     "start_time": "2025-07-18T18:48:16.453254",
     "status": "completed"
    },
    "tags": []
   },
   "source": [
    "# 2) Evaluate Dropout\n",
    "\n",
    "Recall from Exercise 4 that this model tended to overfit the data around epoch 5. Did adding dropout seem to help prevent overfitting this time?"
   ]
  },
  {
   "cell_type": "code",
   "execution_count": 6,
   "id": "26bfaf55",
   "metadata": {
    "execution": {
     "iopub.execute_input": "2025-07-18T18:48:16.467381Z",
     "iopub.status.busy": "2025-07-18T18:48:16.467137Z",
     "iopub.status.idle": "2025-07-18T18:48:16.473594Z",
     "shell.execute_reply": "2025-07-18T18:48:16.472815Z"
    },
    "papermill": {
     "duration": 0.013205,
     "end_time": "2025-07-18T18:48:16.475213",
     "exception": false,
     "start_time": "2025-07-18T18:48:16.462008",
     "status": "completed"
    },
    "tags": []
   },
   "outputs": [
    {
     "data": {
      "application/javascript": [
       "parent.postMessage({\"jupyterEvent\": \"custom.exercise_interaction\", \"data\": {\"outcomeType\": 1, \"valueTowardsCompletion\": 0.25, \"interactionType\": 1, \"questionType\": 4, \"questionId\": \"2_Q2\", \"learnToolsVersion\": \"0.3.4\", \"failureMessage\": \"\", \"exceptionClass\": \"\", \"trace\": \"\"}}, \"*\")"
      ],
      "text/plain": [
       "<IPython.core.display.Javascript object>"
      ]
     },
     "metadata": {},
     "output_type": "display_data"
    },
    {
     "data": {
      "text/markdown": [
       "<span style=\"color:#33cc33\">Correct:</span> \n",
       "\n",
       "\n",
       "From the learning curves, you can see that the validation loss remains near a constant minimum even though the training loss continues to decrease. So we can see that adding dropout did prevent overfitting this time. Moreover, by making it harder for the network to fit spurious patterns, dropout may have encouraged the network to seek out more of the true patterns, possibly improving the validation loss some as well).\n"
      ],
      "text/plain": [
       "Correct: \n",
       "\n",
       "\n",
       "From the learning curves, you can see that the validation loss remains near a constant minimum even though the training loss continues to decrease. So we can see that adding dropout did prevent overfitting this time. Moreover, by making it harder for the network to fit spurious patterns, dropout may have encouraged the network to seek out more of the true patterns, possibly improving the validation loss some as well)."
      ]
     },
     "metadata": {},
     "output_type": "display_data"
    }
   ],
   "source": [
    "# View the solution (Run this cell to receive credit!)\n",
    "q_2.check()"
   ]
  },
  {
   "cell_type": "markdown",
   "id": "404a2e51",
   "metadata": {
    "papermill": {
     "duration": 0.00445,
     "end_time": "2025-07-18T18:48:16.484184",
     "exception": false,
     "start_time": "2025-07-18T18:48:16.479734",
     "status": "completed"
    },
    "tags": []
   },
   "source": [
    "Now, we'll switch topics to explore how batch normalization can fix problems in training.\n",
    "\n",
    "Load the *Concrete* dataset. We won't do any standardization this time. This will make the effect of batch normalization much more apparent."
   ]
  },
  {
   "cell_type": "code",
   "execution_count": 7,
   "id": "930a5feb",
   "metadata": {
    "execution": {
     "iopub.execute_input": "2025-07-18T18:48:16.494782Z",
     "iopub.status.busy": "2025-07-18T18:48:16.494158Z",
     "iopub.status.idle": "2025-07-18T18:48:16.511540Z",
     "shell.execute_reply": "2025-07-18T18:48:16.510917Z"
    },
    "papermill": {
     "duration": 0.024128,
     "end_time": "2025-07-18T18:48:16.513013",
     "exception": false,
     "start_time": "2025-07-18T18:48:16.488885",
     "status": "completed"
    },
    "tags": []
   },
   "outputs": [],
   "source": [
    "import pandas as pd\n",
    "\n",
    "concrete = pd.read_csv('../input/dl-course-data/concrete.csv')\n",
    "df = concrete.copy()\n",
    "\n",
    "df_train = df.sample(frac=0.7, random_state=0)\n",
    "df_valid = df.drop(df_train.index)\n",
    "\n",
    "X_train = df_train.drop('CompressiveStrength', axis=1)\n",
    "X_valid = df_valid.drop('CompressiveStrength', axis=1)\n",
    "y_train = df_train['CompressiveStrength']\n",
    "y_valid = df_valid['CompressiveStrength']\n",
    "\n",
    "input_shape = [X_train.shape[1]]"
   ]
  },
  {
   "cell_type": "markdown",
   "id": "af06b44b",
   "metadata": {
    "papermill": {
     "duration": 0.004341,
     "end_time": "2025-07-18T18:48:16.522072",
     "exception": false,
     "start_time": "2025-07-18T18:48:16.517731",
     "status": "completed"
    },
    "tags": []
   },
   "source": [
    "Run the following cell to train the network on the unstandardized *Concrete* data."
   ]
  },
  {
   "cell_type": "code",
   "execution_count": 8,
   "id": "751c05f3",
   "metadata": {
    "execution": {
     "iopub.execute_input": "2025-07-18T18:48:16.532310Z",
     "iopub.status.busy": "2025-07-18T18:48:16.532096Z",
     "iopub.status.idle": "2025-07-18T18:48:23.213905Z",
     "shell.execute_reply": "2025-07-18T18:48:23.212931Z"
    },
    "papermill": {
     "duration": 6.68902,
     "end_time": "2025-07-18T18:48:23.215779",
     "exception": false,
     "start_time": "2025-07-18T18:48:16.526759",
     "status": "completed"
    },
    "tags": []
   },
   "outputs": [
    {
     "name": "stdout",
     "output_type": "stream",
     "text": [
      "Minimum Validation Loss: nan\n"
     ]
    },
    {
     "data": {
      "image/png": "[encoded data removed]",
      "text/plain": [
       "<Figure size 640x480 with 1 Axes>"
      ]
     },
     "metadata": {},
     "output_type": "display_data"
    }
   ],
   "source": [
    "model = keras.Sequential([\n",
    "    layers.Dense(512, activation='relu', input_shape=input_shape),\n",
    "    layers.Dense(512, activation='relu'),    \n",
    "    layers.Dense(512, activation='relu'),\n",
    "    layers.Dense(1),\n",
    "])\n",
    "model.compile(\n",
    "    optimizer='sgd', # SGD is more sensitive to differences of scale\n",
    "    loss='mae',\n",
    "    metrics=['mae'],\n",
    ")\n",
    "history = model.fit(\n",
    "    X_train, y_train,\n",
    "    validation_data=(X_valid, y_valid),\n",
    "    batch_size=64,\n",
    "    epochs=100,\n",
    "    verbose=0,\n",
    ")\n",
    "\n",
    "history_df = pd.DataFrame(history.history)\n",
    "history_df.loc[0:, ['loss', 'val_loss']].plot()\n",
    "print((\"Minimum Validation Loss: {:0.4f}\").format(history_df['val_loss'].min()))"
   ]
  },
  {
   "cell_type": "markdown",
   "id": "c98660fa",
   "metadata": {
    "papermill": {
     "duration": 0.004774,
     "end_time": "2025-07-18T18:48:23.225740",
     "exception": false,
     "start_time": "2025-07-18T18:48:23.220966",
     "status": "completed"
    },
    "tags": []
   },
   "source": [
    "Did you end up with a blank graph? Trying to train this network on this dataset will usually fail. Even when it does converge (due to a lucky weight initialization), it tends to converge to a very large number.\n",
    "\n",
    "# 3) Add Batch Normalization Layers\n",
    "\n",
    "Batch normalization can help correct problems like this.\n",
    "\n",
    "Add four `BatchNormalization` layers, one before each of the dense layers. (Remember to move the `input_shape` argument to the new first layer.)"
   ]
  },
  {
   "cell_type": "code",
   "execution_count": 9,
   "id": "8d1f8085",
   "metadata": {
    "execution": {
     "iopub.execute_input": "2025-07-18T18:48:23.236470Z",
     "iopub.status.busy": "2025-07-18T18:48:23.236206Z",
     "iopub.status.idle": "2025-07-18T18:48:23.255859Z",
     "shell.execute_reply": "2025-07-18T18:48:23.255059Z"
    },
    "lines_to_next_cell": 0,
    "papermill": {
     "duration": 0.026772,
     "end_time": "2025-07-18T18:48:23.257373",
     "exception": false,
     "start_time": "2025-07-18T18:48:23.230601",
     "status": "completed"
    },
    "tags": []
   },
   "outputs": [
    {
     "data": {
      "application/javascript": [
       "parent.postMessage({\"jupyterEvent\": \"custom.exercise_interaction\", \"data\": {\"outcomeType\": 1, \"valueTowardsCompletion\": 0.25, \"interactionType\": 1, \"questionType\": 2, \"questionId\": \"3_Q3\", \"learnToolsVersion\": \"0.3.4\", \"failureMessage\": \"\", \"exceptionClass\": \"\", \"trace\": \"\"}}, \"*\")"
      ],
      "text/plain": [
       "<IPython.core.display.Javascript object>"
      ]
     },
     "metadata": {},
     "output_type": "display_data"
    },
    {
     "data": {
      "text/markdown": [
       "<span style=\"color:#33cc33\">Correct</span>"
      ],
      "text/plain": [
       "Correct"
      ]
     },
     "metadata": {},
     "output_type": "display_data"
    }
   ],
   "source": [
    "# YOUR CODE HERE: Add a BatchNormalization layer before each Dense layer\n",
    "model = keras.Sequential([\n",
    "    layers.BatchNormalization(),\n",
    "    layers.Dense(512, activation='relu', input_shape=input_shape),\n",
    "    layers.BatchNormalization(),\n",
    "    layers.Dense(512, activation='relu'),\n",
    "    layers.BatchNormalization(),\n",
    "    layers.Dense(512, activation='relu'),\n",
    "    layers.BatchNormalization(),\n",
    "    layers.Dense(1),\n",
    "])\n",
    "\n",
    "# Check your answer\n",
    "q_3.check()"
   ]
  },
  {
   "cell_type": "code",
   "execution_count": 10,
   "id": "979c9863",
   "metadata": {
    "execution": {
     "iopub.execute_input": "2025-07-18T18:48:23.268499Z",
     "iopub.status.busy": "2025-07-18T18:48:23.268254Z",
     "iopub.status.idle": "2025-07-18T18:48:23.271476Z",
     "shell.execute_reply": "2025-07-18T18:48:23.270837Z"
    },
    "papermill": {
     "duration": 0.010648,
     "end_time": "2025-07-18T18:48:23.272938",
     "exception": false,
     "start_time": "2025-07-18T18:48:23.262290",
     "status": "completed"
    },
    "tags": []
   },
   "outputs": [],
   "source": [
    "# Lines below will give you a hint or solution code\n",
    "#q_3.hint()\n",
    "#q_3.solution()"
   ]
  },
  {
   "cell_type": "markdown",
   "id": "1b23b8ee",
   "metadata": {
    "papermill": {
     "duration": 0.004754,
     "end_time": "2025-07-18T18:48:23.282837",
     "exception": false,
     "start_time": "2025-07-18T18:48:23.278083",
     "status": "completed"
    },
    "tags": []
   },
   "source": [
    "Run the next cell to see if batch normalization will let us train the model."
   ]
  },
  {
   "cell_type": "code",
   "execution_count": 11,
   "id": "94287a0d",
   "metadata": {
    "execution": {
     "iopub.execute_input": "2025-07-18T18:48:23.293806Z",
     "iopub.status.busy": "2025-07-18T18:48:23.293574Z",
     "iopub.status.idle": "2025-07-18T18:48:33.725503Z",
     "shell.execute_reply": "2025-07-18T18:48:33.724595Z"
    },
    "papermill": {
     "duration": 10.439516,
     "end_time": "2025-07-18T18:48:33.727390",
     "exception": false,
     "start_time": "2025-07-18T18:48:23.287874",
     "status": "completed"
    },
    "tags": []
   },
   "outputs": [
    {
     "name": "stdout",
     "output_type": "stream",
     "text": [
      "Minimum Validation Loss: 4.1207\n"
     ]
    },
    {
     "data": {
      "image/png": "[encoded data removed]",
      "text/plain": [
       "<Figure size 640x480 with 1 Axes>"
      ]
     },
     "metadata": {},
     "output_type": "display_data"
    }
   ],
   "source": [
    "model.compile(\n",
    "    optimizer='sgd',\n",
    "    loss='mae',\n",
    "    metrics=['mae'],\n",
    ")\n",
    "EPOCHS = 100\n",
    "history = model.fit(\n",
    "    X_train, y_train,\n",
    "    validation_data=(X_valid, y_valid),\n",
    "    batch_size=64,\n",
    "    epochs=EPOCHS,\n",
    "    verbose=0,\n",
    ")\n",
    "\n",
    "history_df = pd.DataFrame(history.history)\n",
    "history_df.loc[0:, ['loss', 'val_loss']].plot()\n",
    "print((\"Minimum Validation Loss: {:0.4f}\").format(history_df['val_loss'].min()))"
   ]
  },
  {
   "cell_type": "markdown",
   "id": "0a25a4c7",
   "metadata": {
    "papermill": {
     "duration": 0.00549,
     "end_time": "2025-07-18T18:48:33.738884",
     "exception": false,
     "start_time": "2025-07-18T18:48:33.733394",
     "status": "completed"
    },
    "tags": []
   },
   "source": [
    "# 4) Evaluate Batch Normalization\n",
    "\n",
    "Did adding batch normalization help?"
   ]
  },
  {
   "cell_type": "code",
   "execution_count": 12,
   "id": "730b441a",
   "metadata": {
    "execution": {
     "iopub.execute_input": "2025-07-18T18:48:33.751111Z",
     "iopub.status.busy": "2025-07-18T18:48:33.750612Z",
     "iopub.status.idle": "2025-07-18T18:48:33.757173Z",
     "shell.execute_reply": "2025-07-18T18:48:33.756360Z"
    },
    "lines_to_next_cell": 0,
    "papermill": {
     "duration": 0.014419,
     "end_time": "2025-07-18T18:48:33.758767",
     "exception": false,
     "start_time": "2025-07-18T18:48:33.744348",
     "status": "completed"
    },
    "tags": []
   },
   "outputs": [
    {
     "data": {
      "application/javascript": [
       "parent.postMessage({\"jupyterEvent\": \"custom.exercise_interaction\", \"data\": {\"outcomeType\": 1, \"valueTowardsCompletion\": 0.25, \"interactionType\": 1, \"questionType\": 4, \"questionId\": \"4_Q4\", \"learnToolsVersion\": \"0.3.4\", \"failureMessage\": \"\", \"exceptionClass\": \"\", \"trace\": \"\"}}, \"*\")"
      ],
      "text/plain": [
       "<IPython.core.display.Javascript object>"
      ]
     },
     "metadata": {},
     "output_type": "display_data"
    },
    {
     "data": {
      "text/markdown": [
       "<span style=\"color:#33cc33\">Correct:</span> \n",
       "\n",
       "\n",
       "You can see that adding batch normalization was a big improvement on the first attempt! By adaptively scaling the data as it passes through the network, batch normalization can let you train models on difficult datasets.\n"
      ],
      "text/plain": [
       "Correct: \n",
       "\n",
       "\n",
       "You can see that adding batch normalization was a big improvement on the first attempt! By adaptively scaling the data as it passes through the network, batch normalization can let you train models on difficult datasets."
      ]
     },
     "metadata": {},
     "output_type": "display_data"
    }
   ],
   "source": [
    "# View the solution (Run this cell to receive credit!)\n",
    "q_4.check()"
   ]
  },
  {
   "cell_type": "markdown",
   "id": "fa91e177",
   "metadata": {
    "papermill": {
     "duration": 0.005403,
     "end_time": "2025-07-18T18:48:33.769855",
     "exception": false,
     "start_time": "2025-07-18T18:48:33.764452",
     "status": "completed"
    },
    "tags": []
   },
   "source": [
    "# Keep Going #\n",
    "\n",
    "[**Create neural networks**](https://www.kaggle.com/ryanholbrook/binary-classification) for binary classification."
   ]
  },
  {
   "cell_type": "markdown",
   "id": "24107d19",
   "metadata": {
    "papermill": {
     "duration": 0.005417,
     "end_time": "2025-07-18T18:48:33.780869",
     "exception": false,
     "start_time": "2025-07-18T18:48:33.775452",
     "status": "completed"
    },
    "tags": []
   },
   "source": [
    "---\n",
    "\n",
    "\n",
    "\n",
    "\n",
    "*Have questions or comments? Visit the [course discussion forum](https://www.kaggle.com/learn/intro-to-deep-learning/discussion) to chat with other learners.*"
   ]
  }
 ],
 "metadata": {
  "jupytext": {
   "cell_metadata_filter": "-all",
   "formats": "ipynb"
  },
  "kaggle": {
   "accelerator": "gpu",
   "dataSources": [
    {
     "datasetId": 829369,
     "sourceId": 1480608,
     "sourceType": "datasetVersion"
    }
   ],
   "dockerImageVersionId": 30648,
   "isGpuEnabled": true,
   "isInternetEnabled": false,
   "language": "python",
   "sourceType": "notebook"
  },
  "kernelspec": {
   "display_name": "Python 3",
   "language": "python",
   "name": "python3"
  },
  "language_info": {
   "codemirror_mode": {
    "name": "ipython",
    "version": 3
   },
   "file_extension": ".py",
   "mimetype": "text/x-python",
   "name": "python",
   "nbconvert_exporter": "python",
   "pygments_lexer": "ipython3",
   "version": "3.10.13"
  },
  "papermill": {
   "default_parameters": {},
   "duration": 48.081482,
   "end_time": "2025-07-18T18:48:36.673980",
   "environment_variables": {},
   "exception": null,
   "input_path": "__notebook__.ipynb",
   "output_path": "__notebook__.ipynb",
   "parameters": {},
   "start_time": "2025-07-18T18:47:48.592498",
   "version": "2.5.0"
  }
 },
 "nbformat": 4,
 "nbformat_minor": 5
}
