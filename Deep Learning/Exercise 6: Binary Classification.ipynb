{
 "cells": [
  {
   "cell_type": "markdown",
   "id": "2bd6ea84",
   "metadata": {
    "papermill": {
     "duration": 0.003552,
     "end_time": "2025-07-18T19:10:52.718115",
     "exception": false,
     "start_time": "2025-07-18T19:10:52.714563",
     "status": "completed"
    },
    "tags": []
   },
   "source": [
    "**This notebook is an exercise in the [Intro to Deep Learning](https://www.kaggle.com/learn/intro-to-deep-learning) course.  You can reference the tutorial at [this link](https://www.kaggle.com/ryanholbrook/binary-classification).**\n",
    "\n",
    "---\n"
   ]
  },
  {
   "cell_type": "markdown",
   "id": "9a2138dc",
   "metadata": {
    "papermill": {
     "duration": 0.002729,
     "end_time": "2025-07-18T19:10:52.724073",
     "exception": false,
     "start_time": "2025-07-18T19:10:52.721344",
     "status": "completed"
    },
    "tags": []
   },
   "source": [
    "# Introduction #\n",
    "\n",
    "In this exercise, you'll build a model to predict hotel cancellations with a binary classifier."
   ]
  },
  {
   "cell_type": "code",
   "execution_count": 1,
   "id": "c00c3eb3",
   "metadata": {
    "execution": {
     "iopub.execute_input": "2025-07-18T19:10:52.731227Z",
     "iopub.status.busy": "2025-07-18T19:10:52.730906Z",
     "iopub.status.idle": "2025-07-18T19:10:53.569189Z",
     "shell.execute_reply": "2025-07-18T19:10:53.568195Z"
    },
    "lines_to_next_cell": 0,
    "papermill": {
     "duration": 0.844615,
     "end_time": "2025-07-18T19:10:53.571516",
     "exception": false,
     "start_time": "2025-07-18T19:10:52.726901",
     "status": "completed"
    },
    "tags": []
   },
   "outputs": [
    {
     "name": "stderr",
     "output_type": "stream",
     "text": [
      "/tmp/ipykernel_26/3338970720.py:3: MatplotlibDeprecationWarning: The seaborn styles shipped by Matplotlib are deprecated since 3.6, as they no longer correspond to the styles shipped by seaborn. However, they will remain available as 'seaborn-v0_8-<style>'. Alternatively, directly use the seaborn API instead.\n",
      "  plt.style.use('seaborn-whitegrid')\n"
     ]
    }
   ],
   "source": [
    "# Setup plotting\n",
    "import matplotlib.pyplot as plt\n",
    "plt.style.use('seaborn-whitegrid')\n",
    "# Set Matplotlib defaults\n",
    "plt.rc('figure', autolayout=True)\n",
    "plt.rc('axes', labelweight='bold', labelsize='large',\n",
    "       titleweight='bold', titlesize=18, titlepad=10)\n",
    "plt.rc('animation', html='html5')\n",
    "\n",
    "# Setup feedback system\n",
    "from learntools.core import binder\n",
    "binder.bind(globals())\n",
    "from learntools.deep_learning_intro.ex6 import *"
   ]
  },
  {
   "cell_type": "markdown",
   "id": "9b6668d2",
   "metadata": {
    "papermill": {
     "duration": 0.002814,
     "end_time": "2025-07-18T19:10:53.577709",
     "exception": false,
     "start_time": "2025-07-18T19:10:53.574895",
     "status": "completed"
    },
    "tags": []
   },
   "source": [
    "First, load the *Hotel Cancellations* dataset."
   ]
  },
  {
   "cell_type": "code",
   "execution_count": 2,
   "id": "633b9d08",
   "metadata": {
    "execution": {
     "iopub.execute_input": "2025-07-18T19:10:53.584960Z",
     "iopub.status.busy": "2025-07-18T19:10:53.584567Z",
     "iopub.status.idle": "2025-07-18T19:10:56.007193Z",
     "shell.execute_reply": "2025-07-18T19:10:56.006060Z"
    },
    "lines_to_next_cell": 2,
    "papermill": {
     "duration": 2.429332,
     "end_time": "2025-07-18T19:10:56.010143",
     "exception": false,
     "start_time": "2025-07-18T19:10:53.580811",
     "status": "completed"
    },
    "tags": []
   },
   "outputs": [],
   "source": [
    "import pandas as pd\n",
    "\n",
    "from sklearn.model_selection import train_test_split\n",
    "from sklearn.preprocessing import StandardScaler, OneHotEncoder\n",
    "from sklearn.impute import SimpleImputer\n",
    "from sklearn.pipeline import make_pipeline\n",
    "from sklearn.compose import make_column_transformer\n",
    "\n",
    "hotel = pd.read_csv('../input/dl-course-data/hotel.csv')\n",
    "\n",
    "X = hotel.copy()\n",
    "y = X.pop('is_canceled')\n",
    "\n",
    "X['arrival_date_month'] = \\\n",
    "    X['arrival_date_month'].map(\n",
    "        {'January':1, 'February': 2, 'March':3,\n",
    "         'April':4, 'May':5, 'June':6, 'July':7,\n",
    "         'August':8, 'September':9, 'October':10,\n",
    "         'November':11, 'December':12}\n",
    "    )\n",
    "\n",
    "features_num = [\n",
    "    \"lead_time\", \"arrival_date_week_number\",\n",
    "    \"arrival_date_day_of_month\", \"stays_in_weekend_nights\",\n",
    "    \"stays_in_week_nights\", \"adults\", \"children\", \"babies\",\n",
    "    \"is_repeated_guest\", \"previous_cancellations\",\n",
    "    \"previous_bookings_not_canceled\", \"required_car_parking_spaces\",\n",
    "    \"total_of_special_requests\", \"adr\",\n",
    "]\n",
    "features_cat = [\n",
    "    \"hotel\", \"arrival_date_month\", \"meal\",\n",
    "    \"market_segment\", \"distribution_channel\",\n",
    "    \"reserved_room_type\", \"deposit_type\", \"customer_type\",\n",
    "]\n",
    "\n",
    "transformer_num = make_pipeline(\n",
    "    SimpleImputer(strategy=\"constant\"), # there are a few missing values\n",
    "    StandardScaler(),\n",
    ")\n",
    "transformer_cat = make_pipeline(\n",
    "    SimpleImputer(strategy=\"constant\", fill_value=\"NA\"),\n",
    "    OneHotEncoder(handle_unknown='ignore'),\n",
    ")\n",
    "\n",
    "preprocessor = make_column_transformer(\n",
    "    (transformer_num, features_num),\n",
    "    (transformer_cat, features_cat),\n",
    ")\n",
    "\n",
    "# stratify - make sure classes are evenlly represented across splits\n",
    "X_train, X_valid, y_train, y_valid = \\\n",
    "    train_test_split(X, y, stratify=y, train_size=0.75)\n",
    "\n",
    "X_train = preprocessor.fit_transform(X_train)\n",
    "X_valid = preprocessor.transform(X_valid)\n",
    "\n",
    "input_shape = [X_train.shape[1]]"
   ]
  },
  {
   "cell_type": "markdown",
   "id": "41cc3726",
   "metadata": {
    "papermill": {
     "duration": 0.003604,
     "end_time": "2025-07-18T19:10:56.019150",
     "exception": false,
     "start_time": "2025-07-18T19:10:56.015546",
     "status": "completed"
    },
    "tags": []
   },
   "source": [
    "# 1) Define Model #\n",
    "\n",
    "The model we'll use this time will have both batch normalization and dropout layers. To ease reading we've broken the diagram into blocks, but you can define it layer by layer as usual.\n",
    "\n",
    "Define a model with an architecture given by this diagram:\n",
    "\n",
    "<figure style=\"padding: 1em;\">\n",
    "<img src=\"https://storage.googleapis.com/kaggle-media/learn/images/V04o59Z.png\" width=\"400\" alt=\"Diagram of network architecture: BatchNorm, Dense, BatchNorm, Dropout, Dense, BatchNorm, Dropout, Dense.\">\n",
    "<figcaption style=\"textalign: center; font-style: italic\"><center>Diagram of a binary classifier.</center></figcaption>\n",
    "</figure>\n"
   ]
  },
  {
   "cell_type": "code",
   "execution_count": 3,
   "id": "629d4bcb",
   "metadata": {
    "execution": {
     "iopub.execute_input": "2025-07-18T19:10:56.027359Z",
     "iopub.status.busy": "2025-07-18T19:10:56.026649Z",
     "iopub.status.idle": "2025-07-18T19:11:09.032392Z",
     "shell.execute_reply": "2025-07-18T19:11:09.031388Z"
    },
    "lines_to_next_cell": 2,
    "papermill": {
     "duration": 13.011812,
     "end_time": "2025-07-18T19:11:09.034318",
     "exception": false,
     "start_time": "2025-07-18T19:10:56.022506",
     "status": "completed"
    },
    "tags": []
   },
   "outputs": [
    {
     "name": "stderr",
     "output_type": "stream",
     "text": [
      "2025-07-18 19:10:57.876241: E external/local_xla/xla/stream_executor/cuda/cuda_dnn.cc:9261] Unable to register cuDNN factory: Attempting to register factory for plugin cuDNN when one has already been registered\n",
      "2025-07-18 19:10:57.876360: E external/local_xla/xla/stream_executor/cuda/cuda_fft.cc:607] Unable to register cuFFT factory: Attempting to register factory for plugin cuFFT when one has already been registered\n",
      "2025-07-18 19:10:58.020566: E external/local_xla/xla/stream_executor/cuda/cuda_blas.cc:1515] Unable to register cuBLAS factory: Attempting to register factory for plugin cuBLAS when one has already been registered\n"
     ]
    },
    {
     "data": {
      "application/javascript": [
       "parent.postMessage({\"jupyterEvent\": \"custom.exercise_interaction\", \"data\": {\"outcomeType\": 1, \"valueTowardsCompletion\": 0.3333333333333333, \"interactionType\": 1, \"questionType\": 2, \"questionId\": \"1_Q1\", \"learnToolsVersion\": \"0.3.4\", \"failureMessage\": \"\", \"exceptionClass\": \"\", \"trace\": \"\"}}, \"*\")"
      ],
      "text/plain": [
       "<IPython.core.display.Javascript object>"
      ]
     },
     "metadata": {},
     "output_type": "display_data"
    },
    {
     "data": {
      "text/markdown": [
       "<span style=\"color:#33cc33\">Correct</span>"
      ],
      "text/plain": [
       "Correct"
      ]
     },
     "metadata": {},
     "output_type": "display_data"
    }
   ],
   "source": [
    "from tensorflow import keras\n",
    "from tensorflow.keras import layers\n",
    "\n",
    "# YOUR CODE HERE: define the model given in the diagram\n",
    "model = keras.Sequential([\n",
    "    layers.BatchNormalization(),\n",
    "    layers.Dense(256, activation='relu', input_shape=input_shape),\n",
    "    layers.BatchNormalization(),\n",
    "    layers.Dropout(0.3),\n",
    "    layers.Dense(256, activation='relu'),\n",
    "    layers.BatchNormalization(),\n",
    "    layers.Dropout(0.3),\n",
    "    layers.Dense(1, activation='sigmoid')\n",
    "])\n",
    "\n",
    "# Check your answer\n",
    "q_1.check()"
   ]
  },
  {
   "cell_type": "markdown",
   "id": "0b4e2fac",
   "metadata": {
    "papermill": {
     "duration": 0.003229,
     "end_time": "2025-07-18T19:11:09.041376",
     "exception": false,
     "start_time": "2025-07-18T19:11:09.038147",
     "status": "completed"
    },
    "tags": []
   },
   "source": [
    "# 2) Add Optimizer, Loss, and Metric #\n",
    "\n",
    "Now compile the model with the Adam optimizer and binary versions of the cross-entropy loss and accuracy metric."
   ]
  },
  {
   "cell_type": "code",
   "execution_count": 4,
   "id": "20ec1627",
   "metadata": {
    "execution": {
     "iopub.execute_input": "2025-07-18T19:11:09.049381Z",
     "iopub.status.busy": "2025-07-18T19:11:09.048581Z",
     "iopub.status.idle": "2025-07-18T19:11:09.078112Z",
     "shell.execute_reply": "2025-07-18T19:11:09.077162Z"
    },
    "lines_to_next_cell": 0,
    "papermill": {
     "duration": 0.035611,
     "end_time": "2025-07-18T19:11:09.080119",
     "exception": false,
     "start_time": "2025-07-18T19:11:09.044508",
     "status": "completed"
    },
    "tags": []
   },
   "outputs": [
    {
     "data": {
      "application/javascript": [
       "parent.postMessage({\"jupyterEvent\": \"custom.exercise_interaction\", \"data\": {\"outcomeType\": 1, \"valueTowardsCompletion\": 0.3333333333333333, \"interactionType\": 1, \"questionType\": 2, \"questionId\": \"2_Q2\", \"learnToolsVersion\": \"0.3.4\", \"failureMessage\": \"\", \"exceptionClass\": \"\", \"trace\": \"\"}}, \"*\")"
      ],
      "text/plain": [
       "<IPython.core.display.Javascript object>"
      ]
     },
     "metadata": {},
     "output_type": "display_data"
    },
    {
     "data": {
      "text/markdown": [
       "<span style=\"color:#33cc33\">Correct</span>"
      ],
      "text/plain": [
       "Correct"
      ]
     },
     "metadata": {},
     "output_type": "display_data"
    }
   ],
   "source": [
    "# YOUR CODE HERE\n",
    "model.compile(\n",
    "    optimizer='adam',\n",
    "    loss='binary_crossentropy',\n",
    "    metrics=['binary_accuracy'],\n",
    ")\n",
    "\n",
    "# Check your answer\n",
    "q_2.check()"
   ]
  },
  {
   "cell_type": "code",
   "execution_count": 5,
   "id": "db1404ff",
   "metadata": {
    "execution": {
     "iopub.execute_input": "2025-07-18T19:11:09.088190Z",
     "iopub.status.busy": "2025-07-18T19:11:09.087916Z",
     "iopub.status.idle": "2025-07-18T19:11:09.091532Z",
     "shell.execute_reply": "2025-07-18T19:11:09.090869Z"
    },
    "lines_to_next_cell": 0,
    "papermill": {
     "duration": 0.009736,
     "end_time": "2025-07-18T19:11:09.093336",
     "exception": false,
     "start_time": "2025-07-18T19:11:09.083600",
     "status": "completed"
    },
    "tags": []
   },
   "outputs": [],
   "source": [
    "# Lines below will give you a hint or solution code\n",
    "#q_2.hint()\n",
    "#q_2.solution()"
   ]
  },
  {
   "cell_type": "markdown",
   "id": "c994b535",
   "metadata": {
    "papermill": {
     "duration": 0.003146,
     "end_time": "2025-07-18T19:11:09.099741",
     "exception": false,
     "start_time": "2025-07-18T19:11:09.096595",
     "status": "completed"
    },
    "tags": []
   },
   "source": [
    "Finally, run this cell to train the model and view the learning curves. It may run for around 60 to 70 epochs, which could take a minute or two."
   ]
  },
  {
   "cell_type": "code",
   "execution_count": 6,
   "id": "0f6ccdd6",
   "metadata": {
    "execution": {
     "iopub.execute_input": "2025-07-18T19:11:09.107368Z",
     "iopub.status.busy": "2025-07-18T19:11:09.107127Z",
     "iopub.status.idle": "2025-07-18T19:11:58.863500Z",
     "shell.execute_reply": "2025-07-18T19:11:58.862520Z"
    },
    "papermill": {
     "duration": 49.762685,
     "end_time": "2025-07-18T19:11:58.865681",
     "exception": false,
     "start_time": "2025-07-18T19:11:09.102996",
     "status": "completed"
    },
    "tags": []
   },
   "outputs": [
    {
     "name": "stdout",
     "output_type": "stream",
     "text": [
      "Epoch 1/200\n"
     ]
    },
    {
     "name": "stderr",
     "output_type": "stream",
     "text": [
      "WARNING: All log messages before absl::InitializeLog() is called are written to STDERR\n",
      "I0000 00:00:1752865873.602356      68 device_compiler.h:186] Compiled cluster using XLA!  This line is logged at most once for the lifetime of the process.\n"
     ]
    },
    {
     "name": "stdout",
     "output_type": "stream",
     "text": [
      "175/175 [==============================] - 6s 7ms/step - loss: 0.4830 - binary_accuracy: 0.7692 - val_loss: 0.4317 - val_binary_accuracy: 0.8032\n",
      "Epoch 2/200\n",
      "175/175 [==============================] - 1s 6ms/step - loss: 0.4236 - binary_accuracy: 0.8009 - val_loss: 0.3972 - val_binary_accuracy: 0.8168\n",
      "Epoch 3/200\n",
      "175/175 [==============================] - 1s 6ms/step - loss: 0.4103 - binary_accuracy: 0.8073 - val_loss: 0.3898 - val_binary_accuracy: 0.8221\n",
      "Epoch 4/200\n",
      "175/175 [==============================] - 1s 6ms/step - loss: 0.4029 - binary_accuracy: 0.8113 - val_loss: 0.3888 - val_binary_accuracy: 0.8217\n",
      "Epoch 5/200\n",
      "175/175 [==============================] - 1s 6ms/step - loss: 0.3991 - binary_accuracy: 0.8137 - val_loss: 0.3838 - val_binary_accuracy: 0.8222\n",
      "Epoch 6/200\n",
      "175/175 [==============================] - 1s 6ms/step - loss: 0.3939 - binary_accuracy: 0.8165 - val_loss: 0.3794 - val_binary_accuracy: 0.8255\n",
      "Epoch 7/200\n",
      "175/175 [==============================] - 1s 6ms/step - loss: 0.3907 - binary_accuracy: 0.8173 - val_loss: 0.3800 - val_binary_accuracy: 0.8275\n",
      "Epoch 8/200\n",
      "175/175 [==============================] - 1s 6ms/step - loss: 0.3870 - binary_accuracy: 0.8206 - val_loss: 0.3752 - val_binary_accuracy: 0.8282\n",
      "Epoch 9/200\n",
      "175/175 [==============================] - 1s 6ms/step - loss: 0.3841 - binary_accuracy: 0.8207 - val_loss: 0.3731 - val_binary_accuracy: 0.8295\n",
      "Epoch 10/200\n",
      "175/175 [==============================] - 1s 6ms/step - loss: 0.3812 - binary_accuracy: 0.8223 - val_loss: 0.3696 - val_binary_accuracy: 0.8320\n",
      "Epoch 11/200\n",
      "175/175 [==============================] - 1s 6ms/step - loss: 0.3793 - binary_accuracy: 0.8241 - val_loss: 0.3695 - val_binary_accuracy: 0.8324\n",
      "Epoch 12/200\n",
      "175/175 [==============================] - 1s 6ms/step - loss: 0.3762 - binary_accuracy: 0.8252 - val_loss: 0.3693 - val_binary_accuracy: 0.8331\n",
      "Epoch 13/200\n",
      "175/175 [==============================] - 1s 6ms/step - loss: 0.3744 - binary_accuracy: 0.8264 - val_loss: 0.3644 - val_binary_accuracy: 0.8344\n",
      "Epoch 14/200\n",
      "175/175 [==============================] - 1s 6ms/step - loss: 0.3715 - binary_accuracy: 0.8276 - val_loss: 0.3712 - val_binary_accuracy: 0.8298\n",
      "Epoch 15/200\n",
      "175/175 [==============================] - 1s 6ms/step - loss: 0.3694 - binary_accuracy: 0.8283 - val_loss: 0.3633 - val_binary_accuracy: 0.8338\n",
      "Epoch 16/200\n",
      "175/175 [==============================] - 1s 6ms/step - loss: 0.3671 - binary_accuracy: 0.8300 - val_loss: 0.3602 - val_binary_accuracy: 0.8349\n",
      "Epoch 17/200\n",
      "175/175 [==============================] - 1s 6ms/step - loss: 0.3667 - binary_accuracy: 0.8303 - val_loss: 0.3601 - val_binary_accuracy: 0.8351\n",
      "Epoch 18/200\n",
      "175/175 [==============================] - 1s 6ms/step - loss: 0.3645 - binary_accuracy: 0.8318 - val_loss: 0.3576 - val_binary_accuracy: 0.8349\n",
      "Epoch 19/200\n",
      "175/175 [==============================] - 1s 6ms/step - loss: 0.3639 - binary_accuracy: 0.8320 - val_loss: 0.3564 - val_binary_accuracy: 0.8378\n",
      "Epoch 20/200\n",
      "175/175 [==============================] - 1s 6ms/step - loss: 0.3628 - binary_accuracy: 0.8317 - val_loss: 0.3602 - val_binary_accuracy: 0.8350\n",
      "Epoch 21/200\n",
      "175/175 [==============================] - 1s 6ms/step - loss: 0.3613 - binary_accuracy: 0.8329 - val_loss: 0.3537 - val_binary_accuracy: 0.8389\n",
      "Epoch 22/200\n",
      "175/175 [==============================] - 1s 6ms/step - loss: 0.3596 - binary_accuracy: 0.8336 - val_loss: 0.3546 - val_binary_accuracy: 0.8362\n",
      "Epoch 23/200\n",
      "175/175 [==============================] - 1s 6ms/step - loss: 0.3588 - binary_accuracy: 0.8345 - val_loss: 0.3556 - val_binary_accuracy: 0.8373\n",
      "Epoch 24/200\n",
      "175/175 [==============================] - 1s 6ms/step - loss: 0.3562 - binary_accuracy: 0.8355 - val_loss: 0.3537 - val_binary_accuracy: 0.8396\n",
      "Epoch 25/200\n",
      "175/175 [==============================] - 1s 6ms/step - loss: 0.3556 - binary_accuracy: 0.8356 - val_loss: 0.3536 - val_binary_accuracy: 0.8394\n",
      "Epoch 26/200\n",
      "175/175 [==============================] - 1s 6ms/step - loss: 0.3534 - binary_accuracy: 0.8354 - val_loss: 0.3520 - val_binary_accuracy: 0.8388\n",
      "Epoch 27/200\n",
      "175/175 [==============================] - 1s 6ms/step - loss: 0.3532 - binary_accuracy: 0.8360 - val_loss: 0.3520 - val_binary_accuracy: 0.8393\n",
      "Epoch 28/200\n",
      "175/175 [==============================] - 1s 6ms/step - loss: 0.3526 - binary_accuracy: 0.8375 - val_loss: 0.3534 - val_binary_accuracy: 0.8381\n",
      "Epoch 29/200\n",
      "175/175 [==============================] - 1s 7ms/step - loss: 0.3505 - binary_accuracy: 0.8383 - val_loss: 0.3505 - val_binary_accuracy: 0.8391\n",
      "Epoch 30/200\n",
      "175/175 [==============================] - 1s 6ms/step - loss: 0.3488 - binary_accuracy: 0.8384 - val_loss: 0.3533 - val_binary_accuracy: 0.8391\n",
      "Epoch 31/200\n",
      "175/175 [==============================] - 1s 6ms/step - loss: 0.3486 - binary_accuracy: 0.8387 - val_loss: 0.3485 - val_binary_accuracy: 0.8409\n",
      "Epoch 32/200\n",
      "175/175 [==============================] - 1s 6ms/step - loss: 0.3478 - binary_accuracy: 0.8386 - val_loss: 0.3499 - val_binary_accuracy: 0.8405\n",
      "Epoch 33/200\n",
      "175/175 [==============================] - 1s 6ms/step - loss: 0.3485 - binary_accuracy: 0.8389 - val_loss: 0.3467 - val_binary_accuracy: 0.8423\n",
      "Epoch 34/200\n",
      "175/175 [==============================] - 1s 6ms/step - loss: 0.3468 - binary_accuracy: 0.8397 - val_loss: 0.3516 - val_binary_accuracy: 0.8397\n",
      "Epoch 35/200\n",
      "175/175 [==============================] - 1s 6ms/step - loss: 0.3461 - binary_accuracy: 0.8405 - val_loss: 0.3455 - val_binary_accuracy: 0.8433\n",
      "Epoch 36/200\n",
      "175/175 [==============================] - 1s 6ms/step - loss: 0.3442 - binary_accuracy: 0.8406 - val_loss: 0.3478 - val_binary_accuracy: 0.8418\n",
      "Epoch 37/200\n",
      "175/175 [==============================] - 1s 6ms/step - loss: 0.3433 - binary_accuracy: 0.8407 - val_loss: 0.3429 - val_binary_accuracy: 0.8436\n",
      "Epoch 38/200\n",
      "175/175 [==============================] - 1s 6ms/step - loss: 0.3424 - binary_accuracy: 0.8417 - val_loss: 0.3446 - val_binary_accuracy: 0.8439\n",
      "Epoch 39/200\n",
      "175/175 [==============================] - 1s 6ms/step - loss: 0.3406 - binary_accuracy: 0.8426 - val_loss: 0.3471 - val_binary_accuracy: 0.8423\n",
      "Epoch 40/200\n",
      "175/175 [==============================] - 1s 6ms/step - loss: 0.3416 - binary_accuracy: 0.8421 - val_loss: 0.3432 - val_binary_accuracy: 0.8441\n",
      "Epoch 41/200\n",
      "175/175 [==============================] - 1s 7ms/step - loss: 0.3410 - binary_accuracy: 0.8428 - val_loss: 0.3445 - val_binary_accuracy: 0.8430\n",
      "Epoch 42/200\n",
      "175/175 [==============================] - 1s 7ms/step - loss: 0.3394 - binary_accuracy: 0.8433 - val_loss: 0.3456 - val_binary_accuracy: 0.8420\n"
     ]
    },
    {
     "data": {
      "text/plain": [
       "<Axes: title={'center': 'Accuracy'}>"
      ]
     },
     "execution_count": 6,
     "metadata": {},
     "output_type": "execute_result"
    },
    {
     "data": {
      "image/png": "[encoded data removed]",
      "text/plain": [
       "<Figure size 640x480 with 1 Axes>"
      ]
     },
     "metadata": {},
     "output_type": "display_data"
    },
    {
     "data": {
      "image/png": "[encoded data removed]",
      "text/plain": [
       "<Figure size 640x480 with 1 Axes>"
      ]
     },
     "metadata": {},
     "output_type": "display_data"
    }
   ],
   "source": [
    "early_stopping = keras.callbacks.EarlyStopping(\n",
    "    patience=5,\n",
    "    min_delta=0.001,\n",
    "    restore_best_weights=True,\n",
    ")\n",
    "history = model.fit(\n",
    "    X_train, y_train,\n",
    "    validation_data=(X_valid, y_valid),\n",
    "    batch_size=512,\n",
    "    epochs=200,\n",
    "    callbacks=[early_stopping],\n",
    ")\n",
    "\n",
    "history_df = pd.DataFrame(history.history)\n",
    "history_df.loc[:, ['loss', 'val_loss']].plot(title=\"Cross-entropy\")\n",
    "history_df.loc[:, ['binary_accuracy', 'val_binary_accuracy']].plot(title=\"Accuracy\")"
   ]
  },
  {
   "cell_type": "markdown",
   "id": "66f92430",
   "metadata": {
    "papermill": {
     "duration": 0.047619,
     "end_time": "2025-07-18T19:11:58.959802",
     "exception": false,
     "start_time": "2025-07-18T19:11:58.912183",
     "status": "completed"
    },
    "tags": []
   },
   "source": [
    "# 3) Train and Evaluate #\n",
    "\n",
    "\n",
    "What do you think about the learning curves? Does it look like the model underfit or overfit? Was the cross-entropy loss a good stand-in for accuracy?"
   ]
  },
  {
   "cell_type": "code",
   "execution_count": 7,
   "id": "46a9d171",
   "metadata": {
    "execution": {
     "iopub.execute_input": "2025-07-18T19:11:59.051301Z",
     "iopub.status.busy": "2025-07-18T19:11:59.050959Z",
     "iopub.status.idle": "2025-07-18T19:11:59.058231Z",
     "shell.execute_reply": "2025-07-18T19:11:59.057315Z"
    },
    "papermill": {
     "duration": 0.05504,
     "end_time": "2025-07-18T19:11:59.060139",
     "exception": false,
     "start_time": "2025-07-18T19:11:59.005099",
     "status": "completed"
    },
    "tags": []
   },
   "outputs": [
    {
     "data": {
      "application/javascript": [
       "parent.postMessage({\"jupyterEvent\": \"custom.exercise_interaction\", \"data\": {\"outcomeType\": 1, \"valueTowardsCompletion\": 0.3333333333333333, \"interactionType\": 1, \"questionType\": 4, \"questionId\": \"3_Q3\", \"learnToolsVersion\": \"0.3.4\", \"failureMessage\": \"\", \"exceptionClass\": \"\", \"trace\": \"\"}}, \"*\")"
      ],
      "text/plain": [
       "<IPython.core.display.Javascript object>"
      ]
     },
     "metadata": {},
     "output_type": "display_data"
    },
    {
     "data": {
      "text/markdown": [
       "<span style=\"color:#33cc33\">Correct:</span> \n",
       "\n",
       "Though we can see the training loss continuing to fall, the early stopping callback prevented any overfitting. Moreover, the accuracy rose at the same rate as the cross-entropy fell, so it appears that minimizing cross-entropy was a good stand-in. All in all, it looks like this training was a success!"
      ],
      "text/plain": [
       "Correct: \n",
       "\n",
       "Though we can see the training loss continuing to fall, the early stopping callback prevented any overfitting. Moreover, the accuracy rose at the same rate as the cross-entropy fell, so it appears that minimizing cross-entropy was a good stand-in. All in all, it looks like this training was a success!"
      ]
     },
     "metadata": {},
     "output_type": "display_data"
    }
   ],
   "source": [
    "# View the solution (Run this cell to receive credit!)\n",
    "q_3.check()"
   ]
  },
  {
   "cell_type": "markdown",
   "id": "b52e0c68",
   "metadata": {
    "papermill": {
     "duration": 0.046412,
     "end_time": "2025-07-18T19:11:59.154092",
     "exception": false,
     "start_time": "2025-07-18T19:11:59.107680",
     "status": "completed"
    },
    "tags": []
   },
   "source": [
    "# Conclusion #\n",
    "\n",
    "Congratulations! You've completed Kaggle's *Introduction to Deep Learning* course!\n",
    "\n",
    "With your new skills you're ready to take on more advanced applications like computer vision and sentiment classification. What would you like to do next?\n",
    "\n",
    "Why not try one of our *Getting Started* competitions?\n",
    "\n",
    "- Classify images with TPUs in [**Petals to the Metal**](https://www.kaggle.com/c/tpu-getting-started)\n",
    "- Create art with GANs in [**I'm Something of a Painter Myself**](https://www.kaggle.com/c/gan-getting-started)\n",
    "- Classify Tweets in [**Real or Not? NLP with Disaster Tweets**](https://www.kaggle.com/c/nlp-getting-started)\n",
    "- Detect contradiction and entailment in [**Contradictory, My Dear Watson**](https://www.kaggle.com/c/contradictory-my-dear-watson)\n",
    "\n",
    "Until next time, Kagglers!"
   ]
  },
  {
   "cell_type": "markdown",
   "id": "f1ddedab",
   "metadata": {
    "papermill": {
     "duration": 0.102909,
     "end_time": "2025-07-18T19:11:59.303483",
     "exception": false,
     "start_time": "2025-07-18T19:11:59.200574",
     "status": "completed"
    },
    "tags": []
   },
   "source": [
    "---\n",
    "\n",
    "\n",
    "\n",
    "\n",
    "*Have questions or comments? Visit the [course discussion forum](https://www.kaggle.com/learn/intro-to-deep-learning/discussion) to chat with other learners.*"
   ]
  }
 ],
 "metadata": {
  "jupytext": {
   "cell_metadata_filter": "-all",
   "formats": "ipynb"
  },
  "kaggle": {
   "accelerator": "gpu",
   "dataSources": [
    {
     "datasetId": 829369,
     "sourceId": 1480608,
     "sourceType": "datasetVersion"
    }
   ],
   "dockerImageVersionId": 30648,
   "isGpuEnabled": true,
   "isInternetEnabled": false,
   "language": "python",
   "sourceType": "notebook"
  },
  "kernelspec": {
   "display_name": "Python 3",
   "language": "python",
   "name": "python3"
  },
  "language_info": {
   "codemirror_mode": {
    "name": "ipython",
    "version": 3
   },
   "file_extension": ".py",
   "mimetype": "text/x-python",
   "name": "python",
   "nbconvert_exporter": "python",
   "pygments_lexer": "ipython3",
   "version": "3.10.13"
  },
  "papermill": {
   "default_parameters": {},
   "duration": 72.398164,
   "end_time": "2025-07-18T19:12:02.231246",
   "environment_variables": {},
   "exception": null,
   "input_path": "__notebook__.ipynb",
   "output_path": "__notebook__.ipynb",
   "parameters": {},
   "start_time": "2025-07-18T19:10:49.833082",
   "version": "2.5.0"
  }
 },
 "nbformat": 4,
 "nbformat_minor": 5
}
