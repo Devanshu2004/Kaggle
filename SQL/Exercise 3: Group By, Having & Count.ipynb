{
 "cells": [
  {
   "cell_type": "markdown",
   "id": "3546f358",
   "metadata": {
    "papermill": {
     "duration": 0.003375,
     "end_time": "2025-07-07T16:36:59.181292",
     "exception": false,
     "start_time": "2025-07-07T16:36:59.177917",
     "status": "completed"
    },
    "tags": []
   },
   "source": [
    "**This notebook is an exercise in the [SQL](https://www.kaggle.com/learn/intro-to-sql) course.  You can reference the tutorial at [this link](https://www.kaggle.com/dansbecker/group-by-having-count).**\n",
    "\n",
    "---\n"
   ]
  },
  {
   "cell_type": "markdown",
   "id": "5eba8348",
   "metadata": {
    "papermill": {
     "duration": 0.002532,
     "end_time": "2025-07-07T16:36:59.187037",
     "exception": false,
     "start_time": "2025-07-07T16:36:59.184505",
     "status": "completed"
    },
    "tags": []
   },
   "source": [
    "# Introduction\n",
    "\n",
    "Queries with **GROUP BY** can be powerful. There are many small things that can trip you up (like the order of the clauses), but it will start to feel natural once you've done it a few times. Here, you'll write queries using **GROUP BY** to answer questions from the Hacker News dataset.\n",
    "\n",
    "Before you get started, run the following cell to set everything up:"
   ]
  },
  {
   "cell_type": "code",
   "execution_count": 1,
   "id": "4dbf03bb",
   "metadata": {
    "execution": {
     "iopub.execute_input": "2025-07-07T16:36:59.193752Z",
     "iopub.status.busy": "2025-07-07T16:36:59.193465Z",
     "iopub.status.idle": "2025-07-07T16:37:22.073252Z",
     "shell.execute_reply": "2025-07-07T16:37:22.072198Z"
    },
    "papermill": {
     "duration": 22.884962,
     "end_time": "2025-07-07T16:37:22.074774",
     "exception": false,
     "start_time": "2025-07-07T16:36:59.189812",
     "status": "completed"
    },
    "tags": []
   },
   "outputs": [
    {
     "name": "stdout",
     "output_type": "stream",
     "text": [
      "Using Kaggle's public dataset BigQuery integration.\n"
     ]
    },
    {
     "name": "stderr",
     "output_type": "stream",
     "text": [
      "/usr/local/lib/python3.11/dist-packages/google/cloud/bigquery/table.py:1727: UserWarning: BigQuery Storage module not found, fetch data with the REST endpoint instead.\n",
      "  warnings.warn(\n"
     ]
    },
    {
     "name": "stdout",
     "output_type": "stream",
     "text": [
      "Setup Complete\n"
     ]
    }
   ],
   "source": [
    "# Set up feedback system\n",
    "from learntools.core import binder\n",
    "binder.bind(globals())\n",
    "from learntools.sql.ex3 import *\n",
    "print(\"Setup Complete\")"
   ]
  },
  {
   "cell_type": "markdown",
   "id": "399408c3",
   "metadata": {
    "papermill": {
     "duration": 0.002696,
     "end_time": "2025-07-07T16:37:22.080711",
     "exception": false,
     "start_time": "2025-07-07T16:37:22.078015",
     "status": "completed"
    },
    "tags": []
   },
   "source": [
    "The code cell below fetches the `full` table from the `hacker_news` dataset.  We also preview the first five rows of the table."
   ]
  },
  {
   "cell_type": "code",
   "execution_count": 2,
   "id": "0efbbce1",
   "metadata": {
    "execution": {
     "iopub.execute_input": "2025-07-07T16:37:22.087851Z",
     "iopub.status.busy": "2025-07-07T16:37:22.087383Z",
     "iopub.status.idle": "2025-07-07T16:37:23.339761Z",
     "shell.execute_reply": "2025-07-07T16:37:23.338812Z"
    },
    "papermill": {
     "duration": 1.2581,
     "end_time": "2025-07-07T16:37:23.341696",
     "exception": false,
     "start_time": "2025-07-07T16:37:22.083596",
     "status": "completed"
    },
    "tags": []
   },
   "outputs": [
    {
     "name": "stdout",
     "output_type": "stream",
     "text": [
      "Using Kaggle's public dataset BigQuery integration.\n"
     ]
    },
    {
     "data": {
      "text/html": [
       "<div>\n",
       "<style scoped>\n",
       "    .dataframe tbody tr th:only-of-type {\n",
       "        vertical-align: middle;\n",
       "    }\n",
       "\n",
       "    .dataframe tbody tr th {\n",
       "        vertical-align: top;\n",
       "    }\n",
       "\n",
       "    .dataframe thead th {\n",
       "        text-align: right;\n",
       "    }\n",
       "</style>\n",
       "<table border=\"1\" class=\"dataframe\">\n",
       "  <thead>\n",
       "    <tr style=\"text-align: right;\">\n",
       "      <th></th>\n",
       "      <th>title</th>\n",
       "      <th>url</th>\n",
       "      <th>text</th>\n",
       "      <th>dead</th>\n",
       "      <th>by</th>\n",
       "      <th>score</th>\n",
       "      <th>time</th>\n",
       "      <th>timestamp</th>\n",
       "      <th>type</th>\n",
       "      <th>id</th>\n",
       "      <th>parent</th>\n",
       "      <th>descendants</th>\n",
       "      <th>ranking</th>\n",
       "      <th>deleted</th>\n",
       "    </tr>\n",
       "  </thead>\n",
       "  <tbody>\n",
       "    <tr>\n",
       "      <th>0</th>\n",
       "      <td>None</td>\n",
       "      <td>None</td>\n",
       "      <td>None</td>\n",
       "      <td>&lt;NA&gt;</td>\n",
       "      <td>None</td>\n",
       "      <td>&lt;NA&gt;</td>\n",
       "      <td>1437566898</td>\n",
       "      <td>2015-07-22 12:08:18+00:00</td>\n",
       "      <td>story</td>\n",
       "      <td>9929061</td>\n",
       "      <td>&lt;NA&gt;</td>\n",
       "      <td>&lt;NA&gt;</td>\n",
       "      <td>&lt;NA&gt;</td>\n",
       "      <td>&lt;NA&gt;</td>\n",
       "    </tr>\n",
       "    <tr>\n",
       "      <th>1</th>\n",
       "      <td>None</td>\n",
       "      <td>None</td>\n",
       "      <td>None</td>\n",
       "      <td>True</td>\n",
       "      <td>None</td>\n",
       "      <td>&lt;NA&gt;</td>\n",
       "      <td>1437570484</td>\n",
       "      <td>2015-07-22 13:08:04+00:00</td>\n",
       "      <td>story</td>\n",
       "      <td>9929350</td>\n",
       "      <td>&lt;NA&gt;</td>\n",
       "      <td>&lt;NA&gt;</td>\n",
       "      <td>&lt;NA&gt;</td>\n",
       "      <td>&lt;NA&gt;</td>\n",
       "    </tr>\n",
       "    <tr>\n",
       "      <th>2</th>\n",
       "      <td>None</td>\n",
       "      <td>None</td>\n",
       "      <td>None</td>\n",
       "      <td>True</td>\n",
       "      <td>None</td>\n",
       "      <td>&lt;NA&gt;</td>\n",
       "      <td>1437571431</td>\n",
       "      <td>2015-07-22 13:23:51+00:00</td>\n",
       "      <td>story</td>\n",
       "      <td>9929445</td>\n",
       "      <td>&lt;NA&gt;</td>\n",
       "      <td>&lt;NA&gt;</td>\n",
       "      <td>&lt;NA&gt;</td>\n",
       "      <td>&lt;NA&gt;</td>\n",
       "    </tr>\n",
       "    <tr>\n",
       "      <th>3</th>\n",
       "      <td>None</td>\n",
       "      <td>None</td>\n",
       "      <td>None</td>\n",
       "      <td>True</td>\n",
       "      <td>None</td>\n",
       "      <td>&lt;NA&gt;</td>\n",
       "      <td>1437571922</td>\n",
       "      <td>2015-07-22 13:32:02+00:00</td>\n",
       "      <td>story</td>\n",
       "      <td>9929499</td>\n",
       "      <td>&lt;NA&gt;</td>\n",
       "      <td>&lt;NA&gt;</td>\n",
       "      <td>&lt;NA&gt;</td>\n",
       "      <td>&lt;NA&gt;</td>\n",
       "    </tr>\n",
       "    <tr>\n",
       "      <th>4</th>\n",
       "      <td>None</td>\n",
       "      <td>None</td>\n",
       "      <td>None</td>\n",
       "      <td>&lt;NA&gt;</td>\n",
       "      <td>None</td>\n",
       "      <td>&lt;NA&gt;</td>\n",
       "      <td>1260729849</td>\n",
       "      <td>2009-12-13 18:44:09+00:00</td>\n",
       "      <td>story</td>\n",
       "      <td>992961</td>\n",
       "      <td>&lt;NA&gt;</td>\n",
       "      <td>&lt;NA&gt;</td>\n",
       "      <td>&lt;NA&gt;</td>\n",
       "      <td>&lt;NA&gt;</td>\n",
       "    </tr>\n",
       "  </tbody>\n",
       "</table>\n",
       "</div>"
      ],
      "text/plain": [
       "  title   url  text  dead    by  score        time                 timestamp  \\\n",
       "0  None  None  None  <NA>  None   <NA>  1437566898 2015-07-22 12:08:18+00:00   \n",
       "1  None  None  None  True  None   <NA>  1437570484 2015-07-22 13:08:04+00:00   \n",
       "2  None  None  None  True  None   <NA>  1437571431 2015-07-22 13:23:51+00:00   \n",
       "3  None  None  None  True  None   <NA>  1437571922 2015-07-22 13:32:02+00:00   \n",
       "4  None  None  None  <NA>  None   <NA>  1260729849 2009-12-13 18:44:09+00:00   \n",
       "\n",
       "    type       id  parent  descendants  ranking  deleted  \n",
       "0  story  9929061    <NA>         <NA>     <NA>     <NA>  \n",
       "1  story  9929350    <NA>         <NA>     <NA>     <NA>  \n",
       "2  story  9929445    <NA>         <NA>     <NA>     <NA>  \n",
       "3  story  9929499    <NA>         <NA>     <NA>     <NA>  \n",
       "4  story   992961    <NA>         <NA>     <NA>     <NA>  "
      ]
     },
     "execution_count": 2,
     "metadata": {},
     "output_type": "execute_result"
    }
   ],
   "source": [
    "from google.cloud import bigquery\n",
    "\n",
    "# Create a \"Client\" object\n",
    "client = bigquery.Client()\n",
    "\n",
    "# Construct a reference to the \"hacker_news\" dataset\n",
    "dataset_ref = client.dataset(\"hacker_news\", project=\"bigquery-public-data\")\n",
    "\n",
    "# API request - fetch the dataset\n",
    "dataset = client.get_dataset(dataset_ref)\n",
    "\n",
    "# Construct a reference to the \"full\" table\n",
    "table_ref = dataset_ref.table(\"full\")\n",
    "\n",
    "# API request - fetch the table\n",
    "table = client.get_table(table_ref)\n",
    "\n",
    "# Preview the first five lines of the table\n",
    "client.list_rows(table, max_results=5).to_dataframe()"
   ]
  },
  {
   "cell_type": "markdown",
   "id": "7b5d9568",
   "metadata": {
    "papermill": {
     "duration": 0.003041,
     "end_time": "2025-07-07T16:37:23.348414",
     "exception": false,
     "start_time": "2025-07-07T16:37:23.345373",
     "status": "completed"
    },
    "tags": []
   },
   "source": [
    "# Exercises\n",
    "\n",
    "### 1) Prolific commenters\n",
    "\n",
    "Hacker News would like to send awards to everyone who has written more than 10,000 posts. Write a query that returns all authors with more than 10,000 posts as well as their post counts. Call the column with post counts `NumPosts`.\n",
    "\n",
    "In case sample query is helpful, here is a query you saw in the tutorial to answer a similar question:\n",
    "```\n",
    "query = \"\"\"\n",
    "        SELECT parent, COUNT(1) AS NumPosts\n",
    "        FROM `bigquery-public-data.hacker_news.full`\n",
    "        GROUP BY parent\n",
    "        HAVING COUNT(1) > 10\n",
    "        \"\"\"\n",
    "```"
   ]
  },
  {
   "cell_type": "code",
   "execution_count": 3,
   "id": "4536489e",
   "metadata": {
    "execution": {
     "iopub.execute_input": "2025-07-07T16:37:23.356365Z",
     "iopub.status.busy": "2025-07-07T16:37:23.356059Z",
     "iopub.status.idle": "2025-07-07T16:37:24.499202Z",
     "shell.execute_reply": "2025-07-07T16:37:24.498059Z"
    },
    "papermill": {
     "duration": 1.149358,
     "end_time": "2025-07-07T16:37:24.501038",
     "exception": false,
     "start_time": "2025-07-07T16:37:23.351680",
     "status": "completed"
    },
    "tags": []
   },
   "outputs": [
    {
     "name": "stderr",
     "output_type": "stream",
     "text": [
      "/usr/local/lib/python3.11/dist-packages/google/cloud/bigquery/table.py:1727: UserWarning: BigQuery Storage module not found, fetch data with the REST endpoint instead.\n",
      "  warnings.warn(\n"
     ]
    },
    {
     "name": "stdout",
     "output_type": "stream",
     "text": [
      "   NumPosts        author\n",
      "0     11871  yummyfajitas\n",
      "1     18744   maxerickson\n",
      "2     14348          mc32\n",
      "3     12642       aidenn0\n",
      "4     17631       bombcar\n"
     ]
    },
    {
     "data": {
      "application/javascript": [
       "parent.postMessage({\"jupyterEvent\": \"custom.exercise_interaction\", \"data\": {\"outcomeType\": 1, \"valueTowardsCompletion\": 0.5, \"interactionType\": 1, \"questionType\": 2, \"questionId\": \"1_ProlificCommenters\", \"learnToolsVersion\": \"0.3.5\", \"failureMessage\": \"\", \"exceptionClass\": \"\", \"trace\": \"\"}}, \"*\")"
      ],
      "text/plain": [
       "<IPython.core.display.Javascript object>"
      ]
     },
     "metadata": {},
     "output_type": "display_data"
    },
    {
     "data": {
      "text/markdown": [
       "<span style=\"color:#33cc33\">Correct</span>"
      ],
      "text/plain": [
       "Correct"
      ]
     },
     "metadata": {},
     "output_type": "display_data"
    }
   ],
   "source": [
    "# Query to select prolific commenters and post counts\n",
    "prolific_commenters_query = \"\"\"\n",
    "                            SELECT COUNT(1) AS NumPosts, `by` AS author\n",
    "                            FROM `bigquery-public-data.hacker_news.full`\n",
    "                            GROUP BY Author\n",
    "                            HAVING COUNT(1) > 10000\n",
    "                            \"\"\" # Your code goes here\n",
    "\n",
    "# Set up the query (cancel the query if it would use too much of \n",
    "# your quota, with the limit set to 1 GB)\n",
    "safe_config = bigquery.QueryJobConfig(maximum_bytes_billed=10**10)\n",
    "query_job = client.query(prolific_commenters_query, job_config=safe_config)\n",
    "\n",
    "# API request - run the query, and return a pandas DataFrame\n",
    "prolific_commenters = query_job.to_dataframe()\n",
    "\n",
    "# View top few rows of results\n",
    "print(prolific_commenters.head())\n",
    "\n",
    "# Check your answer\n",
    "q_1.check()"
   ]
  },
  {
   "cell_type": "markdown",
   "id": "f1ba894d",
   "metadata": {
    "papermill": {
     "duration": 0.0034,
     "end_time": "2025-07-07T16:37:24.508441",
     "exception": false,
     "start_time": "2025-07-07T16:37:24.505041",
     "status": "completed"
    },
    "tags": []
   },
   "source": [
    "For the solution, uncomment the line below."
   ]
  },
  {
   "cell_type": "code",
   "execution_count": 4,
   "id": "e74cfb52",
   "metadata": {
    "execution": {
     "iopub.execute_input": "2025-07-07T16:37:24.516955Z",
     "iopub.status.busy": "2025-07-07T16:37:24.516575Z",
     "iopub.status.idle": "2025-07-07T16:37:24.521384Z",
     "shell.execute_reply": "2025-07-07T16:37:24.520438Z"
    },
    "papermill": {
     "duration": 0.01104,
     "end_time": "2025-07-07T16:37:24.522955",
     "exception": false,
     "start_time": "2025-07-07T16:37:24.511915",
     "status": "completed"
    },
    "tags": []
   },
   "outputs": [],
   "source": [
    "#q_1.solution()"
   ]
  },
  {
   "cell_type": "markdown",
   "id": "ecc62aeb",
   "metadata": {
    "papermill": {
     "duration": 0.003249,
     "end_time": "2025-07-07T16:37:24.529924",
     "exception": false,
     "start_time": "2025-07-07T16:37:24.526675",
     "status": "completed"
    },
    "tags": []
   },
   "source": [
    "### 2) Deleted comments\n",
    "\n",
    "How many comments have been deleted? (If a comment was deleted, the `deleted` column in the table will have the value `True`.)"
   ]
  },
  {
   "cell_type": "code",
   "execution_count": 5,
   "id": "0f05b3b1",
   "metadata": {
    "execution": {
     "iopub.execute_input": "2025-07-07T16:37:24.538292Z",
     "iopub.status.busy": "2025-07-07T16:37:24.537951Z",
     "iopub.status.idle": "2025-07-07T16:37:25.751526Z",
     "shell.execute_reply": "2025-07-07T16:37:25.750402Z"
    },
    "papermill": {
     "duration": 1.2196,
     "end_time": "2025-07-07T16:37:25.752990",
     "exception": false,
     "start_time": "2025-07-07T16:37:24.533390",
     "status": "completed"
    },
    "tags": []
   },
   "outputs": [
    {
     "name": "stderr",
     "output_type": "stream",
     "text": [
      "/usr/local/lib/python3.11/dist-packages/google/cloud/bigquery/table.py:1727: UserWarning: BigQuery Storage module not found, fetch data with the REST endpoint instead.\n",
      "  warnings.warn(\n"
     ]
    },
    {
     "name": "stdout",
     "output_type": "stream",
     "text": [
      "   deleted_num\n",
      "0            0\n"
     ]
    }
   ],
   "source": [
    "# Write your query here and figure out the answer\n",
    "# Query to select prolific commenters and post counts\n",
    "deleted_comments = \"\"\"\n",
    "                    SELECT COUNT(1) AS deleted_num\n",
    "                    FROM `bigquery-public-data.hacker_news.full`\n",
    "                    WHERE deleted = True\n",
    "                    \"\"\"\n",
    "\n",
    "query_job = client.query(deleted_comments)\n",
    "\n",
    "# API request - run the query, and return a pandas DataFrame\n",
    "deleted_posts = query_job.to_dataframe()\n",
    "\n",
    "# View top few rows of results\n",
    "print(deleted_posts)"
   ]
  },
  {
   "cell_type": "code",
   "execution_count": 6,
   "id": "0410807e",
   "metadata": {
    "execution": {
     "iopub.execute_input": "2025-07-07T16:37:25.761191Z",
     "iopub.status.busy": "2025-07-07T16:37:25.760923Z",
     "iopub.status.idle": "2025-07-07T16:37:25.768359Z",
     "shell.execute_reply": "2025-07-07T16:37:25.767361Z"
    },
    "papermill": {
     "duration": 0.013435,
     "end_time": "2025-07-07T16:37:25.770006",
     "exception": false,
     "start_time": "2025-07-07T16:37:25.756571",
     "status": "completed"
    },
    "tags": []
   },
   "outputs": [
    {
     "data": {
      "application/javascript": [
       "parent.postMessage({\"jupyterEvent\": \"custom.exercise_interaction\", \"data\": {\"outcomeType\": 1, \"valueTowardsCompletion\": 0.5, \"interactionType\": 1, \"questionType\": 1, \"questionId\": \"2_NumDeletedPosts\", \"learnToolsVersion\": \"0.3.5\", \"failureMessage\": \"\", \"exceptionClass\": \"\", \"trace\": \"\"}}, \"*\")"
      ],
      "text/plain": [
       "<IPython.core.display.Javascript object>"
      ]
     },
     "metadata": {},
     "output_type": "display_data"
    },
    {
     "data": {
      "text/markdown": [
       "<span style=\"color:#33cc33\">Correct</span>"
      ],
      "text/plain": [
       "Correct"
      ]
     },
     "metadata": {},
     "output_type": "display_data"
    }
   ],
   "source": [
    "num_deleted_posts = 0 # Put your answer here\n",
    "\n",
    "# Check your answer\n",
    "q_2.check()"
   ]
  },
  {
   "cell_type": "markdown",
   "id": "71f37ca6",
   "metadata": {
    "papermill": {
     "duration": 0.003736,
     "end_time": "2025-07-07T16:37:25.778105",
     "exception": false,
     "start_time": "2025-07-07T16:37:25.774369",
     "status": "completed"
    },
    "tags": []
   },
   "source": [
    "For the solution, uncomment the line below."
   ]
  },
  {
   "cell_type": "code",
   "execution_count": 7,
   "id": "3e29f3c8",
   "metadata": {
    "execution": {
     "iopub.execute_input": "2025-07-07T16:37:25.787298Z",
     "iopub.status.busy": "2025-07-07T16:37:25.786980Z",
     "iopub.status.idle": "2025-07-07T16:37:25.791051Z",
     "shell.execute_reply": "2025-07-07T16:37:25.790218Z"
    },
    "papermill": {
     "duration": 0.010301,
     "end_time": "2025-07-07T16:37:25.792488",
     "exception": false,
     "start_time": "2025-07-07T16:37:25.782187",
     "status": "completed"
    },
    "tags": []
   },
   "outputs": [],
   "source": [
    "#q_2.solution()"
   ]
  },
  {
   "cell_type": "markdown",
   "id": "5357ee1a",
   "metadata": {
    "papermill": {
     "duration": 0.003516,
     "end_time": "2025-07-07T16:37:25.800006",
     "exception": false,
     "start_time": "2025-07-07T16:37:25.796490",
     "status": "completed"
    },
    "tags": []
   },
   "source": [
    "# Keep Going\n",
    "**[Click here](https://www.kaggle.com/dansbecker/order-by)** to move on and learn about the **ORDER BY** clause."
   ]
  },
  {
   "cell_type": "markdown",
   "id": "037a9fcb",
   "metadata": {
    "papermill": {
     "duration": 0.00342,
     "end_time": "2025-07-07T16:37:25.807114",
     "exception": false,
     "start_time": "2025-07-07T16:37:25.803694",
     "status": "completed"
    },
    "tags": []
   },
   "source": [
    "---\n",
    "\n",
    "\n",
    "\n",
    "\n",
    "*Have questions or comments? Visit the [course discussion forum](https://www.kaggle.com/learn/intro-to-sql/discussion) to chat with other learners.*"
   ]
  }
 ],
 "metadata": {
  "kaggle": {
   "accelerator": "none",
   "dataSources": [
    {
     "datasetId": 6057,
     "sourceId": 285982,
     "sourceType": "datasetVersion"
    }
   ],
   "isGpuEnabled": false,
   "isInternetEnabled": false,
   "language": "python",
   "sourceType": "notebook"
  },
  "kernelspec": {
   "display_name": "Python 3",
   "language": "python",
   "name": "python3"
  },
  "language_info": {
   "codemirror_mode": {
    "name": "ipython",
    "version": 3
   },
   "file_extension": ".py",
   "mimetype": "text/x-python",
   "name": "python",
   "nbconvert_exporter": "python",
   "pygments_lexer": "ipython3",
   "version": "3.11.11"
  },
  "papermill": {
   "default_parameters": {},
   "duration": 35.170687,
   "end_time": "2025-07-07T16:37:29.224333",
   "environment_variables": {},
   "exception": null,
   "input_path": "__notebook__.ipynb",
   "output_path": "__notebook__.ipynb",
   "parameters": {},
   "start_time": "2025-07-07T16:36:54.053646",
   "version": "2.6.0"
  }
 },
 "nbformat": 4,
 "nbformat_minor": 5
}
