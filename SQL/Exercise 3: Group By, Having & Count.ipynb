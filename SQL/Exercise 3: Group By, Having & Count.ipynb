{
 "cells": [
  {
   "cell_type": "markdown",
   "id": "55db25b2",
   "metadata": {
    "papermill": {
     "duration": 0.003628,
     "end_time": "2025-07-07T16:35:57.705126",
     "exception": false,
     "start_time": "2025-07-07T16:35:57.701498",
     "status": "completed"
    },
    "tags": []
   },
   "source": [
    "**This notebook is an exercise in the [SQL](https://www.kaggle.com/learn/intro-to-sql) course.  You can reference the tutorial at [this link](https://www.kaggle.com/dansbecker/group-by-having-count).**\n",
    "\n",
    "---\n"
   ]
  },
  {
   "cell_type": "markdown",
   "id": "48fba89d",
   "metadata": {
    "papermill": {
     "duration": 0.00264,
     "end_time": "2025-07-07T16:35:57.710981",
     "exception": false,
     "start_time": "2025-07-07T16:35:57.708341",
     "status": "completed"
    },
    "tags": []
   },
   "source": [
    "# Introduction\n",
    "\n",
    "Queries with **GROUP BY** can be powerful. There are many small things that can trip you up (like the order of the clauses), but it will start to feel natural once you've done it a few times. Here, you'll write queries using **GROUP BY** to answer questions from the Hacker News dataset.\n",
    "\n",
    "Before you get started, run the following cell to set everything up:"
   ]
  },
  {
   "cell_type": "code",
   "execution_count": 1,
   "id": "4a1ba622",
   "metadata": {
    "execution": {
     "iopub.execute_input": "2025-07-07T16:35:57.718788Z",
     "iopub.status.busy": "2025-07-07T16:35:57.717717Z",
     "iopub.status.idle": "2025-07-07T16:36:20.362314Z",
     "shell.execute_reply": "2025-07-07T16:36:20.361116Z"
    },
    "papermill": {
     "duration": 22.650288,
     "end_time": "2025-07-07T16:36:20.364006",
     "exception": false,
     "start_time": "2025-07-07T16:35:57.713718",
     "status": "completed"
    },
    "tags": []
   },
   "outputs": [
    {
     "name": "stdout",
     "output_type": "stream",
     "text": [
      "Using Kaggle's public dataset BigQuery integration.\n"
     ]
    },
    {
     "name": "stderr",
     "output_type": "stream",
     "text": [
      "/usr/local/lib/python3.11/dist-packages/google/cloud/bigquery/table.py:1727: UserWarning: BigQuery Storage module not found, fetch data with the REST endpoint instead.\n",
      "  warnings.warn(\n"
     ]
    },
    {
     "name": "stdout",
     "output_type": "stream",
     "text": [
      "Setup Complete\n"
     ]
    }
   ],
   "source": [
    "# Set up feedback system\n",
    "from learntools.core import binder\n",
    "binder.bind(globals())\n",
    "from learntools.sql.ex3 import *\n",
    "print(\"Setup Complete\")"
   ]
  },
  {
   "cell_type": "markdown",
   "id": "dff59e68",
   "metadata": {
    "papermill": {
     "duration": 0.003383,
     "end_time": "2025-07-07T16:36:20.370972",
     "exception": false,
     "start_time": "2025-07-07T16:36:20.367589",
     "status": "completed"
    },
    "tags": []
   },
   "source": [
    "The code cell below fetches the `full` table from the `hacker_news` dataset.  We also preview the first five rows of the table."
   ]
  },
  {
   "cell_type": "code",
   "execution_count": 2,
   "id": "af2a1961",
   "metadata": {
    "execution": {
     "iopub.execute_input": "2025-07-07T16:36:20.379241Z",
     "iopub.status.busy": "2025-07-07T16:36:20.378750Z",
     "iopub.status.idle": "2025-07-07T16:36:21.299598Z",
     "shell.execute_reply": "2025-07-07T16:36:21.298522Z"
    },
    "papermill": {
     "duration": 0.927301,
     "end_time": "2025-07-07T16:36:21.301713",
     "exception": false,
     "start_time": "2025-07-07T16:36:20.374412",
     "status": "completed"
    },
    "tags": []
   },
   "outputs": [
    {
     "name": "stdout",
     "output_type": "stream",
     "text": [
      "Using Kaggle's public dataset BigQuery integration.\n"
     ]
    },
    {
     "data": {
      "text/html": [
       "<div>\n",
       "<style scoped>\n",
       "    .dataframe tbody tr th:only-of-type {\n",
       "        vertical-align: middle;\n",
       "    }\n",
       "\n",
       "    .dataframe tbody tr th {\n",
       "        vertical-align: top;\n",
       "    }\n",
       "\n",
       "    .dataframe thead th {\n",
       "        text-align: right;\n",
       "    }\n",
       "</style>\n",
       "<table border=\"1\" class=\"dataframe\">\n",
       "  <thead>\n",
       "    <tr style=\"text-align: right;\">\n",
       "      <th></th>\n",
       "      <th>title</th>\n",
       "      <th>url</th>\n",
       "      <th>text</th>\n",
       "      <th>dead</th>\n",
       "      <th>by</th>\n",
       "      <th>score</th>\n",
       "      <th>time</th>\n",
       "      <th>timestamp</th>\n",
       "      <th>type</th>\n",
       "      <th>id</th>\n",
       "      <th>parent</th>\n",
       "      <th>descendants</th>\n",
       "      <th>ranking</th>\n",
       "      <th>deleted</th>\n",
       "    </tr>\n",
       "  </thead>\n",
       "  <tbody>\n",
       "    <tr>\n",
       "      <th>0</th>\n",
       "      <td>None</td>\n",
       "      <td>None</td>\n",
       "      <td>None</td>\n",
       "      <td>&lt;NA&gt;</td>\n",
       "      <td>None</td>\n",
       "      <td>&lt;NA&gt;</td>\n",
       "      <td>1437566898</td>\n",
       "      <td>2015-07-22 12:08:18+00:00</td>\n",
       "      <td>story</td>\n",
       "      <td>9929061</td>\n",
       "      <td>&lt;NA&gt;</td>\n",
       "      <td>&lt;NA&gt;</td>\n",
       "      <td>&lt;NA&gt;</td>\n",
       "      <td>&lt;NA&gt;</td>\n",
       "    </tr>\n",
       "    <tr>\n",
       "      <th>1</th>\n",
       "      <td>None</td>\n",
       "      <td>None</td>\n",
       "      <td>None</td>\n",
       "      <td>True</td>\n",
       "      <td>None</td>\n",
       "      <td>&lt;NA&gt;</td>\n",
       "      <td>1437570484</td>\n",
       "      <td>2015-07-22 13:08:04+00:00</td>\n",
       "      <td>story</td>\n",
       "      <td>9929350</td>\n",
       "      <td>&lt;NA&gt;</td>\n",
       "      <td>&lt;NA&gt;</td>\n",
       "      <td>&lt;NA&gt;</td>\n",
       "      <td>&lt;NA&gt;</td>\n",
       "    </tr>\n",
       "    <tr>\n",
       "      <th>2</th>\n",
       "      <td>None</td>\n",
       "      <td>None</td>\n",
       "      <td>None</td>\n",
       "      <td>True</td>\n",
       "      <td>None</td>\n",
       "      <td>&lt;NA&gt;</td>\n",
       "      <td>1437571431</td>\n",
       "      <td>2015-07-22 13:23:51+00:00</td>\n",
       "      <td>story</td>\n",
       "      <td>9929445</td>\n",
       "      <td>&lt;NA&gt;</td>\n",
       "      <td>&lt;NA&gt;</td>\n",
       "      <td>&lt;NA&gt;</td>\n",
       "      <td>&lt;NA&gt;</td>\n",
       "    </tr>\n",
       "    <tr>\n",
       "      <th>3</th>\n",
       "      <td>None</td>\n",
       "      <td>None</td>\n",
       "      <td>None</td>\n",
       "      <td>True</td>\n",
       "      <td>None</td>\n",
       "      <td>&lt;NA&gt;</td>\n",
       "      <td>1437571922</td>\n",
       "      <td>2015-07-22 13:32:02+00:00</td>\n",
       "      <td>story</td>\n",
       "      <td>9929499</td>\n",
       "      <td>&lt;NA&gt;</td>\n",
       "      <td>&lt;NA&gt;</td>\n",
       "      <td>&lt;NA&gt;</td>\n",
       "      <td>&lt;NA&gt;</td>\n",
       "    </tr>\n",
       "    <tr>\n",
       "      <th>4</th>\n",
       "      <td>None</td>\n",
       "      <td>None</td>\n",
       "      <td>None</td>\n",
       "      <td>&lt;NA&gt;</td>\n",
       "      <td>None</td>\n",
       "      <td>&lt;NA&gt;</td>\n",
       "      <td>1260729849</td>\n",
       "      <td>2009-12-13 18:44:09+00:00</td>\n",
       "      <td>story</td>\n",
       "      <td>992961</td>\n",
       "      <td>&lt;NA&gt;</td>\n",
       "      <td>&lt;NA&gt;</td>\n",
       "      <td>&lt;NA&gt;</td>\n",
       "      <td>&lt;NA&gt;</td>\n",
       "    </tr>\n",
       "  </tbody>\n",
       "</table>\n",
       "</div>"
      ],
      "text/plain": [
       "  title   url  text  dead    by  score        time                 timestamp  \\\n",
       "0  None  None  None  <NA>  None   <NA>  1437566898 2015-07-22 12:08:18+00:00   \n",
       "1  None  None  None  True  None   <NA>  1437570484 2015-07-22 13:08:04+00:00   \n",
       "2  None  None  None  True  None   <NA>  1437571431 2015-07-22 13:23:51+00:00   \n",
       "3  None  None  None  True  None   <NA>  1437571922 2015-07-22 13:32:02+00:00   \n",
       "4  None  None  None  <NA>  None   <NA>  1260729849 2009-12-13 18:44:09+00:00   \n",
       "\n",
       "    type       id  parent  descendants  ranking  deleted  \n",
       "0  story  9929061    <NA>         <NA>     <NA>     <NA>  \n",
       "1  story  9929350    <NA>         <NA>     <NA>     <NA>  \n",
       "2  story  9929445    <NA>         <NA>     <NA>     <NA>  \n",
       "3  story  9929499    <NA>         <NA>     <NA>     <NA>  \n",
       "4  story   992961    <NA>         <NA>     <NA>     <NA>  "
      ]
     },
     "execution_count": 2,
     "metadata": {},
     "output_type": "execute_result"
    }
   ],
   "source": [
    "from google.cloud import bigquery\n",
    "\n",
    "# Create a \"Client\" object\n",
    "client = bigquery.Client()\n",
    "\n",
    "# Construct a reference to the \"hacker_news\" dataset\n",
    "dataset_ref = client.dataset(\"hacker_news\", project=\"bigquery-public-data\")\n",
    "\n",
    "# API request - fetch the dataset\n",
    "dataset = client.get_dataset(dataset_ref)\n",
    "\n",
    "# Construct a reference to the \"full\" table\n",
    "table_ref = dataset_ref.table(\"full\")\n",
    "\n",
    "# API request - fetch the table\n",
    "table = client.get_table(table_ref)\n",
    "\n",
    "# Preview the first five lines of the table\n",
    "client.list_rows(table, max_results=5).to_dataframe()"
   ]
  },
  {
   "cell_type": "markdown",
   "id": "9420babb",
   "metadata": {
    "papermill": {
     "duration": 0.003093,
     "end_time": "2025-07-07T16:36:21.308744",
     "exception": false,
     "start_time": "2025-07-07T16:36:21.305651",
     "status": "completed"
    },
    "tags": []
   },
   "source": [
    "# Exercises\n",
    "\n",
    "### 1) Prolific commenters\n",
    "\n",
    "Hacker News would like to send awards to everyone who has written more than 10,000 posts. Write a query that returns all authors with more than 10,000 posts as well as their post counts. Call the column with post counts `NumPosts`.\n",
    "\n",
    "In case sample query is helpful, here is a query you saw in the tutorial to answer a similar question:\n",
    "```\n",
    "query = \"\"\"\n",
    "        SELECT parent, COUNT(1) AS NumPosts\n",
    "        FROM `bigquery-public-data.hacker_news.full`\n",
    "        GROUP BY parent\n",
    "        HAVING COUNT(1) > 10\n",
    "        \"\"\"\n",
    "```"
   ]
  },
  {
   "cell_type": "code",
   "execution_count": 3,
   "id": "40652b2b",
   "metadata": {
    "execution": {
     "iopub.execute_input": "2025-07-07T16:36:21.316673Z",
     "iopub.status.busy": "2025-07-07T16:36:21.316381Z",
     "iopub.status.idle": "2025-07-07T16:36:22.465847Z",
     "shell.execute_reply": "2025-07-07T16:36:22.464870Z"
    },
    "papermill": {
     "duration": 1.156041,
     "end_time": "2025-07-07T16:36:22.468071",
     "exception": false,
     "start_time": "2025-07-07T16:36:21.312030",
     "status": "completed"
    },
    "tags": []
   },
   "outputs": [
    {
     "name": "stderr",
     "output_type": "stream",
     "text": [
      "/usr/local/lib/python3.11/dist-packages/google/cloud/bigquery/table.py:1727: UserWarning: BigQuery Storage module not found, fetch data with the REST endpoint instead.\n",
      "  warnings.warn(\n"
     ]
    },
    {
     "name": "stdout",
     "output_type": "stream",
     "text": [
      "         Author  NumPosts\n",
      "0  ZeroGravitas     12998\n",
      "1      nitrogen     10885\n",
      "2   marcosdumay     17422\n",
      "3   bryanlarsen     11969\n",
      "4    Dylan16807     24556\n"
     ]
    },
    {
     "data": {
      "application/javascript": [
       "parent.postMessage({\"jupyterEvent\": \"custom.exercise_interaction\", \"data\": {\"outcomeType\": 2, \"failureMessage\": \"The column names appear to be incorrect.  They should be `NumPosts` and `author`.\", \"interactionType\": 1, \"questionType\": 2, \"questionId\": \"1_ProlificCommenters\", \"learnToolsVersion\": \"0.3.5\", \"valueTowardsCompletion\": 0.0, \"exceptionClass\": \"\", \"trace\": \"\"}}, \"*\")"
      ],
      "text/plain": [
       "<IPython.core.display.Javascript object>"
      ]
     },
     "metadata": {},
     "output_type": "display_data"
    },
    {
     "data": {
      "text/markdown": [
       "<span style=\"color:#cc3333\">Incorrect:</span> The column names appear to be incorrect.  They should be `NumPosts` and `author`."
      ],
      "text/plain": [
       "Incorrect: The column names appear to be incorrect.  They should be `NumPosts` and `author`."
      ]
     },
     "metadata": {},
     "output_type": "display_data"
    }
   ],
   "source": [
    "# Query to select prolific commenters and post counts\n",
    "prolific_commenters_query = \"\"\"\n",
    "                            SELECT `by` AS Author, COUNT(1) AS NumPosts\n",
    "                            FROM `bigquery-public-data.hacker_news.full`\n",
    "                            GROUP BY Author\n",
    "                            HAVING COUNT(1) > 10000\n",
    "                            \"\"\" # Your code goes here\n",
    "\n",
    "# Set up the query (cancel the query if it would use too much of \n",
    "# your quota, with the limit set to 1 GB)\n",
    "safe_config = bigquery.QueryJobConfig(maximum_bytes_billed=10**10)\n",
    "query_job = client.query(prolific_commenters_query, job_config=safe_config)\n",
    "\n",
    "# API request - run the query, and return a pandas DataFrame\n",
    "prolific_commenters = query_job.to_dataframe()\n",
    "\n",
    "# View top few rows of results\n",
    "print(prolific_commenters.head())\n",
    "\n",
    "# Check your answer\n",
    "q_1.check()"
   ]
  },
  {
   "cell_type": "markdown",
   "id": "1444db73",
   "metadata": {
    "papermill": {
     "duration": 0.004356,
     "end_time": "2025-07-07T16:36:22.478995",
     "exception": false,
     "start_time": "2025-07-07T16:36:22.474639",
     "status": "completed"
    },
    "tags": []
   },
   "source": [
    "For the solution, uncomment the line below."
   ]
  },
  {
   "cell_type": "code",
   "execution_count": 4,
   "id": "44849b88",
   "metadata": {
    "execution": {
     "iopub.execute_input": "2025-07-07T16:36:22.488170Z",
     "iopub.status.busy": "2025-07-07T16:36:22.487688Z",
     "iopub.status.idle": "2025-07-07T16:36:22.493012Z",
     "shell.execute_reply": "2025-07-07T16:36:22.491934Z"
    },
    "papermill": {
     "duration": 0.011992,
     "end_time": "2025-07-07T16:36:22.494610",
     "exception": false,
     "start_time": "2025-07-07T16:36:22.482618",
     "status": "completed"
    },
    "tags": []
   },
   "outputs": [],
   "source": [
    "#q_1.solution()"
   ]
  },
  {
   "cell_type": "markdown",
   "id": "5d8f83a1",
   "metadata": {
    "papermill": {
     "duration": 0.003707,
     "end_time": "2025-07-07T16:36:22.502139",
     "exception": false,
     "start_time": "2025-07-07T16:36:22.498432",
     "status": "completed"
    },
    "tags": []
   },
   "source": [
    "### 2) Deleted comments\n",
    "\n",
    "How many comments have been deleted? (If a comment was deleted, the `deleted` column in the table will have the value `True`.)"
   ]
  },
  {
   "cell_type": "code",
   "execution_count": 5,
   "id": "7270d9f0",
   "metadata": {
    "execution": {
     "iopub.execute_input": "2025-07-07T16:36:22.511459Z",
     "iopub.status.busy": "2025-07-07T16:36:22.511008Z",
     "iopub.status.idle": "2025-07-07T16:36:23.550520Z",
     "shell.execute_reply": "2025-07-07T16:36:23.549302Z"
    },
    "papermill": {
     "duration": 1.04624,
     "end_time": "2025-07-07T16:36:23.552163",
     "exception": false,
     "start_time": "2025-07-07T16:36:22.505923",
     "status": "completed"
    },
    "tags": []
   },
   "outputs": [
    {
     "name": "stderr",
     "output_type": "stream",
     "text": [
      "/usr/local/lib/python3.11/dist-packages/google/cloud/bigquery/table.py:1727: UserWarning: BigQuery Storage module not found, fetch data with the REST endpoint instead.\n",
      "  warnings.warn(\n"
     ]
    },
    {
     "name": "stdout",
     "output_type": "stream",
     "text": [
      "   deleted_num\n",
      "0            0\n"
     ]
    }
   ],
   "source": [
    "# Write your query here and figure out the answer\n",
    "# Query to select prolific commenters and post counts\n",
    "deleted_comments = \"\"\"\n",
    "                    SELECT COUNT(1) AS deleted_num\n",
    "                    FROM `bigquery-public-data.hacker_news.full`\n",
    "                    WHERE deleted = True\n",
    "                    \"\"\"\n",
    "\n",
    "query_job = client.query(deleted_comments)\n",
    "\n",
    "# API request - run the query, and return a pandas DataFrame\n",
    "deleted_posts = query_job.to_dataframe()\n",
    "\n",
    "# View top few rows of results\n",
    "print(deleted_posts)"
   ]
  },
  {
   "cell_type": "code",
   "execution_count": 6,
   "id": "e63a4dce",
   "metadata": {
    "execution": {
     "iopub.execute_input": "2025-07-07T16:36:23.561416Z",
     "iopub.status.busy": "2025-07-07T16:36:23.561035Z",
     "iopub.status.idle": "2025-07-07T16:36:23.568964Z",
     "shell.execute_reply": "2025-07-07T16:36:23.567914Z"
    },
    "papermill": {
     "duration": 0.014441,
     "end_time": "2025-07-07T16:36:23.570536",
     "exception": false,
     "start_time": "2025-07-07T16:36:23.556095",
     "status": "completed"
    },
    "tags": []
   },
   "outputs": [
    {
     "data": {
      "application/javascript": [
       "parent.postMessage({\"jupyterEvent\": \"custom.exercise_interaction\", \"data\": {\"outcomeType\": 1, \"valueTowardsCompletion\": 0.5, \"interactionType\": 1, \"questionType\": 1, \"questionId\": \"2_NumDeletedPosts\", \"learnToolsVersion\": \"0.3.5\", \"failureMessage\": \"\", \"exceptionClass\": \"\", \"trace\": \"\"}}, \"*\")"
      ],
      "text/plain": [
       "<IPython.core.display.Javascript object>"
      ]
     },
     "metadata": {},
     "output_type": "display_data"
    },
    {
     "data": {
      "text/markdown": [
       "<span style=\"color:#33cc33\">Correct</span>"
      ],
      "text/plain": [
       "Correct"
      ]
     },
     "metadata": {},
     "output_type": "display_data"
    }
   ],
   "source": [
    "num_deleted_posts = 0 # Put your answer here\n",
    "\n",
    "# Check your answer\n",
    "q_2.check()"
   ]
  },
  {
   "cell_type": "markdown",
   "id": "4face3d0",
   "metadata": {
    "papermill": {
     "duration": 0.003971,
     "end_time": "2025-07-07T16:36:23.578924",
     "exception": false,
     "start_time": "2025-07-07T16:36:23.574953",
     "status": "completed"
    },
    "tags": []
   },
   "source": [
    "For the solution, uncomment the line below."
   ]
  },
  {
   "cell_type": "code",
   "execution_count": 7,
   "id": "8b0892a3",
   "metadata": {
    "execution": {
     "iopub.execute_input": "2025-07-07T16:36:23.588615Z",
     "iopub.status.busy": "2025-07-07T16:36:23.588303Z",
     "iopub.status.idle": "2025-07-07T16:36:23.592839Z",
     "shell.execute_reply": "2025-07-07T16:36:23.591886Z"
    },
    "papermill": {
     "duration": 0.011215,
     "end_time": "2025-07-07T16:36:23.594413",
     "exception": false,
     "start_time": "2025-07-07T16:36:23.583198",
     "status": "completed"
    },
    "tags": []
   },
   "outputs": [],
   "source": [
    "#q_2.solution()"
   ]
  },
  {
   "cell_type": "markdown",
   "id": "bf45bab6",
   "metadata": {
    "papermill": {
     "duration": 0.003712,
     "end_time": "2025-07-07T16:36:23.602614",
     "exception": false,
     "start_time": "2025-07-07T16:36:23.598902",
     "status": "completed"
    },
    "tags": []
   },
   "source": [
    "# Keep Going\n",
    "**[Click here](https://www.kaggle.com/dansbecker/order-by)** to move on and learn about the **ORDER BY** clause."
   ]
  },
  {
   "cell_type": "markdown",
   "id": "d78a6a40",
   "metadata": {
    "papermill": {
     "duration": 0.003702,
     "end_time": "2025-07-07T16:36:23.610236",
     "exception": false,
     "start_time": "2025-07-07T16:36:23.606534",
     "status": "completed"
    },
    "tags": []
   },
   "source": [
    "---\n",
    "\n",
    "\n",
    "\n",
    "\n",
    "*Have questions or comments? Visit the [course discussion forum](https://www.kaggle.com/learn/intro-to-sql/discussion) to chat with other learners.*"
   ]
  }
 ],
 "metadata": {
  "kaggle": {
   "accelerator": "none",
   "dataSources": [
    {
     "datasetId": 6057,
     "sourceId": 285982,
     "sourceType": "datasetVersion"
    }
   ],
   "isGpuEnabled": false,
   "isInternetEnabled": false,
   "language": "python",
   "sourceType": "notebook"
  },
  "kernelspec": {
   "display_name": "Python 3",
   "language": "python",
   "name": "python3"
  },
  "language_info": {
   "codemirror_mode": {
    "name": "ipython",
    "version": 3
   },
   "file_extension": ".py",
   "mimetype": "text/x-python",
   "name": "python",
   "nbconvert_exporter": "python",
   "pygments_lexer": "ipython3",
   "version": "3.11.11"
  },
  "papermill": {
   "default_parameters": {},
   "duration": 34.138826,
   "end_time": "2025-07-07T16:36:26.863544",
   "environment_variables": {},
   "exception": null,
   "input_path": "__notebook__.ipynb",
   "output_path": "__notebook__.ipynb",
   "parameters": {},
   "start_time": "2025-07-07T16:35:52.724718",
   "version": "2.6.0"
  }
 },
 "nbformat": 4,
 "nbformat_minor": 5
}
