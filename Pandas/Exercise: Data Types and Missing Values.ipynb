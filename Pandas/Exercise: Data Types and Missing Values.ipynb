{
 "cells": [
  {
   "cell_type": "markdown",
   "id": "ac37ff63",
   "metadata": {
    "papermill": {
     "duration": 0.004888,
     "end_time": "2024-06-30T10:27:59.590684",
     "exception": false,
     "start_time": "2024-06-30T10:27:59.585796",
     "status": "completed"
    },
    "tags": []
   },
   "source": [
    "**This notebook is an exercise in the [Pandas](https://www.kaggle.com/learn/pandas) course.  You can reference the tutorial at [this link](https://www.kaggle.com/residentmario/data-types-and-missing-values).**\n",
    "\n",
    "---\n"
   ]
  },
  {
   "cell_type": "markdown",
   "id": "ce16ecc1",
   "metadata": {
    "papermill": {
     "duration": 0.004665,
     "end_time": "2024-06-30T10:27:59.600105",
     "exception": false,
     "start_time": "2024-06-30T10:27:59.595440",
     "status": "completed"
    },
    "tags": []
   },
   "source": [
    "# Introduction\n",
    "\n",
    "Run the following cell to load your data and some utility functions."
   ]
  },
  {
   "cell_type": "code",
   "execution_count": 1,
   "id": "9b9c5e52",
   "metadata": {
    "execution": {
     "iopub.execute_input": "2024-06-30T10:27:59.611370Z",
     "iopub.status.busy": "2024-06-30T10:27:59.610955Z",
     "iopub.status.idle": "2024-06-30T10:28:03.637530Z",
     "shell.execute_reply": "2024-06-30T10:28:03.636263Z"
    },
    "papermill": {
     "duration": 4.035241,
     "end_time": "2024-06-30T10:28:03.640191",
     "exception": false,
     "start_time": "2024-06-30T10:27:59.604950",
     "status": "completed"
    },
    "tags": []
   },
   "outputs": [
    {
     "name": "stdout",
     "output_type": "stream",
     "text": [
      "Setup complete.\n"
     ]
    }
   ],
   "source": [
    "import pandas as pd\n",
    "\n",
    "reviews = pd.read_csv(\"../input/wine-reviews/winemag-data-130k-v2.csv\", index_col=0)\n",
    "\n",
    "from learntools.core import binder; binder.bind(globals())\n",
    "from learntools.pandas.data_types_and_missing_data import *\n",
    "print(\"Setup complete.\")"
   ]
  },
  {
   "cell_type": "markdown",
   "id": "5bfad72e",
   "metadata": {
    "papermill": {
     "duration": 0.004423,
     "end_time": "2024-06-30T10:28:03.649545",
     "exception": false,
     "start_time": "2024-06-30T10:28:03.645122",
     "status": "completed"
    },
    "tags": []
   },
   "source": [
    "# Exercises"
   ]
  },
  {
   "cell_type": "markdown",
   "id": "4a66a797",
   "metadata": {
    "papermill": {
     "duration": 0.004354,
     "end_time": "2024-06-30T10:28:03.658606",
     "exception": false,
     "start_time": "2024-06-30T10:28:03.654252",
     "status": "completed"
    },
    "tags": []
   },
   "source": [
    "## 1. \n",
    "What is the data type of the `points` column in the dataset?"
   ]
  },
  {
   "cell_type": "code",
   "execution_count": 2,
   "id": "ca354d01",
   "metadata": {
    "execution": {
     "iopub.execute_input": "2024-06-30T10:28:03.669902Z",
     "iopub.status.busy": "2024-06-30T10:28:03.669480Z",
     "iopub.status.idle": "2024-06-30T10:28:03.679777Z",
     "shell.execute_reply": "2024-06-30T10:28:03.678681Z"
    },
    "papermill": {
     "duration": 0.018855,
     "end_time": "2024-06-30T10:28:03.682050",
     "exception": false,
     "start_time": "2024-06-30T10:28:03.663195",
     "status": "completed"
    },
    "tags": []
   },
   "outputs": [
    {
     "data": {
      "application/javascript": [
       "parent.postMessage({\"jupyterEvent\": \"custom.exercise_interaction\", \"data\": {\"outcomeType\": 1, \"valueTowardsCompletion\": 0.25, \"interactionType\": 1, \"questionType\": 1, \"questionId\": \"1_PointsDtype\", \"learnToolsVersion\": \"0.3.4\", \"failureMessage\": \"\", \"exceptionClass\": \"\", \"trace\": \"\"}}, \"*\")"
      ],
      "text/plain": [
       "<IPython.core.display.Javascript object>"
      ]
     },
     "metadata": {},
     "output_type": "display_data"
    },
    {
     "data": {
      "text/markdown": [
       "<span style=\"color:#33cc33\">Correct</span>"
      ],
      "text/plain": [
       "Correct"
      ]
     },
     "metadata": {},
     "output_type": "display_data"
    }
   ],
   "source": [
    "# Your code here\n",
    "dtype = reviews.points.dtype\n",
    "\n",
    "# Check your answer\n",
    "q1.check()"
   ]
  },
  {
   "cell_type": "code",
   "execution_count": 3,
   "id": "15e0c8a1",
   "metadata": {
    "execution": {
     "iopub.execute_input": "2024-06-30T10:28:03.693732Z",
     "iopub.status.busy": "2024-06-30T10:28:03.693371Z",
     "iopub.status.idle": "2024-06-30T10:28:03.697892Z",
     "shell.execute_reply": "2024-06-30T10:28:03.696715Z"
    },
    "papermill": {
     "duration": 0.013032,
     "end_time": "2024-06-30T10:28:03.699960",
     "exception": false,
     "start_time": "2024-06-30T10:28:03.686928",
     "status": "completed"
    },
    "tags": []
   },
   "outputs": [],
   "source": [
    "#q1.hint()\n",
    "#q1.solution()"
   ]
  },
  {
   "cell_type": "markdown",
   "id": "6846c059",
   "metadata": {
    "papermill": {
     "duration": 0.00459,
     "end_time": "2024-06-30T10:28:03.709555",
     "exception": false,
     "start_time": "2024-06-30T10:28:03.704965",
     "status": "completed"
    },
    "tags": []
   },
   "source": [
    "## 2. \n",
    "Create a Series from entries in the `points` column, but convert the entries to strings. Hint: strings are `str` in native Python."
   ]
  },
  {
   "cell_type": "code",
   "execution_count": 4,
   "id": "8665dafc",
   "metadata": {
    "execution": {
     "iopub.execute_input": "2024-06-30T10:28:03.720908Z",
     "iopub.status.busy": "2024-06-30T10:28:03.720522Z",
     "iopub.status.idle": "2024-06-30T10:28:03.766712Z",
     "shell.execute_reply": "2024-06-30T10:28:03.765629Z"
    },
    "papermill": {
     "duration": 0.054633,
     "end_time": "2024-06-30T10:28:03.768962",
     "exception": false,
     "start_time": "2024-06-30T10:28:03.714329",
     "status": "completed"
    },
    "tags": []
   },
   "outputs": [
    {
     "data": {
      "application/javascript": [
       "parent.postMessage({\"jupyterEvent\": \"custom.exercise_interaction\", \"data\": {\"outcomeType\": 1, \"valueTowardsCompletion\": 0.25, \"interactionType\": 1, \"questionType\": 1, \"questionId\": \"2_StrPoints\", \"learnToolsVersion\": \"0.3.4\", \"failureMessage\": \"\", \"exceptionClass\": \"\", \"trace\": \"\"}}, \"*\")"
      ],
      "text/plain": [
       "<IPython.core.display.Javascript object>"
      ]
     },
     "metadata": {},
     "output_type": "display_data"
    },
    {
     "data": {
      "text/markdown": [
       "<span style=\"color:#33cc33\">Correct</span>"
      ],
      "text/plain": [
       "Correct"
      ]
     },
     "metadata": {},
     "output_type": "display_data"
    }
   ],
   "source": [
    "point_strings = reviews.points.astype(str)\n",
    "\n",
    "# Check your answer\n",
    "q2.check()"
   ]
  },
  {
   "cell_type": "code",
   "execution_count": 5,
   "id": "2a794993",
   "metadata": {
    "execution": {
     "iopub.execute_input": "2024-06-30T10:28:03.780803Z",
     "iopub.status.busy": "2024-06-30T10:28:03.780412Z",
     "iopub.status.idle": "2024-06-30T10:28:03.785073Z",
     "shell.execute_reply": "2024-06-30T10:28:03.783911Z"
    },
    "papermill": {
     "duration": 0.01312,
     "end_time": "2024-06-30T10:28:03.787212",
     "exception": false,
     "start_time": "2024-06-30T10:28:03.774092",
     "status": "completed"
    },
    "tags": []
   },
   "outputs": [],
   "source": [
    "#q2.hint()\n",
    "#q2.solution()"
   ]
  },
  {
   "cell_type": "markdown",
   "id": "49c10c8a",
   "metadata": {
    "papermill": {
     "duration": 0.005203,
     "end_time": "2024-06-30T10:28:03.797758",
     "exception": false,
     "start_time": "2024-06-30T10:28:03.792555",
     "status": "completed"
    },
    "tags": []
   },
   "source": [
    "## 3.\n",
    "Sometimes the price column is null. How many reviews in the dataset are missing a price?"
   ]
  },
  {
   "cell_type": "code",
   "execution_count": 6,
   "id": "e03ed4e7",
   "metadata": {
    "execution": {
     "iopub.execute_input": "2024-06-30T10:28:03.810647Z",
     "iopub.status.busy": "2024-06-30T10:28:03.809675Z",
     "iopub.status.idle": "2024-06-30T10:28:03.819344Z",
     "shell.execute_reply": "2024-06-30T10:28:03.818322Z"
    },
    "papermill": {
     "duration": 0.018186,
     "end_time": "2024-06-30T10:28:03.821429",
     "exception": false,
     "start_time": "2024-06-30T10:28:03.803243",
     "status": "completed"
    },
    "tags": []
   },
   "outputs": [
    {
     "data": {
      "application/javascript": [
       "parent.postMessage({\"jupyterEvent\": \"custom.exercise_interaction\", \"data\": {\"outcomeType\": 1, \"valueTowardsCompletion\": 0.25, \"interactionType\": 1, \"questionType\": 1, \"questionId\": \"3_CountMissingPrices\", \"learnToolsVersion\": \"0.3.4\", \"failureMessage\": \"\", \"exceptionClass\": \"\", \"trace\": \"\"}}, \"*\")"
      ],
      "text/plain": [
       "<IPython.core.display.Javascript object>"
      ]
     },
     "metadata": {},
     "output_type": "display_data"
    },
    {
     "data": {
      "text/markdown": [
       "<span style=\"color:#33cc33\">Correct</span>"
      ],
      "text/plain": [
       "Correct"
      ]
     },
     "metadata": {},
     "output_type": "display_data"
    }
   ],
   "source": [
    "n_missing_prices = reviews.price.isnull().sum()\n",
    "\n",
    "# Check your answer\n",
    "q3.check()"
   ]
  },
  {
   "cell_type": "code",
   "execution_count": 7,
   "id": "77d3a45e",
   "metadata": {
    "execution": {
     "iopub.execute_input": "2024-06-30T10:28:03.834619Z",
     "iopub.status.busy": "2024-06-30T10:28:03.833607Z",
     "iopub.status.idle": "2024-06-30T10:28:03.838269Z",
     "shell.execute_reply": "2024-06-30T10:28:03.837194Z"
    },
    "papermill": {
     "duration": 0.013505,
     "end_time": "2024-06-30T10:28:03.840428",
     "exception": false,
     "start_time": "2024-06-30T10:28:03.826923",
     "status": "completed"
    },
    "tags": []
   },
   "outputs": [],
   "source": [
    "#q3.hint()\n",
    "#q3.solution()"
   ]
  },
  {
   "cell_type": "markdown",
   "id": "d9fb8deb",
   "metadata": {
    "papermill": {
     "duration": 0.005252,
     "end_time": "2024-06-30T10:28:03.851529",
     "exception": false,
     "start_time": "2024-06-30T10:28:03.846277",
     "status": "completed"
    },
    "tags": []
   },
   "source": [
    "## 4.\n",
    "What are the most common wine-producing regions? Create a Series counting the number of times each value occurs in the `region_1` field. This field is often missing data, so replace missing values with `Unknown`. Sort in descending order.  Your output should look something like this:\n",
    "\n",
    "```\n",
    "Unknown                    21247\n",
    "Napa Valley                 4480\n",
    "                           ...  \n",
    "Bardolino Superiore            1\n",
    "Primitivo del Tarantino        1\n",
    "Name: region_1, Length: 1230, dtype: int64\n",
    "```"
   ]
  },
  {
   "cell_type": "code",
   "execution_count": 8,
   "id": "98504e1e",
   "metadata": {
    "execution": {
     "iopub.execute_input": "2024-06-30T10:28:03.864715Z",
     "iopub.status.busy": "2024-06-30T10:28:03.863675Z",
     "iopub.status.idle": "2024-06-30T10:28:03.918872Z",
     "shell.execute_reply": "2024-06-30T10:28:03.917812Z"
    },
    "papermill": {
     "duration": 0.064319,
     "end_time": "2024-06-30T10:28:03.921300",
     "exception": false,
     "start_time": "2024-06-30T10:28:03.856981",
     "status": "completed"
    },
    "tags": []
   },
   "outputs": [
    {
     "data": {
      "application/javascript": [
       "parent.postMessage({\"jupyterEvent\": \"custom.exercise_interaction\", \"data\": {\"outcomeType\": 1, \"valueTowardsCompletion\": 0.25, \"interactionType\": 1, \"questionType\": 2, \"questionId\": \"4_ReviewsPerRegion\", \"learnToolsVersion\": \"0.3.4\", \"failureMessage\": \"\", \"exceptionClass\": \"\", \"trace\": \"\"}}, \"*\")"
      ],
      "text/plain": [
       "<IPython.core.display.Javascript object>"
      ]
     },
     "metadata": {},
     "output_type": "display_data"
    },
    {
     "data": {
      "text/markdown": [
       "<span style=\"color:#33cc33\">Correct</span>"
      ],
      "text/plain": [
       "Correct"
      ]
     },
     "metadata": {},
     "output_type": "display_data"
    }
   ],
   "source": [
    "reviews_per_region = reviews.region_1.fillna(\"Unknown\").value_counts().sort_values(ascending=False)\n",
    "\n",
    "# Check your answer\n",
    "q4.check()"
   ]
  },
  {
   "cell_type": "code",
   "execution_count": 9,
   "id": "ca16ad50",
   "metadata": {
    "execution": {
     "iopub.execute_input": "2024-06-30T10:28:03.934230Z",
     "iopub.status.busy": "2024-06-30T10:28:03.933855Z",
     "iopub.status.idle": "2024-06-30T10:28:03.938078Z",
     "shell.execute_reply": "2024-06-30T10:28:03.937029Z"
    },
    "papermill": {
     "duration": 0.013278,
     "end_time": "2024-06-30T10:28:03.940319",
     "exception": false,
     "start_time": "2024-06-30T10:28:03.927041",
     "status": "completed"
    },
    "tags": []
   },
   "outputs": [],
   "source": [
    "#q4.hint()\n",
    "#q4.solution()"
   ]
  },
  {
   "cell_type": "markdown",
   "id": "55380b1d",
   "metadata": {
    "papermill": {
     "duration": 0.005451,
     "end_time": "2024-06-30T10:28:03.951875",
     "exception": false,
     "start_time": "2024-06-30T10:28:03.946424",
     "status": "completed"
    },
    "tags": []
   },
   "source": [
    "# Keep going\n",
    "\n",
    "Move on to **[renaming and combining](https://www.kaggle.com/residentmario/renaming-and-combining)**."
   ]
  },
  {
   "cell_type": "markdown",
   "id": "1fcc63ee",
   "metadata": {
    "papermill": {
     "duration": 0.005442,
     "end_time": "2024-06-30T10:28:03.962881",
     "exception": false,
     "start_time": "2024-06-30T10:28:03.957439",
     "status": "completed"
    },
    "tags": []
   },
   "source": [
    "---\n",
    "\n",
    "\n",
    "\n",
    "\n",
    "*Have questions or comments? Visit the [course discussion forum](https://www.kaggle.com/learn/pandas/discussion) to chat with other learners.*"
   ]
  }
 ],
 "metadata": {
  "kaggle": {
   "accelerator": "none",
   "dataSources": [
    {
     "datasetId": 655,
     "sourceId": 1252,
     "sourceType": "datasetVersion"
    },
    {
     "datasetId": 2321,
     "sourceId": 3919,
     "sourceType": "datasetVersion"
    },
    {
     "datasetId": 2894,
     "sourceId": 4877,
     "sourceType": "datasetVersion"
    },
    {
     "datasetId": 3491,
     "sourceId": 5624,
     "sourceType": "datasetVersion"
    },
    {
     "datasetId": 1442,
     "sourceId": 8172,
     "sourceType": "datasetVersion"
    },
    {
     "datasetId": 9366,
     "sourceId": 13206,
     "sourceType": "datasetVersion"
    },
    {
     "datasetId": 179555,
     "sourceId": 403916,
     "sourceType": "datasetVersion"
    },
    {
     "datasetId": 4549,
     "sourceId": 466349,
     "sourceType": "datasetVersion"
    },
    {
     "datasetId": 2478,
     "sourceId": 1151655,
     "sourceType": "datasetVersion"
    },
    {
     "datasetId": 10128,
     "sourceId": 5438389,
     "sourceType": "datasetVersion"
    }
   ],
   "isGpuEnabled": false,
   "isInternetEnabled": false,
   "language": "python",
   "sourceType": "notebook"
  },
  "kernelspec": {
   "display_name": "Python 3",
   "language": "python",
   "name": "python3"
  },
  "language_info": {
   "codemirror_mode": {
    "name": "ipython",
    "version": 3
   },
   "file_extension": ".py",
   "mimetype": "text/x-python",
   "name": "python",
   "nbconvert_exporter": "python",
   "pygments_lexer": "ipython3",
   "version": "3.10.13"
  },
  "papermill": {
   "default_parameters": {},
   "duration": 7.726213,
   "end_time": "2024-06-30T10:28:04.489248",
   "environment_variables": {},
   "exception": null,
   "input_path": "__notebook__.ipynb",
   "output_path": "__notebook__.ipynb",
   "parameters": {},
   "start_time": "2024-06-30T10:27:56.763035",
   "version": "2.5.0"
  }
 },
 "nbformat": 4,
 "nbformat_minor": 5
}
