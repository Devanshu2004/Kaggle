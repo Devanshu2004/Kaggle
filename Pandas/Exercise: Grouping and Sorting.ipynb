{
 "cells": [
  {
   "cell_type": "markdown",
   "id": "c69169e8",
   "metadata": {
    "papermill": {
     "duration": 0.009257,
     "end_time": "2024-06-30T08:04:49.823293",
     "exception": false,
     "start_time": "2024-06-30T08:04:49.814036",
     "status": "completed"
    },
    "tags": []
   },
   "source": [
    "**This notebook is an exercise in the [Pandas](https://www.kaggle.com/learn/pandas) course.  You can reference the tutorial at [this link](https://www.kaggle.com/residentmario/grouping-and-sorting).**\n",
    "\n",
    "---\n"
   ]
  },
  {
   "cell_type": "markdown",
   "id": "91be899e",
   "metadata": {
    "papermill": {
     "duration": 0.007852,
     "end_time": "2024-06-30T08:04:49.839467",
     "exception": false,
     "start_time": "2024-06-30T08:04:49.831615",
     "status": "completed"
    },
    "tags": []
   },
   "source": [
    "# Introduction\n",
    "\n",
    "In these exercises we'll apply groupwise analysis to our dataset.\n",
    "\n",
    "Run the code cell below to load the data before running the exercises."
   ]
  },
  {
   "cell_type": "code",
   "execution_count": 1,
   "id": "396d9e85",
   "metadata": {
    "execution": {
     "iopub.execute_input": "2024-06-30T08:04:49.858040Z",
     "iopub.status.busy": "2024-06-30T08:04:49.857538Z",
     "iopub.status.idle": "2024-06-30T08:04:54.725143Z",
     "shell.execute_reply": "2024-06-30T08:04:54.723583Z"
    },
    "papermill": {
     "duration": 4.881317,
     "end_time": "2024-06-30T08:04:54.728976",
     "exception": false,
     "start_time": "2024-06-30T08:04:49.847659",
     "status": "completed"
    },
    "tags": []
   },
   "outputs": [
    {
     "name": "stdout",
     "output_type": "stream",
     "text": [
      "Setup complete.\n"
     ]
    },
    {
     "name": "stderr",
     "output_type": "stream",
     "text": [
      "/opt/conda/lib/python3.10/site-packages/learntools/pandas/grouping_and_sorting.py:29: FutureWarning: The provided callable <built-in function min> is currently using SeriesGroupBy.min. In a future version of pandas, the provided callable will be used directly. To keep current behavior pass the string \"min\" instead.\n",
      "  _expected = reviews.groupby('variety').price.agg([min, max])\n",
      "/opt/conda/lib/python3.10/site-packages/learntools/pandas/grouping_and_sorting.py:29: FutureWarning: The provided callable <built-in function max> is currently using SeriesGroupBy.max. In a future version of pandas, the provided callable will be used directly. To keep current behavior pass the string \"max\" instead.\n",
      "  _expected = reviews.groupby('variety').price.agg([min, max])\n",
      "/opt/conda/lib/python3.10/site-packages/learntools/pandas/grouping_and_sorting.py:35: FutureWarning: The provided callable <built-in function min> is currently using SeriesGroupBy.min. In a future version of pandas, the provided callable will be used directly. To keep current behavior pass the string \"min\" instead.\n",
      "  _expected = reviews.groupby('variety').price.agg([min, max]).sort_values(by=['min', 'max'], ascending=False)\n",
      "/opt/conda/lib/python3.10/site-packages/learntools/pandas/grouping_and_sorting.py:35: FutureWarning: The provided callable <built-in function max> is currently using SeriesGroupBy.max. In a future version of pandas, the provided callable will be used directly. To keep current behavior pass the string \"max\" instead.\n",
      "  _expected = reviews.groupby('variety').price.agg([min, max]).sort_values(by=['min', 'max'], ascending=False)\n"
     ]
    }
   ],
   "source": [
    "import pandas as pd\n",
    "\n",
    "reviews = pd.read_csv(\"../input/wine-reviews/winemag-data-130k-v2.csv\", index_col=0)\n",
    "#pd.set_option(\"display.max_rows\", 5)\n",
    "\n",
    "from learntools.core import binder; binder.bind(globals())\n",
    "from learntools.pandas.grouping_and_sorting import *\n",
    "print(\"Setup complete.\")"
   ]
  },
  {
   "cell_type": "markdown",
   "id": "6ed56fc8",
   "metadata": {
    "papermill": {
     "duration": 0.010694,
     "end_time": "2024-06-30T08:04:54.749548",
     "exception": false,
     "start_time": "2024-06-30T08:04:54.738854",
     "status": "completed"
    },
    "tags": []
   },
   "source": [
    "# Exercises"
   ]
  },
  {
   "cell_type": "markdown",
   "id": "aaf63825",
   "metadata": {
    "papermill": {
     "duration": 0.012667,
     "end_time": "2024-06-30T08:04:54.772655",
     "exception": false,
     "start_time": "2024-06-30T08:04:54.759988",
     "status": "completed"
    },
    "tags": []
   },
   "source": [
    "## 1.\n",
    "Who are the most common wine reviewers in the dataset? Create a `Series` whose index is the `taster_twitter_handle` category from the dataset, and whose values count how many reviews each person wrote."
   ]
  },
  {
   "cell_type": "code",
   "execution_count": 2,
   "id": "ce824bb3",
   "metadata": {
    "execution": {
     "iopub.execute_input": "2024-06-30T08:04:54.802568Z",
     "iopub.status.busy": "2024-06-30T08:04:54.801954Z",
     "iopub.status.idle": "2024-06-30T08:04:54.843194Z",
     "shell.execute_reply": "2024-06-30T08:04:54.841685Z"
    },
    "papermill": {
     "duration": 0.059873,
     "end_time": "2024-06-30T08:04:54.845892",
     "exception": false,
     "start_time": "2024-06-30T08:04:54.786019",
     "status": "completed"
    },
    "tags": []
   },
   "outputs": [
    {
     "data": {
      "application/javascript": [
       "parent.postMessage({\"jupyterEvent\": \"custom.exercise_interaction\", \"data\": {\"outcomeType\": 1, \"valueTowardsCompletion\": 0.16666666666666666, \"interactionType\": 1, \"questionType\": 1, \"questionId\": \"1_ReviewsWritten\", \"learnToolsVersion\": \"0.3.4\", \"failureMessage\": \"\", \"exceptionClass\": \"\", \"trace\": \"\"}}, \"*\")"
      ],
      "text/plain": [
       "<IPython.core.display.Javascript object>"
      ]
     },
     "metadata": {},
     "output_type": "display_data"
    },
    {
     "data": {
      "text/markdown": [
       "<span style=\"color:#33cc33\">Correct:</span> \n",
       "\n",
       "\n",
       "```python\n",
       "reviews_written = reviews.groupby('taster_twitter_handle').size()\n",
       "```\n",
       "or\n",
       "```python\n",
       "reviews_written = reviews.groupby('taster_twitter_handle').taster_twitter_handle.count()\n",
       "```\n"
      ],
      "text/plain": [
       "Correct: \n",
       "\n",
       "\n",
       "```python\n",
       "reviews_written = reviews.groupby('taster_twitter_handle').size()\n",
       "```\n",
       "or\n",
       "```python\n",
       "reviews_written = reviews.groupby('taster_twitter_handle').taster_twitter_handle.count()\n",
       "```"
      ]
     },
     "metadata": {},
     "output_type": "display_data"
    }
   ],
   "source": [
    "# Your code here\n",
    "reviews_written = reviews.groupby('taster_twitter_handle').size()\n",
    "\n",
    "# Check your answer\n",
    "q1.check()"
   ]
  },
  {
   "cell_type": "code",
   "execution_count": 3,
   "id": "9b350e77",
   "metadata": {
    "execution": {
     "iopub.execute_input": "2024-06-30T08:04:54.868147Z",
     "iopub.status.busy": "2024-06-30T08:04:54.867658Z",
     "iopub.status.idle": "2024-06-30T08:04:54.873739Z",
     "shell.execute_reply": "2024-06-30T08:04:54.872305Z"
    },
    "papermill": {
     "duration": 0.021483,
     "end_time": "2024-06-30T08:04:54.876784",
     "exception": false,
     "start_time": "2024-06-30T08:04:54.855301",
     "status": "completed"
    },
    "tags": []
   },
   "outputs": [],
   "source": [
    "#q1.hint()\n",
    "#q1.solution()"
   ]
  },
  {
   "cell_type": "markdown",
   "id": "1a67dfe8",
   "metadata": {
    "papermill": {
     "duration": 0.012891,
     "end_time": "2024-06-30T08:04:54.899125",
     "exception": false,
     "start_time": "2024-06-30T08:04:54.886234",
     "status": "completed"
    },
    "tags": []
   },
   "source": [
    "## 2.\n",
    "What is the best wine I can buy for a given amount of money? Create a `Series` whose index is wine prices and whose values is the maximum number of points a wine costing that much was given in a review. Sort the values by price, ascending (so that `4.0` dollars is at the top and `3300.0` dollars is at the bottom)."
   ]
  },
  {
   "cell_type": "code",
   "execution_count": 4,
   "id": "40b8d41a",
   "metadata": {
    "execution": {
     "iopub.execute_input": "2024-06-30T08:04:54.923170Z",
     "iopub.status.busy": "2024-06-30T08:04:54.922040Z",
     "iopub.status.idle": "2024-06-30T08:04:54.941278Z",
     "shell.execute_reply": "2024-06-30T08:04:54.940156Z"
    },
    "papermill": {
     "duration": 0.034486,
     "end_time": "2024-06-30T08:04:54.944618",
     "exception": false,
     "start_time": "2024-06-30T08:04:54.910132",
     "status": "completed"
    },
    "tags": []
   },
   "outputs": [
    {
     "data": {
      "application/javascript": [
       "parent.postMessage({\"jupyterEvent\": \"custom.exercise_interaction\", \"data\": {\"outcomeType\": 1, \"valueTowardsCompletion\": 0.16666666666666666, \"interactionType\": 1, \"questionType\": 1, \"questionId\": \"2_BestRatingPerPrice\", \"learnToolsVersion\": \"0.3.4\", \"failureMessage\": \"\", \"exceptionClass\": \"\", \"trace\": \"\"}}, \"*\")"
      ],
      "text/plain": [
       "<IPython.core.display.Javascript object>"
      ]
     },
     "metadata": {},
     "output_type": "display_data"
    },
    {
     "data": {
      "text/markdown": [
       "<span style=\"color:#33cc33\">Correct</span>"
      ],
      "text/plain": [
       "Correct"
      ]
     },
     "metadata": {},
     "output_type": "display_data"
    }
   ],
   "source": [
    "best_rating_per_price = reviews.groupby('price')['points'].max().sort_index()\n",
    "\n",
    "# Check your answer\n",
    "q2.check()"
   ]
  },
  {
   "cell_type": "code",
   "execution_count": 5,
   "id": "2b78efb1",
   "metadata": {
    "execution": {
     "iopub.execute_input": "2024-06-30T08:04:54.974323Z",
     "iopub.status.busy": "2024-06-30T08:04:54.973799Z",
     "iopub.status.idle": "2024-06-30T08:04:54.980249Z",
     "shell.execute_reply": "2024-06-30T08:04:54.978952Z"
    },
    "papermill": {
     "duration": 0.032795,
     "end_time": "2024-06-30T08:04:54.991916",
     "exception": false,
     "start_time": "2024-06-30T08:04:54.959121",
     "status": "completed"
    },
    "tags": []
   },
   "outputs": [],
   "source": [
    "#q2.hint()\n",
    "#q2.solution()"
   ]
  },
  {
   "cell_type": "markdown",
   "id": "76caec39",
   "metadata": {
    "papermill": {
     "duration": 0.012085,
     "end_time": "2024-06-30T08:04:55.017952",
     "exception": false,
     "start_time": "2024-06-30T08:04:55.005867",
     "status": "completed"
    },
    "tags": []
   },
   "source": [
    "## 3.\n",
    "What are the minimum and maximum prices for each `variety` of wine? Create a `DataFrame` whose index is the `variety` category from the dataset and whose values are the `min` and `max` values thereof."
   ]
  },
  {
   "cell_type": "code",
   "execution_count": 6,
   "id": "212efb90",
   "metadata": {
    "execution": {
     "iopub.execute_input": "2024-06-30T08:04:55.046966Z",
     "iopub.status.busy": "2024-06-30T08:04:55.045897Z",
     "iopub.status.idle": "2024-06-30T08:04:55.105792Z",
     "shell.execute_reply": "2024-06-30T08:04:55.104377Z"
    },
    "papermill": {
     "duration": 0.079529,
     "end_time": "2024-06-30T08:04:55.108822",
     "exception": false,
     "start_time": "2024-06-30T08:04:55.029293",
     "status": "completed"
    },
    "tags": []
   },
   "outputs": [
    {
     "name": "stderr",
     "output_type": "stream",
     "text": [
      "/tmp/ipykernel_18/1679504420.py:1: FutureWarning: The provided callable <built-in function min> is currently using SeriesGroupBy.min. In a future version of pandas, the provided callable will be used directly. To keep current behavior pass the string \"min\" instead.\n",
      "  price_extremes = reviews.groupby('variety').price.agg([min, max])\n",
      "/tmp/ipykernel_18/1679504420.py:1: FutureWarning: The provided callable <built-in function max> is currently using SeriesGroupBy.max. In a future version of pandas, the provided callable will be used directly. To keep current behavior pass the string \"max\" instead.\n",
      "  price_extremes = reviews.groupby('variety').price.agg([min, max])\n"
     ]
    },
    {
     "data": {
      "application/javascript": [
       "parent.postMessage({\"jupyterEvent\": \"custom.exercise_interaction\", \"data\": {\"outcomeType\": 1, \"valueTowardsCompletion\": 0.16666666666666666, \"interactionType\": 1, \"questionType\": 1, \"questionId\": \"3_PriceExtremes\", \"learnToolsVersion\": \"0.3.4\", \"failureMessage\": \"\", \"exceptionClass\": \"\", \"trace\": \"\"}}, \"*\")"
      ],
      "text/plain": [
       "<IPython.core.display.Javascript object>"
      ]
     },
     "metadata": {},
     "output_type": "display_data"
    },
    {
     "data": {
      "text/markdown": [
       "<span style=\"color:#33cc33\">Correct</span>"
      ],
      "text/plain": [
       "Correct"
      ]
     },
     "metadata": {},
     "output_type": "display_data"
    },
    {
     "data": {
      "text/html": [
       "<div>\n",
       "<style scoped>\n",
       "    .dataframe tbody tr th:only-of-type {\n",
       "        vertical-align: middle;\n",
       "    }\n",
       "\n",
       "    .dataframe tbody tr th {\n",
       "        vertical-align: top;\n",
       "    }\n",
       "\n",
       "    .dataframe thead th {\n",
       "        text-align: right;\n",
       "    }\n",
       "</style>\n",
       "<table border=\"1\" class=\"dataframe\">\n",
       "  <thead>\n",
       "    <tr style=\"text-align: right;\">\n",
       "      <th></th>\n",
       "      <th>min</th>\n",
       "      <th>max</th>\n",
       "    </tr>\n",
       "    <tr>\n",
       "      <th>variety</th>\n",
       "      <th></th>\n",
       "      <th></th>\n",
       "    </tr>\n",
       "  </thead>\n",
       "  <tbody>\n",
       "    <tr>\n",
       "      <th>Abouriou</th>\n",
       "      <td>15.0</td>\n",
       "      <td>75.0</td>\n",
       "    </tr>\n",
       "    <tr>\n",
       "      <th>Agiorgitiko</th>\n",
       "      <td>10.0</td>\n",
       "      <td>66.0</td>\n",
       "    </tr>\n",
       "    <tr>\n",
       "      <th>Aglianico</th>\n",
       "      <td>6.0</td>\n",
       "      <td>180.0</td>\n",
       "    </tr>\n",
       "    <tr>\n",
       "      <th>Aidani</th>\n",
       "      <td>27.0</td>\n",
       "      <td>27.0</td>\n",
       "    </tr>\n",
       "    <tr>\n",
       "      <th>Airen</th>\n",
       "      <td>8.0</td>\n",
       "      <td>10.0</td>\n",
       "    </tr>\n",
       "    <tr>\n",
       "      <th>...</th>\n",
       "      <td>...</td>\n",
       "      <td>...</td>\n",
       "    </tr>\n",
       "    <tr>\n",
       "      <th>Zinfandel</th>\n",
       "      <td>5.0</td>\n",
       "      <td>100.0</td>\n",
       "    </tr>\n",
       "    <tr>\n",
       "      <th>Zlahtina</th>\n",
       "      <td>13.0</td>\n",
       "      <td>16.0</td>\n",
       "    </tr>\n",
       "    <tr>\n",
       "      <th>Zweigelt</th>\n",
       "      <td>9.0</td>\n",
       "      <td>70.0</td>\n",
       "    </tr>\n",
       "    <tr>\n",
       "      <th>Çalkarası</th>\n",
       "      <td>19.0</td>\n",
       "      <td>19.0</td>\n",
       "    </tr>\n",
       "    <tr>\n",
       "      <th>Žilavka</th>\n",
       "      <td>15.0</td>\n",
       "      <td>15.0</td>\n",
       "    </tr>\n",
       "  </tbody>\n",
       "</table>\n",
       "<p>707 rows × 2 columns</p>\n",
       "</div>"
      ],
      "text/plain": [
       "              min    max\n",
       "variety                 \n",
       "Abouriou     15.0   75.0\n",
       "Agiorgitiko  10.0   66.0\n",
       "Aglianico     6.0  180.0\n",
       "Aidani       27.0   27.0\n",
       "Airen         8.0   10.0\n",
       "...           ...    ...\n",
       "Zinfandel     5.0  100.0\n",
       "Zlahtina     13.0   16.0\n",
       "Zweigelt      9.0   70.0\n",
       "Çalkarası    19.0   19.0\n",
       "Žilavka      15.0   15.0\n",
       "\n",
       "[707 rows x 2 columns]"
      ]
     },
     "execution_count": 6,
     "metadata": {},
     "output_type": "execute_result"
    }
   ],
   "source": [
    "price_extremes = reviews.groupby('variety').price.agg([min, max])\n",
    "\n",
    "# Check your answer\n",
    "q3.check()\n",
    "price_extremes"
   ]
  },
  {
   "cell_type": "code",
   "execution_count": 7,
   "id": "f14f8e40",
   "metadata": {
    "execution": {
     "iopub.execute_input": "2024-06-30T08:04:55.135648Z",
     "iopub.status.busy": "2024-06-30T08:04:55.135217Z",
     "iopub.status.idle": "2024-06-30T08:04:55.141911Z",
     "shell.execute_reply": "2024-06-30T08:04:55.140323Z"
    },
    "papermill": {
     "duration": 0.023615,
     "end_time": "2024-06-30T08:04:55.145131",
     "exception": false,
     "start_time": "2024-06-30T08:04:55.121516",
     "status": "completed"
    },
    "tags": []
   },
   "outputs": [],
   "source": [
    "#q3.hint()\n",
    "#q3.solution()"
   ]
  },
  {
   "cell_type": "markdown",
   "id": "d1c6ee56",
   "metadata": {
    "papermill": {
     "duration": 0.010239,
     "end_time": "2024-06-30T08:04:55.166693",
     "exception": false,
     "start_time": "2024-06-30T08:04:55.156454",
     "status": "completed"
    },
    "tags": []
   },
   "source": [
    "## 4.\n",
    "What are the most expensive wine varieties? Create a variable `sorted_varieties` containing a copy of the dataframe from the previous question where varieties are sorted in descending order based on minimum price, then on maximum price (to break ties)."
   ]
  },
  {
   "cell_type": "code",
   "execution_count": 8,
   "id": "4c07dfbb",
   "metadata": {
    "execution": {
     "iopub.execute_input": "2024-06-30T08:04:55.191314Z",
     "iopub.status.busy": "2024-06-30T08:04:55.190246Z",
     "iopub.status.idle": "2024-06-30T08:04:55.205740Z",
     "shell.execute_reply": "2024-06-30T08:04:55.204213Z"
    },
    "papermill": {
     "duration": 0.031493,
     "end_time": "2024-06-30T08:04:55.208397",
     "exception": false,
     "start_time": "2024-06-30T08:04:55.176904",
     "status": "completed"
    },
    "tags": []
   },
   "outputs": [
    {
     "data": {
      "application/javascript": [
       "parent.postMessage({\"jupyterEvent\": \"custom.exercise_interaction\", \"data\": {\"outcomeType\": 1, \"valueTowardsCompletion\": 0.16666666666666666, \"interactionType\": 1, \"questionType\": 1, \"questionId\": \"4_SortedVarieties\", \"learnToolsVersion\": \"0.3.4\", \"failureMessage\": \"\", \"exceptionClass\": \"\", \"trace\": \"\"}}, \"*\")"
      ],
      "text/plain": [
       "<IPython.core.display.Javascript object>"
      ]
     },
     "metadata": {},
     "output_type": "display_data"
    },
    {
     "data": {
      "text/markdown": [
       "<span style=\"color:#33cc33\">Correct</span>"
      ],
      "text/plain": [
       "Correct"
      ]
     },
     "metadata": {},
     "output_type": "display_data"
    }
   ],
   "source": [
    "sorted_varieties = price_extremes.sort_values(by=['min', 'max'], ascending=False)\n",
    "\n",
    "# Check your answer\n",
    "q4.check()"
   ]
  },
  {
   "cell_type": "code",
   "execution_count": 9,
   "id": "8aa2705f",
   "metadata": {
    "execution": {
     "iopub.execute_input": "2024-06-30T08:04:55.233028Z",
     "iopub.status.busy": "2024-06-30T08:04:55.232524Z",
     "iopub.status.idle": "2024-06-30T08:04:55.239010Z",
     "shell.execute_reply": "2024-06-30T08:04:55.237291Z"
    },
    "papermill": {
     "duration": 0.022842,
     "end_time": "2024-06-30T08:04:55.242181",
     "exception": false,
     "start_time": "2024-06-30T08:04:55.219339",
     "status": "completed"
    },
    "tags": []
   },
   "outputs": [],
   "source": [
    "#q4.hint()\n",
    "#q4.solution()"
   ]
  },
  {
   "cell_type": "markdown",
   "id": "0ffd0058",
   "metadata": {
    "papermill": {
     "duration": 0.010719,
     "end_time": "2024-06-30T08:04:55.264645",
     "exception": false,
     "start_time": "2024-06-30T08:04:55.253926",
     "status": "completed"
    },
    "tags": []
   },
   "source": [
    "## 5.\n",
    "Create a `Series` whose index is reviewers and whose values is the average review score given out by that reviewer. Hint: you will need the `taster_name` and `points` columns."
   ]
  },
  {
   "cell_type": "code",
   "execution_count": 10,
   "id": "d0851d27",
   "metadata": {
    "execution": {
     "iopub.execute_input": "2024-06-30T08:04:55.289280Z",
     "iopub.status.busy": "2024-06-30T08:04:55.288101Z",
     "iopub.status.idle": "2024-06-30T08:04:55.325257Z",
     "shell.execute_reply": "2024-06-30T08:04:55.323919Z"
    },
    "papermill": {
     "duration": 0.052653,
     "end_time": "2024-06-30T08:04:55.328331",
     "exception": false,
     "start_time": "2024-06-30T08:04:55.275678",
     "status": "completed"
    },
    "tags": []
   },
   "outputs": [
    {
     "data": {
      "application/javascript": [
       "parent.postMessage({\"jupyterEvent\": \"custom.exercise_interaction\", \"data\": {\"outcomeType\": 1, \"valueTowardsCompletion\": 0.16666666666666666, \"interactionType\": 1, \"questionType\": 1, \"questionId\": \"5_ReviewerMeanRatings\", \"learnToolsVersion\": \"0.3.4\", \"failureMessage\": \"\", \"exceptionClass\": \"\", \"trace\": \"\"}}, \"*\")"
      ],
      "text/plain": [
       "<IPython.core.display.Javascript object>"
      ]
     },
     "metadata": {},
     "output_type": "display_data"
    },
    {
     "data": {
      "text/markdown": [
       "<span style=\"color:#33cc33\">Correct</span>"
      ],
      "text/plain": [
       "Correct"
      ]
     },
     "metadata": {},
     "output_type": "display_data"
    }
   ],
   "source": [
    "reviewer_mean_ratings = reviews.groupby('taster_name').points.mean()\n",
    "\n",
    "# Check your answer\n",
    "q5.check()"
   ]
  },
  {
   "cell_type": "code",
   "execution_count": 11,
   "id": "8db18f25",
   "metadata": {
    "execution": {
     "iopub.execute_input": "2024-06-30T08:04:55.352624Z",
     "iopub.status.busy": "2024-06-30T08:04:55.352207Z",
     "iopub.status.idle": "2024-06-30T08:04:55.357962Z",
     "shell.execute_reply": "2024-06-30T08:04:55.356672Z"
    },
    "papermill": {
     "duration": 0.021501,
     "end_time": "2024-06-30T08:04:55.360677",
     "exception": false,
     "start_time": "2024-06-30T08:04:55.339176",
     "status": "completed"
    },
    "tags": []
   },
   "outputs": [],
   "source": [
    "#q5.hint()\n",
    "#q5.solution()"
   ]
  },
  {
   "cell_type": "markdown",
   "id": "111ec2a5",
   "metadata": {
    "papermill": {
     "duration": 0.010444,
     "end_time": "2024-06-30T08:04:55.382244",
     "exception": false,
     "start_time": "2024-06-30T08:04:55.371800",
     "status": "completed"
    },
    "tags": []
   },
   "source": [
    "Are there significant differences in the average scores assigned by the various reviewers? Run the cell below to use the `describe()` method to see a summary of the range of values."
   ]
  },
  {
   "cell_type": "code",
   "execution_count": 12,
   "id": "c6b9a0e0",
   "metadata": {
    "execution": {
     "iopub.execute_input": "2024-06-30T08:04:55.407017Z",
     "iopub.status.busy": "2024-06-30T08:04:55.406553Z",
     "iopub.status.idle": "2024-06-30T08:04:55.420565Z",
     "shell.execute_reply": "2024-06-30T08:04:55.419069Z"
    },
    "papermill": {
     "duration": 0.029711,
     "end_time": "2024-06-30T08:04:55.423502",
     "exception": false,
     "start_time": "2024-06-30T08:04:55.393791",
     "status": "completed"
    },
    "tags": []
   },
   "outputs": [
    {
     "data": {
      "text/plain": [
       "count    19.000000\n",
       "mean     88.233026\n",
       "std       1.243610\n",
       "min      85.855422\n",
       "25%      87.323501\n",
       "50%      88.536235\n",
       "75%      88.975256\n",
       "max      90.562551\n",
       "Name: points, dtype: float64"
      ]
     },
     "execution_count": 12,
     "metadata": {},
     "output_type": "execute_result"
    }
   ],
   "source": [
    "reviewer_mean_ratings.describe()"
   ]
  },
  {
   "cell_type": "markdown",
   "id": "3b524c39",
   "metadata": {
    "papermill": {
     "duration": 0.010872,
     "end_time": "2024-06-30T08:04:55.445602",
     "exception": false,
     "start_time": "2024-06-30T08:04:55.434730",
     "status": "completed"
    },
    "tags": []
   },
   "source": [
    "## 6.\n",
    "What combination of countries and varieties are most common? Create a `Series` whose index is a `MultiIndex`of `{country, variety}` pairs. For example, a pinot noir produced in the US should map to `{\"US\", \"Pinot Noir\"}`. Sort the values in the `Series` in descending order based on wine count."
   ]
  },
  {
   "cell_type": "code",
   "execution_count": 13,
   "id": "d503cfd7",
   "metadata": {
    "execution": {
     "iopub.execute_input": "2024-06-30T08:04:55.469593Z",
     "iopub.status.busy": "2024-06-30T08:04:55.469167Z",
     "iopub.status.idle": "2024-06-30T08:04:55.536073Z",
     "shell.execute_reply": "2024-06-30T08:04:55.534881Z"
    },
    "papermill": {
     "duration": 0.08197,
     "end_time": "2024-06-30T08:04:55.538679",
     "exception": false,
     "start_time": "2024-06-30T08:04:55.456709",
     "status": "completed"
    },
    "tags": []
   },
   "outputs": [
    {
     "data": {
      "application/javascript": [
       "parent.postMessage({\"jupyterEvent\": \"custom.exercise_interaction\", \"data\": {\"outcomeType\": 1, \"valueTowardsCompletion\": 0.16666666666666666, \"interactionType\": 1, \"questionType\": 1, \"questionId\": \"6_GroupbyCountryVariety\", \"learnToolsVersion\": \"0.3.4\", \"failureMessage\": \"\", \"exceptionClass\": \"\", \"trace\": \"\"}}, \"*\")"
      ],
      "text/plain": [
       "<IPython.core.display.Javascript object>"
      ]
     },
     "metadata": {},
     "output_type": "display_data"
    },
    {
     "data": {
      "text/markdown": [
       "<span style=\"color:#33cc33\">Correct</span>"
      ],
      "text/plain": [
       "Correct"
      ]
     },
     "metadata": {},
     "output_type": "display_data"
    }
   ],
   "source": [
    "country_variety_counts = reviews.groupby(['country', 'variety']).size().sort_values(ascending=False)\n",
    "\n",
    "# Check your answer\n",
    "q6.check()"
   ]
  },
  {
   "cell_type": "code",
   "execution_count": 14,
   "id": "f219253d",
   "metadata": {
    "execution": {
     "iopub.execute_input": "2024-06-30T08:04:55.563156Z",
     "iopub.status.busy": "2024-06-30T08:04:55.562711Z",
     "iopub.status.idle": "2024-06-30T08:04:55.567966Z",
     "shell.execute_reply": "2024-06-30T08:04:55.566814Z"
    },
    "papermill": {
     "duration": 0.021157,
     "end_time": "2024-06-30T08:04:55.571115",
     "exception": false,
     "start_time": "2024-06-30T08:04:55.549958",
     "status": "completed"
    },
    "tags": []
   },
   "outputs": [],
   "source": [
    "#q6.hint()\n",
    "#q6.solution()"
   ]
  },
  {
   "cell_type": "markdown",
   "id": "a5b6e17a",
   "metadata": {
    "papermill": {
     "duration": 0.011468,
     "end_time": "2024-06-30T08:04:55.594847",
     "exception": false,
     "start_time": "2024-06-30T08:04:55.583379",
     "status": "completed"
    },
    "tags": []
   },
   "source": [
    "# Keep going\n",
    "\n",
    "Move on to the [**data types and missing data**](https://www.kaggle.com/residentmario/data-types-and-missing-values)."
   ]
  },
  {
   "cell_type": "markdown",
   "id": "3b2ed10c",
   "metadata": {
    "papermill": {
     "duration": 0.01178,
     "end_time": "2024-06-30T08:04:55.618492",
     "exception": false,
     "start_time": "2024-06-30T08:04:55.606712",
     "status": "completed"
    },
    "tags": []
   },
   "source": [
    "---\n",
    "\n",
    "\n",
    "\n",
    "\n",
    "*Have questions or comments? Visit the [course discussion forum](https://www.kaggle.com/learn/pandas/discussion) to chat with other learners.*"
   ]
  }
 ],
 "metadata": {
  "kaggle": {
   "accelerator": "none",
   "dataSources": [
    {
     "datasetId": 655,
     "sourceId": 1252,
     "sourceType": "datasetVersion"
    },
    {
     "datasetId": 2321,
     "sourceId": 3919,
     "sourceType": "datasetVersion"
    },
    {
     "datasetId": 2894,
     "sourceId": 4877,
     "sourceType": "datasetVersion"
    },
    {
     "datasetId": 3491,
     "sourceId": 5624,
     "sourceType": "datasetVersion"
    },
    {
     "datasetId": 1442,
     "sourceId": 8172,
     "sourceType": "datasetVersion"
    },
    {
     "datasetId": 9366,
     "sourceId": 13206,
     "sourceType": "datasetVersion"
    },
    {
     "datasetId": 179555,
     "sourceId": 403916,
     "sourceType": "datasetVersion"
    },
    {
     "datasetId": 4549,
     "sourceId": 466349,
     "sourceType": "datasetVersion"
    },
    {
     "datasetId": 2478,
     "sourceId": 1151655,
     "sourceType": "datasetVersion"
    },
    {
     "datasetId": 10128,
     "sourceId": 5438389,
     "sourceType": "datasetVersion"
    }
   ],
   "isGpuEnabled": false,
   "isInternetEnabled": false,
   "language": "python",
   "sourceType": "notebook"
  },
  "kernelspec": {
   "display_name": "Python 3",
   "language": "python",
   "name": "python3"
  },
  "language_info": {
   "codemirror_mode": {
    "name": "ipython",
    "version": 3
   },
   "file_extension": ".py",
   "mimetype": "text/x-python",
   "name": "python",
   "nbconvert_exporter": "python",
   "pygments_lexer": "ipython3",
   "version": "3.10.13"
  },
  "papermill": {
   "default_parameters": {},
   "duration": 9.848158,
   "end_time": "2024-06-30T08:04:56.354129",
   "environment_variables": {},
   "exception": null,
   "input_path": "__notebook__.ipynb",
   "output_path": "__notebook__.ipynb",
   "parameters": {},
   "start_time": "2024-06-30T08:04:46.505971",
   "version": "2.5.0"
  }
 },
 "nbformat": 4,
 "nbformat_minor": 5
}
