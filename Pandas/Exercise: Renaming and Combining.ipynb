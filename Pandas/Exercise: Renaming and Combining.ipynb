{
 "cells": [
  {
   "cell_type": "markdown",
   "id": "13301c7f",
   "metadata": {
    "papermill": {
     "duration": 0.009226,
     "end_time": "2024-06-30T11:09:13.802064",
     "exception": false,
     "start_time": "2024-06-30T11:09:13.792838",
     "status": "completed"
    },
    "tags": []
   },
   "source": [
    "**This notebook is an exercise in the [Pandas](https://www.kaggle.com/learn/pandas) course.  You can reference the tutorial at [this link](https://www.kaggle.com/residentmario/renaming-and-combining).**\n",
    "\n",
    "---\n"
   ]
  },
  {
   "cell_type": "markdown",
   "id": "35bd7bc3",
   "metadata": {
    "papermill": {
     "duration": 0.006954,
     "end_time": "2024-06-30T11:09:13.816568",
     "exception": false,
     "start_time": "2024-06-30T11:09:13.809614",
     "status": "completed"
    },
    "tags": []
   },
   "source": [
    "# Introduction\n",
    "\n",
    "Run the following cell to load your data and some utility functions."
   ]
  },
  {
   "cell_type": "code",
   "execution_count": 1,
   "id": "4ab6ad5e",
   "metadata": {
    "execution": {
     "iopub.execute_input": "2024-06-30T11:09:13.833448Z",
     "iopub.status.busy": "2024-06-30T11:09:13.832462Z",
     "iopub.status.idle": "2024-06-30T11:09:19.156638Z",
     "shell.execute_reply": "2024-06-30T11:09:19.155373Z"
    },
    "papermill": {
     "duration": 5.336024,
     "end_time": "2024-06-30T11:09:19.159856",
     "exception": false,
     "start_time": "2024-06-30T11:09:13.823832",
     "status": "completed"
    },
    "tags": []
   },
   "outputs": [
    {
     "name": "stdout",
     "output_type": "stream",
     "text": [
      "Setup complete.\n"
     ]
    }
   ],
   "source": [
    "import pandas as pd\n",
    "\n",
    "reviews = pd.read_csv(\"../input/wine-reviews/winemag-data-130k-v2.csv\", index_col=0)\n",
    "\n",
    "from learntools.core import binder; binder.bind(globals())\n",
    "from learntools.pandas.renaming_and_combining import *\n",
    "print(\"Setup complete.\")"
   ]
  },
  {
   "cell_type": "markdown",
   "id": "1d63e48f",
   "metadata": {
    "papermill": {
     "duration": 0.007615,
     "end_time": "2024-06-30T11:09:19.175851",
     "exception": false,
     "start_time": "2024-06-30T11:09:19.168236",
     "status": "completed"
    },
    "tags": []
   },
   "source": [
    "# Exercises\n",
    "\n",
    "View the first several lines of your data by running the cell below:"
   ]
  },
  {
   "cell_type": "code",
   "execution_count": 2,
   "id": "f32c4d0c",
   "metadata": {
    "execution": {
     "iopub.execute_input": "2024-06-30T11:09:19.194009Z",
     "iopub.status.busy": "2024-06-30T11:09:19.193067Z",
     "iopub.status.idle": "2024-06-30T11:09:19.220156Z",
     "shell.execute_reply": "2024-06-30T11:09:19.218992Z"
    },
    "papermill": {
     "duration": 0.038789,
     "end_time": "2024-06-30T11:09:19.223065",
     "exception": false,
     "start_time": "2024-06-30T11:09:19.184276",
     "status": "completed"
    },
    "tags": []
   },
   "outputs": [
    {
     "data": {
      "text/html": [
       "<div>\n",
       "<style scoped>\n",
       "    .dataframe tbody tr th:only-of-type {\n",
       "        vertical-align: middle;\n",
       "    }\n",
       "\n",
       "    .dataframe tbody tr th {\n",
       "        vertical-align: top;\n",
       "    }\n",
       "\n",
       "    .dataframe thead th {\n",
       "        text-align: right;\n",
       "    }\n",
       "</style>\n",
       "<table border=\"1\" class=\"dataframe\">\n",
       "  <thead>\n",
       "    <tr style=\"text-align: right;\">\n",
       "      <th></th>\n",
       "      <th>country</th>\n",
       "      <th>description</th>\n",
       "      <th>designation</th>\n",
       "      <th>points</th>\n",
       "      <th>price</th>\n",
       "      <th>province</th>\n",
       "      <th>region_1</th>\n",
       "      <th>region_2</th>\n",
       "      <th>taster_name</th>\n",
       "      <th>taster_twitter_handle</th>\n",
       "      <th>title</th>\n",
       "      <th>variety</th>\n",
       "      <th>winery</th>\n",
       "    </tr>\n",
       "  </thead>\n",
       "  <tbody>\n",
       "    <tr>\n",
       "      <th>0</th>\n",
       "      <td>Italy</td>\n",
       "      <td>Aromas include tropical fruit, broom, brimston...</td>\n",
       "      <td>Vulkà Bianco</td>\n",
       "      <td>87</td>\n",
       "      <td>NaN</td>\n",
       "      <td>Sicily &amp; Sardinia</td>\n",
       "      <td>Etna</td>\n",
       "      <td>NaN</td>\n",
       "      <td>Kerin O’Keefe</td>\n",
       "      <td>@kerinokeefe</td>\n",
       "      <td>Nicosia 2013 Vulkà Bianco  (Etna)</td>\n",
       "      <td>White Blend</td>\n",
       "      <td>Nicosia</td>\n",
       "    </tr>\n",
       "    <tr>\n",
       "      <th>1</th>\n",
       "      <td>Portugal</td>\n",
       "      <td>This is ripe and fruity, a wine that is smooth...</td>\n",
       "      <td>Avidagos</td>\n",
       "      <td>87</td>\n",
       "      <td>15.0</td>\n",
       "      <td>Douro</td>\n",
       "      <td>NaN</td>\n",
       "      <td>NaN</td>\n",
       "      <td>Roger Voss</td>\n",
       "      <td>@vossroger</td>\n",
       "      <td>Quinta dos Avidagos 2011 Avidagos Red (Douro)</td>\n",
       "      <td>Portuguese Red</td>\n",
       "      <td>Quinta dos Avidagos</td>\n",
       "    </tr>\n",
       "    <tr>\n",
       "      <th>2</th>\n",
       "      <td>US</td>\n",
       "      <td>Tart and snappy, the flavors of lime flesh and...</td>\n",
       "      <td>NaN</td>\n",
       "      <td>87</td>\n",
       "      <td>14.0</td>\n",
       "      <td>Oregon</td>\n",
       "      <td>Willamette Valley</td>\n",
       "      <td>Willamette Valley</td>\n",
       "      <td>Paul Gregutt</td>\n",
       "      <td>@paulgwine</td>\n",
       "      <td>Rainstorm 2013 Pinot Gris (Willamette Valley)</td>\n",
       "      <td>Pinot Gris</td>\n",
       "      <td>Rainstorm</td>\n",
       "    </tr>\n",
       "    <tr>\n",
       "      <th>3</th>\n",
       "      <td>US</td>\n",
       "      <td>Pineapple rind, lemon pith and orange blossom ...</td>\n",
       "      <td>Reserve Late Harvest</td>\n",
       "      <td>87</td>\n",
       "      <td>13.0</td>\n",
       "      <td>Michigan</td>\n",
       "      <td>Lake Michigan Shore</td>\n",
       "      <td>NaN</td>\n",
       "      <td>Alexander Peartree</td>\n",
       "      <td>NaN</td>\n",
       "      <td>St. Julian 2013 Reserve Late Harvest Riesling ...</td>\n",
       "      <td>Riesling</td>\n",
       "      <td>St. Julian</td>\n",
       "    </tr>\n",
       "    <tr>\n",
       "      <th>4</th>\n",
       "      <td>US</td>\n",
       "      <td>Much like the regular bottling from 2012, this...</td>\n",
       "      <td>Vintner's Reserve Wild Child Block</td>\n",
       "      <td>87</td>\n",
       "      <td>65.0</td>\n",
       "      <td>Oregon</td>\n",
       "      <td>Willamette Valley</td>\n",
       "      <td>Willamette Valley</td>\n",
       "      <td>Paul Gregutt</td>\n",
       "      <td>@paulgwine</td>\n",
       "      <td>Sweet Cheeks 2012 Vintner's Reserve Wild Child...</td>\n",
       "      <td>Pinot Noir</td>\n",
       "      <td>Sweet Cheeks</td>\n",
       "    </tr>\n",
       "  </tbody>\n",
       "</table>\n",
       "</div>"
      ],
      "text/plain": [
       "    country                                        description  \\\n",
       "0     Italy  Aromas include tropical fruit, broom, brimston...   \n",
       "1  Portugal  This is ripe and fruity, a wine that is smooth...   \n",
       "2        US  Tart and snappy, the flavors of lime flesh and...   \n",
       "3        US  Pineapple rind, lemon pith and orange blossom ...   \n",
       "4        US  Much like the regular bottling from 2012, this...   \n",
       "\n",
       "                          designation  points  price           province  \\\n",
       "0                        Vulkà Bianco      87    NaN  Sicily & Sardinia   \n",
       "1                            Avidagos      87   15.0              Douro   \n",
       "2                                 NaN      87   14.0             Oregon   \n",
       "3                Reserve Late Harvest      87   13.0           Michigan   \n",
       "4  Vintner's Reserve Wild Child Block      87   65.0             Oregon   \n",
       "\n",
       "              region_1           region_2         taster_name  \\\n",
       "0                 Etna                NaN       Kerin O’Keefe   \n",
       "1                  NaN                NaN          Roger Voss   \n",
       "2    Willamette Valley  Willamette Valley        Paul Gregutt   \n",
       "3  Lake Michigan Shore                NaN  Alexander Peartree   \n",
       "4    Willamette Valley  Willamette Valley        Paul Gregutt   \n",
       "\n",
       "  taster_twitter_handle                                              title  \\\n",
       "0          @kerinokeefe                  Nicosia 2013 Vulkà Bianco  (Etna)   \n",
       "1            @vossroger      Quinta dos Avidagos 2011 Avidagos Red (Douro)   \n",
       "2           @paulgwine       Rainstorm 2013 Pinot Gris (Willamette Valley)   \n",
       "3                   NaN  St. Julian 2013 Reserve Late Harvest Riesling ...   \n",
       "4           @paulgwine   Sweet Cheeks 2012 Vintner's Reserve Wild Child...   \n",
       "\n",
       "          variety               winery  \n",
       "0     White Blend              Nicosia  \n",
       "1  Portuguese Red  Quinta dos Avidagos  \n",
       "2      Pinot Gris            Rainstorm  \n",
       "3        Riesling           St. Julian  \n",
       "4      Pinot Noir         Sweet Cheeks  "
      ]
     },
     "execution_count": 2,
     "metadata": {},
     "output_type": "execute_result"
    }
   ],
   "source": [
    "reviews.head()"
   ]
  },
  {
   "cell_type": "markdown",
   "id": "f70395cb",
   "metadata": {
    "papermill": {
     "duration": 0.007726,
     "end_time": "2024-06-30T11:09:19.239049",
     "exception": false,
     "start_time": "2024-06-30T11:09:19.231323",
     "status": "completed"
    },
    "tags": []
   },
   "source": [
    "## 1.\n",
    "`region_1` and `region_2` are pretty uninformative names for locale columns in the dataset. Create a copy of `reviews` with these columns renamed to `region` and `locale`, respectively."
   ]
  },
  {
   "cell_type": "code",
   "execution_count": 3,
   "id": "067aec89",
   "metadata": {
    "execution": {
     "iopub.execute_input": "2024-06-30T11:09:19.257147Z",
     "iopub.status.busy": "2024-06-30T11:09:19.256735Z",
     "iopub.status.idle": "2024-06-30T11:09:19.279644Z",
     "shell.execute_reply": "2024-06-30T11:09:19.278536Z"
    },
    "papermill": {
     "duration": 0.035317,
     "end_time": "2024-06-30T11:09:19.282370",
     "exception": false,
     "start_time": "2024-06-30T11:09:19.247053",
     "status": "completed"
    },
    "tags": []
   },
   "outputs": [
    {
     "data": {
      "application/javascript": [
       "parent.postMessage({\"jupyterEvent\": \"custom.exercise_interaction\", \"data\": {\"outcomeType\": 1, \"valueTowardsCompletion\": 0.25, \"interactionType\": 1, \"questionType\": 1, \"questionId\": \"1_RenameCols\", \"learnToolsVersion\": \"0.3.4\", \"failureMessage\": \"\", \"exceptionClass\": \"\", \"trace\": \"\"}}, \"*\")"
      ],
      "text/plain": [
       "<IPython.core.display.Javascript object>"
      ]
     },
     "metadata": {},
     "output_type": "display_data"
    },
    {
     "data": {
      "text/markdown": [
       "<span style=\"color:#33cc33\">Correct</span>"
      ],
      "text/plain": [
       "Correct"
      ]
     },
     "metadata": {},
     "output_type": "display_data"
    }
   ],
   "source": [
    "# Your code here\n",
    "renamed = reviews.rename(columns=dict(region_1='region', region_2='locale'))\n",
    "\n",
    "# Check your answer\n",
    "q1.check()"
   ]
  },
  {
   "cell_type": "code",
   "execution_count": 4,
   "id": "1bb7933b",
   "metadata": {
    "execution": {
     "iopub.execute_input": "2024-06-30T11:09:19.301718Z",
     "iopub.status.busy": "2024-06-30T11:09:19.300403Z",
     "iopub.status.idle": "2024-06-30T11:09:19.305303Z",
     "shell.execute_reply": "2024-06-30T11:09:19.304285Z"
    },
    "papermill": {
     "duration": 0.017117,
     "end_time": "2024-06-30T11:09:19.307844",
     "exception": false,
     "start_time": "2024-06-30T11:09:19.290727",
     "status": "completed"
    },
    "tags": []
   },
   "outputs": [],
   "source": [
    "#q1.hint()\n",
    "#q1.solution()"
   ]
  },
  {
   "cell_type": "markdown",
   "id": "62a49b68",
   "metadata": {
    "papermill": {
     "duration": 0.008188,
     "end_time": "2024-06-30T11:09:19.325700",
     "exception": false,
     "start_time": "2024-06-30T11:09:19.317512",
     "status": "completed"
    },
    "tags": []
   },
   "source": [
    "## 2.\n",
    "Set the index name in the dataset to `wines`."
   ]
  },
  {
   "cell_type": "code",
   "execution_count": 5,
   "id": "8d8712ab",
   "metadata": {
    "execution": {
     "iopub.execute_input": "2024-06-30T11:09:19.344253Z",
     "iopub.status.busy": "2024-06-30T11:09:19.343503Z",
     "iopub.status.idle": "2024-06-30T11:09:19.365272Z",
     "shell.execute_reply": "2024-06-30T11:09:19.364240Z"
    },
    "papermill": {
     "duration": 0.033486,
     "end_time": "2024-06-30T11:09:19.367520",
     "exception": false,
     "start_time": "2024-06-30T11:09:19.334034",
     "status": "completed"
    },
    "tags": []
   },
   "outputs": [
    {
     "data": {
      "application/javascript": [
       "parent.postMessage({\"jupyterEvent\": \"custom.exercise_interaction\", \"data\": {\"outcomeType\": 1, \"valueTowardsCompletion\": 0.25, \"interactionType\": 1, \"questionType\": 1, \"questionId\": \"2_RenameIndex\", \"learnToolsVersion\": \"0.3.4\", \"failureMessage\": \"\", \"exceptionClass\": \"\", \"trace\": \"\"}}, \"*\")"
      ],
      "text/plain": [
       "<IPython.core.display.Javascript object>"
      ]
     },
     "metadata": {},
     "output_type": "display_data"
    },
    {
     "data": {
      "text/markdown": [
       "<span style=\"color:#33cc33\">Correct</span>"
      ],
      "text/plain": [
       "Correct"
      ]
     },
     "metadata": {},
     "output_type": "display_data"
    }
   ],
   "source": [
    "reindexed = reviews.rename_axis('wines', axis='rows')\n",
    "\n",
    "# Check your answer\n",
    "q2.check()"
   ]
  },
  {
   "cell_type": "code",
   "execution_count": 6,
   "id": "36469447",
   "metadata": {
    "execution": {
     "iopub.execute_input": "2024-06-30T11:09:19.386457Z",
     "iopub.status.busy": "2024-06-30T11:09:19.386044Z",
     "iopub.status.idle": "2024-06-30T11:09:19.390651Z",
     "shell.execute_reply": "2024-06-30T11:09:19.389580Z"
    },
    "papermill": {
     "duration": 0.016761,
     "end_time": "2024-06-30T11:09:19.392916",
     "exception": false,
     "start_time": "2024-06-30T11:09:19.376155",
     "status": "completed"
    },
    "tags": []
   },
   "outputs": [],
   "source": [
    "#q2.hint()\n",
    "#q2.solution()"
   ]
  },
  {
   "cell_type": "markdown",
   "id": "130a3535",
   "metadata": {
    "papermill": {
     "duration": 0.008267,
     "end_time": "2024-06-30T11:09:19.409887",
     "exception": false,
     "start_time": "2024-06-30T11:09:19.401620",
     "status": "completed"
    },
    "tags": []
   },
   "source": [
    "## 3.\n",
    "The [Things on Reddit](https://www.kaggle.com/residentmario/things-on-reddit/data) dataset includes product links from a selection of top-ranked forums (\"subreddits\") on reddit.com. Run the cell below to load a dataframe of products mentioned on the */r/gaming* subreddit and another dataframe for products mentioned on the *r//movies* subreddit."
   ]
  },
  {
   "cell_type": "code",
   "execution_count": 7,
   "id": "61dc3b24",
   "metadata": {
    "execution": {
     "iopub.execute_input": "2024-06-30T11:09:19.429509Z",
     "iopub.status.busy": "2024-06-30T11:09:19.428562Z",
     "iopub.status.idle": "2024-06-30T11:09:19.444118Z",
     "shell.execute_reply": "2024-06-30T11:09:19.442924Z"
    },
    "papermill": {
     "duration": 0.028302,
     "end_time": "2024-06-30T11:09:19.446920",
     "exception": false,
     "start_time": "2024-06-30T11:09:19.418618",
     "status": "completed"
    },
    "tags": []
   },
   "outputs": [],
   "source": [
    "gaming_products = pd.read_csv(\"../input/things-on-reddit/top-things/top-things/reddits/g/gaming.csv\")\n",
    "gaming_products['subreddit'] = \"r/gaming\"\n",
    "movie_products = pd.read_csv(\"../input/things-on-reddit/top-things/top-things/reddits/m/movies.csv\")\n",
    "movie_products['subreddit'] = \"r/movies\""
   ]
  },
  {
   "cell_type": "markdown",
   "id": "a7b5deb3",
   "metadata": {
    "papermill": {
     "duration": 0.00844,
     "end_time": "2024-06-30T11:09:19.464117",
     "exception": false,
     "start_time": "2024-06-30T11:09:19.455677",
     "status": "completed"
    },
    "tags": []
   },
   "source": [
    "Create a `DataFrame` of products mentioned on *either* subreddit."
   ]
  },
  {
   "cell_type": "code",
   "execution_count": 8,
   "id": "278f50c1",
   "metadata": {
    "execution": {
     "iopub.execute_input": "2024-06-30T11:09:19.483643Z",
     "iopub.status.busy": "2024-06-30T11:09:19.483216Z",
     "iopub.status.idle": "2024-06-30T11:09:19.496090Z",
     "shell.execute_reply": "2024-06-30T11:09:19.495042Z"
    },
    "papermill": {
     "duration": 0.025511,
     "end_time": "2024-06-30T11:09:19.498703",
     "exception": false,
     "start_time": "2024-06-30T11:09:19.473192",
     "status": "completed"
    },
    "tags": []
   },
   "outputs": [
    {
     "data": {
      "application/javascript": [
       "parent.postMessage({\"jupyterEvent\": \"custom.exercise_interaction\", \"data\": {\"outcomeType\": 1, \"valueTowardsCompletion\": 0.25, \"interactionType\": 1, \"questionType\": 2, \"questionId\": \"3_ConcatReddit\", \"learnToolsVersion\": \"0.3.4\", \"failureMessage\": \"\", \"exceptionClass\": \"\", \"trace\": \"\"}}, \"*\")"
      ],
      "text/plain": [
       "<IPython.core.display.Javascript object>"
      ]
     },
     "metadata": {},
     "output_type": "display_data"
    },
    {
     "data": {
      "text/markdown": [
       "<span style=\"color:#33cc33\">Correct</span>"
      ],
      "text/plain": [
       "Correct"
      ]
     },
     "metadata": {},
     "output_type": "display_data"
    }
   ],
   "source": [
    "combined_products = pd.concat([gaming_products, movie_products])\n",
    "\n",
    "# Check your answer\n",
    "q3.check()"
   ]
  },
  {
   "cell_type": "code",
   "execution_count": 9,
   "id": "75624c5e",
   "metadata": {
    "execution": {
     "iopub.execute_input": "2024-06-30T11:09:19.518874Z",
     "iopub.status.busy": "2024-06-30T11:09:19.518134Z",
     "iopub.status.idle": "2024-06-30T11:09:19.523130Z",
     "shell.execute_reply": "2024-06-30T11:09:19.521592Z"
    },
    "papermill": {
     "duration": 0.017855,
     "end_time": "2024-06-30T11:09:19.525420",
     "exception": false,
     "start_time": "2024-06-30T11:09:19.507565",
     "status": "completed"
    },
    "tags": []
   },
   "outputs": [],
   "source": [
    "#q3.hint()\n",
    "#q3.solution()"
   ]
  },
  {
   "cell_type": "markdown",
   "id": "d3bd27fa",
   "metadata": {
    "papermill": {
     "duration": 0.008703,
     "end_time": "2024-06-30T11:09:19.543177",
     "exception": false,
     "start_time": "2024-06-30T11:09:19.534474",
     "status": "completed"
    },
    "tags": []
   },
   "source": [
    "## 4.\n",
    "The [Powerlifting Database](https://www.kaggle.com/open-powerlifting/powerlifting-database) dataset on Kaggle includes one CSV table for powerlifting meets and a separate one for powerlifting competitors. Run the cell below to load these datasets into dataframes:"
   ]
  },
  {
   "cell_type": "code",
   "execution_count": 10,
   "id": "16f4cd96",
   "metadata": {
    "execution": {
     "iopub.execute_input": "2024-06-30T11:09:19.563108Z",
     "iopub.status.busy": "2024-06-30T11:09:19.562725Z",
     "iopub.status.idle": "2024-06-30T11:09:20.600102Z",
     "shell.execute_reply": "2024-06-30T11:09:20.598957Z"
    },
    "papermill": {
     "duration": 1.050608,
     "end_time": "2024-06-30T11:09:20.602816",
     "exception": false,
     "start_time": "2024-06-30T11:09:19.552208",
     "status": "completed"
    },
    "tags": []
   },
   "outputs": [],
   "source": [
    "powerlifting_meets = pd.read_csv(\"../input/powerlifting-database/meets.csv\")\n",
    "powerlifting_competitors = pd.read_csv(\"../input/powerlifting-database/openpowerlifting.csv\")"
   ]
  },
  {
   "cell_type": "markdown",
   "id": "87d818f6",
   "metadata": {
    "papermill": {
     "duration": 0.008672,
     "end_time": "2024-06-30T11:09:20.620959",
     "exception": false,
     "start_time": "2024-06-30T11:09:20.612287",
     "status": "completed"
    },
    "tags": []
   },
   "source": [
    "Both tables include references to a `MeetID`, a unique key for each meet (competition) included in the database. Using this, generate a dataset combining the two tables into one."
   ]
  },
  {
   "cell_type": "code",
   "execution_count": 11,
   "id": "45bcd9d7",
   "metadata": {
    "execution": {
     "iopub.execute_input": "2024-06-30T11:09:20.647699Z",
     "iopub.status.busy": "2024-06-30T11:09:20.647160Z",
     "iopub.status.idle": "2024-06-30T11:09:21.918962Z",
     "shell.execute_reply": "2024-06-30T11:09:21.917908Z"
    },
    "papermill": {
     "duration": 1.289764,
     "end_time": "2024-06-30T11:09:21.922147",
     "exception": false,
     "start_time": "2024-06-30T11:09:20.632383",
     "status": "completed"
    },
    "tags": []
   },
   "outputs": [
    {
     "data": {
      "application/javascript": [
       "parent.postMessage({\"jupyterEvent\": \"custom.exercise_interaction\", \"data\": {\"outcomeType\": 1, \"valueTowardsCompletion\": 0.25, \"interactionType\": 1, \"questionType\": 2, \"questionId\": \"4_JoinLifting\", \"learnToolsVersion\": \"0.3.4\", \"failureMessage\": \"\", \"exceptionClass\": \"\", \"trace\": \"\"}}, \"*\")"
      ],
      "text/plain": [
       "<IPython.core.display.Javascript object>"
      ]
     },
     "metadata": {},
     "output_type": "display_data"
    },
    {
     "data": {
      "text/markdown": [
       "<span style=\"color:#33cc33\">Correct</span>"
      ],
      "text/plain": [
       "Correct"
      ]
     },
     "metadata": {},
     "output_type": "display_data"
    }
   ],
   "source": [
    "powerlifting_combined = powerlifting_meets.set_index(\"MeetID\").join(powerlifting_competitors.set_index(\"MeetID\"))\n",
    "\n",
    "# Check your answer\n",
    "q4.check()"
   ]
  },
  {
   "cell_type": "code",
   "execution_count": 12,
   "id": "c77f30d4",
   "metadata": {
    "execution": {
     "iopub.execute_input": "2024-06-30T11:09:21.942578Z",
     "iopub.status.busy": "2024-06-30T11:09:21.942164Z",
     "iopub.status.idle": "2024-06-30T11:09:21.946724Z",
     "shell.execute_reply": "2024-06-30T11:09:21.945587Z"
    },
    "papermill": {
     "duration": 0.017489,
     "end_time": "2024-06-30T11:09:21.949056",
     "exception": false,
     "start_time": "2024-06-30T11:09:21.931567",
     "status": "completed"
    },
    "tags": []
   },
   "outputs": [],
   "source": [
    "#q4.hint()\n",
    "#q4.solution()"
   ]
  },
  {
   "cell_type": "markdown",
   "id": "540790e4",
   "metadata": {
    "papermill": {
     "duration": 0.009159,
     "end_time": "2024-06-30T11:09:21.967647",
     "exception": false,
     "start_time": "2024-06-30T11:09:21.958488",
     "status": "completed"
    },
    "tags": []
   },
   "source": [
    "# Congratulations!\n",
    "\n",
    "You've finished the Pandas micro-course.  Many data scientists feel efficiency with Pandas is the most useful and practical skill they have, because it allows you to progress quickly in any project you have.\n",
    "\n",
    "If you'd like to apply your new skills to examining geospatial data, you're encouraged to check out our **[Geospatial Analysis](https://www.kaggle.com/learn/geospatial-analysis)** micro-course.\n",
    "\n",
    "You can also take advantage of your Pandas skills by entering a **[Kaggle Competition](https://www.kaggle.com/competitions)** or by answering a question you find interesting using **[Kaggle Datasets](https://www.kaggle.com/datasets)**."
   ]
  },
  {
   "cell_type": "markdown",
   "id": "e803f837",
   "metadata": {
    "papermill": {
     "duration": 0.00881,
     "end_time": "2024-06-30T11:09:21.985807",
     "exception": false,
     "start_time": "2024-06-30T11:09:21.976997",
     "status": "completed"
    },
    "tags": []
   },
   "source": [
    "---\n",
    "\n",
    "\n",
    "\n",
    "\n",
    "*Have questions or comments? Visit the [course discussion forum](https://www.kaggle.com/learn/pandas/discussion) to chat with other learners.*"
   ]
  }
 ],
 "metadata": {
  "kaggle": {
   "accelerator": "none",
   "dataSources": [
    {
     "datasetId": 655,
     "sourceId": 1252,
     "sourceType": "datasetVersion"
    },
    {
     "datasetId": 2321,
     "sourceId": 3919,
     "sourceType": "datasetVersion"
    },
    {
     "datasetId": 2894,
     "sourceId": 4877,
     "sourceType": "datasetVersion"
    },
    {
     "datasetId": 3491,
     "sourceId": 5624,
     "sourceType": "datasetVersion"
    },
    {
     "datasetId": 1442,
     "sourceId": 8172,
     "sourceType": "datasetVersion"
    },
    {
     "datasetId": 9366,
     "sourceId": 13206,
     "sourceType": "datasetVersion"
    },
    {
     "datasetId": 179555,
     "sourceId": 403916,
     "sourceType": "datasetVersion"
    },
    {
     "datasetId": 4549,
     "sourceId": 466349,
     "sourceType": "datasetVersion"
    },
    {
     "datasetId": 2478,
     "sourceId": 1151655,
     "sourceType": "datasetVersion"
    },
    {
     "datasetId": 10128,
     "sourceId": 5438389,
     "sourceType": "datasetVersion"
    }
   ],
   "isGpuEnabled": false,
   "isInternetEnabled": false,
   "language": "python",
   "sourceType": "notebook"
  },
  "kernelspec": {
   "display_name": "Python 3",
   "language": "python",
   "name": "python3"
  },
  "language_info": {
   "codemirror_mode": {
    "name": "ipython",
    "version": 3
   },
   "file_extension": ".py",
   "mimetype": "text/x-python",
   "name": "python",
   "nbconvert_exporter": "python",
   "pygments_lexer": "ipython3",
   "version": "3.10.13"
  },
  "papermill": {
   "default_parameters": {},
   "duration": 11.787525,
   "end_time": "2024-06-30T11:09:22.615342",
   "environment_variables": {},
   "exception": null,
   "input_path": "__notebook__.ipynb",
   "output_path": "__notebook__.ipynb",
   "parameters": {},
   "start_time": "2024-06-30T11:09:10.827817",
   "version": "2.5.0"
  }
 },
 "nbformat": 4,
 "nbformat_minor": 5
}
