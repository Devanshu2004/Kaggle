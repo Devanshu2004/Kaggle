{
 "cells": [
  {
   "cell_type": "markdown",
   "id": "10251c82",
   "metadata": {
    "papermill": {
     "duration": 0.005902,
     "end_time": "2025-06-30T05:56:17.554339",
     "exception": false,
     "start_time": "2025-06-30T05:56:17.548437",
     "status": "completed"
    },
    "tags": []
   },
   "source": [
    "**This notebook is an exercise in the [Python](https://www.kaggle.com/learn/python) course.  You can reference the tutorial at [this link](https://www.kaggle.com/colinmorris/hello-python).**\n",
    "\n",
    "---\n"
   ]
  },
  {
   "cell_type": "markdown",
   "id": "1e306427",
   "metadata": {
    "papermill": {
     "duration": 0.004038,
     "end_time": "2025-06-30T05:56:17.562863",
     "exception": false,
     "start_time": "2025-06-30T05:56:17.558825",
     "status": "completed"
    },
    "tags": []
   },
   "source": [
    "Welcome to your first set of Python coding problems.  If this is your first time using Kaggle Notebooks, welcome! \n",
    "\n",
    "Notebooks are composed of blocks (called \"cells\") of text and code. Each of these is editable, though you'll mainly be editing the code cells to answer some questions.\n",
    "\n",
    "To get started, try running the code cell below (by pressing the ► button, or clicking on the cell and pressing ctrl+enter on your keyboard)."
   ]
  },
  {
   "cell_type": "code",
   "execution_count": 1,
   "id": "0a80c3ef",
   "metadata": {
    "execution": {
     "iopub.execute_input": "2025-06-30T05:56:17.572617Z",
     "iopub.status.busy": "2025-06-30T05:56:17.572314Z",
     "iopub.status.idle": "2025-06-30T05:56:17.580886Z",
     "shell.execute_reply": "2025-06-30T05:56:17.579880Z"
    },
    "papermill": {
     "duration": 0.015313,
     "end_time": "2025-06-30T05:56:17.582438",
     "exception": false,
     "start_time": "2025-06-30T05:56:17.567125",
     "status": "completed"
    },
    "tags": []
   },
   "outputs": [
    {
     "name": "stdout",
     "output_type": "stream",
     "text": [
      "You've successfully run some Python code\n",
      "Congratulations!\n"
     ]
    }
   ],
   "source": [
    "print(\"You've successfully run some Python code\")\n",
    "print(\"Congratulations!\")"
   ]
  },
  {
   "cell_type": "markdown",
   "id": "97534439",
   "metadata": {
    "papermill": {
     "duration": 0.004217,
     "end_time": "2025-06-30T05:56:17.591489",
     "exception": false,
     "start_time": "2025-06-30T05:56:17.587272",
     "status": "completed"
    },
    "tags": []
   },
   "source": [
    "Try adding another line of code in the cell above and re-running it. \n",
    "\n",
    "Now let's get a little fancier:  Add a new code cell by clicking on an existing code cell, hitting the escape key, and then hitting the `a` or `b` key.  The `a` key will add a cell above the current cell, and `b` adds a cell below.\n",
    "\n",
    "Great! Now you know how to use Notebooks.\n",
    "\n",
    "Each hands-on exercise starts by setting up our feedback and code checking mechanism. Run the code cell below to do that. Then you'll be ready to move on to question 0."
   ]
  },
  {
   "cell_type": "code",
   "execution_count": 2,
   "id": "a0348a42",
   "metadata": {
    "_kg_hide-input": true,
    "_kg_hide-output": true,
    "execution": {
     "iopub.execute_input": "2025-06-30T05:56:17.601757Z",
     "iopub.status.busy": "2025-06-30T05:56:17.601423Z",
     "iopub.status.idle": "2025-06-30T05:56:19.635777Z",
     "shell.execute_reply": "2025-06-30T05:56:19.634526Z"
    },
    "papermill": {
     "duration": 2.041385,
     "end_time": "2025-06-30T05:56:19.637443",
     "exception": false,
     "start_time": "2025-06-30T05:56:17.596058",
     "status": "completed"
    },
    "tags": []
   },
   "outputs": [
    {
     "name": "stdout",
     "output_type": "stream",
     "text": [
      "Setup complete! You're ready to start question 0.\n"
     ]
    }
   ],
   "source": [
    "from learntools.core import binder; binder.bind(globals())\n",
    "from learntools.python.ex1 import *\n",
    "print(\"Setup complete! You're ready to start question 0.\")"
   ]
  },
  {
   "cell_type": "markdown",
   "id": "95596b10",
   "metadata": {
    "papermill": {
     "duration": 0.004568,
     "end_time": "2025-06-30T05:56:19.646822",
     "exception": false,
     "start_time": "2025-06-30T05:56:19.642254",
     "status": "completed"
    },
    "tags": []
   },
   "source": [
    "# 0.\n",
    "\n",
    "*This is a silly question intended as an introduction to the format we use for hands-on exercises throughout all Kaggle courses.*\n",
    "\n",
    "**What is your favorite color? **\n",
    "\n",
    "To complete this question, create a variable called `color` in the cell below with an appropriate value. The function call `q0.check()` (which we've already provided in the cell below) will check your answer."
   ]
  },
  {
   "cell_type": "code",
   "execution_count": 3,
   "id": "6c3090c9",
   "metadata": {
    "execution": {
     "iopub.execute_input": "2025-06-30T05:56:19.657275Z",
     "iopub.status.busy": "2025-06-30T05:56:19.656850Z",
     "iopub.status.idle": "2025-06-30T05:56:19.664614Z",
     "shell.execute_reply": "2025-06-30T05:56:19.663932Z"
    },
    "papermill": {
     "duration": 0.014712,
     "end_time": "2025-06-30T05:56:19.666124",
     "exception": false,
     "start_time": "2025-06-30T05:56:19.651412",
     "status": "completed"
    },
    "tags": []
   },
   "outputs": [
    {
     "data": {
      "application/javascript": [
       "parent.postMessage({\"jupyterEvent\": \"custom.exercise_interaction\", \"data\": {\"outcomeType\": 1, \"valueTowardsCompletion\": 0.25, \"interactionType\": 1, \"questionType\": 2, \"questionId\": \"0_ExerciseFormatTutorial\", \"learnToolsVersion\": \"0.3.5\", \"failureMessage\": \"\", \"exceptionClass\": \"\", \"trace\": \"\"}}, \"*\")"
      ],
      "text/plain": [
       "<IPython.core.display.Javascript object>"
      ]
     },
     "metadata": {},
     "output_type": "display_data"
    },
    {
     "data": {
      "text/markdown": [
       "<span style=\"color:#33cc33\">Correct:</span> What?! You got it right without needing a hint or anything? Drats. Well hey, you should still continue to the next step to get some practice asking for a hint and checking solutions. (Even though you obviously don't need any help here.)"
      ],
      "text/plain": [
       "Correct: What?! You got it right without needing a hint or anything? Drats. Well hey, you should still continue to the next step to get some practice asking for a hint and checking solutions. (Even though you obviously don't need any help here.)"
      ]
     },
     "metadata": {},
     "output_type": "display_data"
    }
   ],
   "source": [
    "# create a variable called color with an appropriate value on the line below\n",
    "# (Remember, strings in Python must be enclosed in 'single' or \"double\" quotes)\n",
    "color = \"blue\"\n",
    "\n",
    "# Check your answer\n",
    "q0.check()"
   ]
  },
  {
   "cell_type": "markdown",
   "id": "ccfbe690",
   "metadata": {
    "papermill": {
     "duration": 0.004346,
     "end_time": "2025-06-30T05:56:19.675360",
     "exception": false,
     "start_time": "2025-06-30T05:56:19.671014",
     "status": "completed"
    },
    "tags": []
   },
   "source": [
    "Didn't get the right answer? How do you not even know your own favorite color?!\n",
    "\n",
    "Delete the `#` in the line below to make one of the lines run. You can choose between getting a hint or the full answer by choosing which line to remove the `#` from. \n",
    "\n",
    "Removing the `#` is called uncommenting, because it changes that line from a \"comment\" which Python doesn't run to code, which Python does run."
   ]
  },
  {
   "cell_type": "code",
   "execution_count": 4,
   "id": "2f1b0398",
   "metadata": {
    "execution": {
     "iopub.execute_input": "2025-06-30T05:56:19.685779Z",
     "iopub.status.busy": "2025-06-30T05:56:19.685430Z",
     "iopub.status.idle": "2025-06-30T05:56:19.689080Z",
     "shell.execute_reply": "2025-06-30T05:56:19.688349Z"
    },
    "papermill": {
     "duration": 0.010391,
     "end_time": "2025-06-30T05:56:19.690346",
     "exception": false,
     "start_time": "2025-06-30T05:56:19.679955",
     "status": "completed"
    },
    "tags": []
   },
   "outputs": [],
   "source": [
    "#q0.hint()\n",
    "#q0.solution()"
   ]
  },
  {
   "cell_type": "markdown",
   "id": "6755f71b",
   "metadata": {
    "papermill": {
     "duration": 0.004423,
     "end_time": "2025-06-30T05:56:19.699454",
     "exception": false,
     "start_time": "2025-06-30T05:56:19.695031",
     "status": "completed"
    },
    "tags": []
   },
   "source": [
    "The upcoming questions work the same way. The only thing that will change are the question numbers. For the next question, you'll call `q1.check()`, `q1.hint()`, `q1.solution()`, for question 2, you'll call `q2.check()`, and so on."
   ]
  },
  {
   "cell_type": "markdown",
   "id": "e5f0d9e1",
   "metadata": {
    "papermill": {
     "duration": 0.004357,
     "end_time": "2025-06-30T05:56:19.708324",
     "exception": false,
     "start_time": "2025-06-30T05:56:19.703967",
     "status": "completed"
    },
    "tags": []
   },
   "source": [
    "<hr/>\n",
    "\n",
    "# 1.\n",
    "\n",
    "Complete the code below. In case it's helpful, here is the table of available arithmetic operations:\n",
    "\n",
    "\n",
    "\n",
    "| Operator     | Name           | Description                                            |\n",
    "|--------------|----------------|--------------------------------------------------------|\n",
    "| ``a + b``    | Addition       | Sum of ``a`` and ``b``                                 |\n",
    "| ``a - b``    | Subtraction    | Difference of ``a`` and ``b``                          |\n",
    "| ``a * b``    | Multiplication | Product of ``a`` and ``b``                             |\n",
    "| ``a / b``    | True division  | Quotient of ``a`` and ``b``                            |\n",
    "| ``a // b``   | Floor division | Quotient of ``a`` and ``b``, removing fractional parts |\n",
    "| ``a % b``    | Modulus        | Integer remainder after division of ``a`` by ``b``     |\n",
    "| ``a ** b``   | Exponentiation | ``a`` raised to the power of ``b``                     |\n",
    "| ``-a``       | Negation       | The negative of ``a``                                  |\n",
    "\n",
    "<span style=\"display:none\"></span>\n"
   ]
  },
  {
   "cell_type": "code",
   "execution_count": 5,
   "id": "261d1221",
   "metadata": {
    "execution": {
     "iopub.execute_input": "2025-06-30T05:56:19.719391Z",
     "iopub.status.busy": "2025-06-30T05:56:19.719072Z",
     "iopub.status.idle": "2025-06-30T05:56:19.726587Z",
     "shell.execute_reply": "2025-06-30T05:56:19.725760Z"
    },
    "papermill": {
     "duration": 0.01511,
     "end_time": "2025-06-30T05:56:19.728000",
     "exception": false,
     "start_time": "2025-06-30T05:56:19.712890",
     "status": "completed"
    },
    "tags": []
   },
   "outputs": [
    {
     "data": {
      "application/javascript": [
       "parent.postMessage({\"jupyterEvent\": \"custom.exercise_interaction\", \"data\": {\"outcomeType\": 1, \"valueTowardsCompletion\": 0.25, \"interactionType\": 1, \"questionType\": 1, \"questionId\": \"1_CircleArea\", \"learnToolsVersion\": \"0.3.5\", \"failureMessage\": \"\", \"exceptionClass\": \"\", \"trace\": \"\"}}, \"*\")"
      ],
      "text/plain": [
       "<IPython.core.display.Javascript object>"
      ]
     },
     "metadata": {},
     "output_type": "display_data"
    },
    {
     "data": {
      "text/markdown": [
       "<span style=\"color:#33cc33\">Correct</span>"
      ],
      "text/plain": [
       "Correct"
      ]
     },
     "metadata": {},
     "output_type": "display_data"
    }
   ],
   "source": [
    "pi = 3.14159 # approximate\n",
    "diameter = 3\n",
    "\n",
    "# Create a variable called 'radius' equal to half the diameter\n",
    "radius = diameter / 2\n",
    "\n",
    "# Create a variable called 'area', using the formula for the area of a circle: pi times the radius squared\n",
    "area = pi * (radius ** 2)\n",
    "\n",
    "# Check your answer\n",
    "q1.check()"
   ]
  },
  {
   "cell_type": "code",
   "execution_count": 6,
   "id": "4c1564e8",
   "metadata": {
    "execution": {
     "iopub.execute_input": "2025-06-30T05:56:19.738757Z",
     "iopub.status.busy": "2025-06-30T05:56:19.738427Z",
     "iopub.status.idle": "2025-06-30T05:56:19.742317Z",
     "shell.execute_reply": "2025-06-30T05:56:19.741555Z"
    },
    "papermill": {
     "duration": 0.010769,
     "end_time": "2025-06-30T05:56:19.743660",
     "exception": false,
     "start_time": "2025-06-30T05:56:19.732891",
     "status": "completed"
    },
    "tags": []
   },
   "outputs": [],
   "source": [
    "# Uncomment and run the lines below if you need help.\n",
    "#q1.hint()\n",
    "#q1.solution()"
   ]
  },
  {
   "cell_type": "markdown",
   "id": "1e11e87a",
   "metadata": {
    "papermill": {
     "duration": 0.004717,
     "end_time": "2025-06-30T05:56:19.753353",
     "exception": false,
     "start_time": "2025-06-30T05:56:19.748636",
     "status": "completed"
    },
    "tags": []
   },
   "source": [
    "<hr/>\n",
    "\n",
    "# 2.\n",
    "\n",
    "Add code to the following cell to swap variables `a` and `b` (so that `a` refers to the object previously referred to by `b` and vice versa)."
   ]
  },
  {
   "cell_type": "code",
   "execution_count": 7,
   "id": "ef63b8cd",
   "metadata": {
    "execution": {
     "iopub.execute_input": "2025-06-30T05:56:19.763929Z",
     "iopub.status.busy": "2025-06-30T05:56:19.763595Z",
     "iopub.status.idle": "2025-06-30T05:56:19.771579Z",
     "shell.execute_reply": "2025-06-30T05:56:19.770859Z"
    },
    "papermill": {
     "duration": 0.014976,
     "end_time": "2025-06-30T05:56:19.773004",
     "exception": false,
     "start_time": "2025-06-30T05:56:19.758028",
     "status": "completed"
    },
    "tags": []
   },
   "outputs": [
    {
     "data": {
      "application/javascript": [
       "parent.postMessage({\"jupyterEvent\": \"custom.exercise_interaction\", \"data\": {\"outcomeType\": 1, \"valueTowardsCompletion\": 0.25, \"interactionType\": 1, \"questionType\": 2, \"questionId\": \"2_VariableSwap\", \"learnToolsVersion\": \"0.3.5\", \"failureMessage\": \"\", \"exceptionClass\": \"\", \"trace\": \"\"}}, \"*\")"
      ],
      "text/plain": [
       "<IPython.core.display.Javascript object>"
      ]
     },
     "metadata": {},
     "output_type": "display_data"
    },
    {
     "data": {
      "text/markdown": [
       "<span style=\"color:#33cc33\">Correct:</span> \n",
       "\n",
       "The most straightforward solution is to use a third variable to temporarily store one of the old values. e.g.:\n",
       "\n",
       "    tmp = a\n",
       "    a = b\n",
       "    b = tmp\n",
       "\n",
       "If you've read lots of Python code, you might have seen the following trick to swap two variables in one line:\n",
       "\n",
       "    a, b = b, a\n",
       "\n",
       "We'll demystify this bit of Python magic later when we talk about *tuples*."
      ],
      "text/plain": [
       "Correct: \n",
       "\n",
       "The most straightforward solution is to use a third variable to temporarily store one of the old values. e.g.:\n",
       "\n",
       "    tmp = a\n",
       "    a = b\n",
       "    b = tmp\n",
       "\n",
       "If you've read lots of Python code, you might have seen the following trick to swap two variables in one line:\n",
       "\n",
       "    a, b = b, a\n",
       "\n",
       "We'll demystify this bit of Python magic later when we talk about *tuples*."
      ]
     },
     "metadata": {},
     "output_type": "display_data"
    }
   ],
   "source": [
    "########### Setup code - don't touch this part ######################\n",
    "# If you're curious, these are examples of lists. We'll talk about \n",
    "# them in depth a few lessons from now. For now, just know that they're\n",
    "# yet another type of Python object, like int or float.\n",
    "a = [1, 2, 3]\n",
    "b = [3, 2, 1]\n",
    "q2.store_original_ids()\n",
    "######################################################################\n",
    "\n",
    "# Your code goes here. Swap the values to which a and b refer.\n",
    "# If you get stuck, you can always uncomment one or both of the lines in\n",
    "# the next cell for a hint, or to peek at the solution.\n",
    "\n",
    "c = a\n",
    "a = b\n",
    "b = c\n",
    "\n",
    "######################################################################\n",
    "\n",
    "# Check your answer\n",
    "q2.check()"
   ]
  },
  {
   "cell_type": "code",
   "execution_count": 8,
   "id": "fb0e5f42",
   "metadata": {
    "execution": {
     "iopub.execute_input": "2025-06-30T05:56:19.784739Z",
     "iopub.status.busy": "2025-06-30T05:56:19.784375Z",
     "iopub.status.idle": "2025-06-30T05:56:19.788969Z",
     "shell.execute_reply": "2025-06-30T05:56:19.788020Z"
    },
    "papermill": {
     "duration": 0.012046,
     "end_time": "2025-06-30T05:56:19.790416",
     "exception": false,
     "start_time": "2025-06-30T05:56:19.778370",
     "status": "completed"
    },
    "tags": []
   },
   "outputs": [],
   "source": [
    "#q2.hint()"
   ]
  },
  {
   "cell_type": "code",
   "execution_count": 9,
   "id": "e94c456b",
   "metadata": {
    "execution": {
     "iopub.execute_input": "2025-06-30T05:56:19.802291Z",
     "iopub.status.busy": "2025-06-30T05:56:19.801959Z",
     "iopub.status.idle": "2025-06-30T05:56:19.806017Z",
     "shell.execute_reply": "2025-06-30T05:56:19.805064Z"
    },
    "papermill": {
     "duration": 0.011823,
     "end_time": "2025-06-30T05:56:19.807426",
     "exception": false,
     "start_time": "2025-06-30T05:56:19.795603",
     "status": "completed"
    },
    "tags": []
   },
   "outputs": [],
   "source": [
    "#q2.solution()"
   ]
  },
  {
   "cell_type": "markdown",
   "id": "b8c92efd",
   "metadata": {
    "papermill": {
     "duration": 0.004831,
     "end_time": "2025-06-30T05:56:19.817696",
     "exception": false,
     "start_time": "2025-06-30T05:56:19.812865",
     "status": "completed"
    },
    "tags": []
   },
   "source": [
    "<hr/>\n",
    "\n",
    "# 3a.\n",
    "\n",
    "Add parentheses to the following expression so that it evaluates to 1."
   ]
  },
  {
   "cell_type": "code",
   "execution_count": 10,
   "id": "44d19a4e",
   "metadata": {
    "execution": {
     "iopub.execute_input": "2025-06-30T05:56:19.829164Z",
     "iopub.status.busy": "2025-06-30T05:56:19.828833Z",
     "iopub.status.idle": "2025-06-30T05:56:19.834254Z",
     "shell.execute_reply": "2025-06-30T05:56:19.833285Z"
    },
    "papermill": {
     "duration": 0.012891,
     "end_time": "2025-06-30T05:56:19.835671",
     "exception": false,
     "start_time": "2025-06-30T05:56:19.822780",
     "status": "completed"
    },
    "tags": []
   },
   "outputs": [
    {
     "data": {
      "text/plain": [
       "1"
      ]
     },
     "execution_count": 10,
     "metadata": {},
     "output_type": "execute_result"
    }
   ],
   "source": [
    "(5 - 3) // 2"
   ]
  },
  {
   "cell_type": "code",
   "execution_count": 11,
   "id": "ecdbe19d",
   "metadata": {
    "execution": {
     "iopub.execute_input": "2025-06-30T05:56:19.847987Z",
     "iopub.status.busy": "2025-06-30T05:56:19.847391Z",
     "iopub.status.idle": "2025-06-30T05:56:19.851051Z",
     "shell.execute_reply": "2025-06-30T05:56:19.850325Z"
    },
    "papermill": {
     "duration": 0.01138,
     "end_time": "2025-06-30T05:56:19.852466",
     "exception": false,
     "start_time": "2025-06-30T05:56:19.841086",
     "status": "completed"
    },
    "tags": []
   },
   "outputs": [],
   "source": [
    "#q3.a.hint()"
   ]
  },
  {
   "cell_type": "code",
   "execution_count": 12,
   "id": "ace4a8a6",
   "metadata": {
    "execution": {
     "iopub.execute_input": "2025-06-30T05:56:19.864573Z",
     "iopub.status.busy": "2025-06-30T05:56:19.864293Z",
     "iopub.status.idle": "2025-06-30T05:56:19.871696Z",
     "shell.execute_reply": "2025-06-30T05:56:19.870830Z"
    },
    "papermill": {
     "duration": 0.015024,
     "end_time": "2025-06-30T05:56:19.873058",
     "exception": false,
     "start_time": "2025-06-30T05:56:19.858034",
     "status": "completed"
    },
    "tags": []
   },
   "outputs": [
    {
     "data": {
      "application/javascript": [
       "parent.postMessage({\"jupyterEvent\": \"custom.exercise_interaction\", \"data\": {\"interactionType\": 3, \"questionType\": 4, \"questionId\": \"3.1_ArithmeticParensEasy\", \"learnToolsVersion\": \"0.3.5\", \"valueTowardsCompletion\": 0.0, \"failureMessage\": \"\", \"exceptionClass\": \"\", \"trace\": \"\", \"outcomeType\": 4}}, \"*\")"
      ],
      "text/plain": [
       "<IPython.core.display.Javascript object>"
      ]
     },
     "metadata": {},
     "output_type": "display_data"
    },
    {
     "data": {
      "text/markdown": [
       "<span style=\"color:#33cc99\">Solution:</span> \n",
       "```python\n",
       "(5 - 3) // 2\n",
       "```"
      ],
      "text/plain": [
       "Solution: \n",
       "```python\n",
       "(5 - 3) // 2\n",
       "```"
      ]
     },
     "metadata": {},
     "output_type": "display_data"
    }
   ],
   "source": [
    "# Check your answer (Run this code cell to receive credit!)\n",
    "q3.a.solution()"
   ]
  },
  {
   "cell_type": "markdown",
   "id": "59454f61",
   "metadata": {
    "papermill": {
     "duration": 0.005266,
     "end_time": "2025-06-30T05:56:19.883957",
     "exception": false,
     "start_time": "2025-06-30T05:56:19.878691",
     "status": "completed"
    },
    "tags": []
   },
   "source": [
    "# 3b.  <span title=\"A bit spicy\" style=\"color: darkgreen \">🌶️</span>\n",
    "\n",
    "<small>Questions, like this one, marked a spicy pepper are a bit harder.</small>\n",
    "\n",
    "Add parentheses to the following expression so that it evaluates to 0."
   ]
  },
  {
   "cell_type": "code",
   "execution_count": 13,
   "id": "d1335f30",
   "metadata": {
    "execution": {
     "iopub.execute_input": "2025-06-30T05:56:19.896275Z",
     "iopub.status.busy": "2025-06-30T05:56:19.895812Z",
     "iopub.status.idle": "2025-06-30T05:56:19.901583Z",
     "shell.execute_reply": "2025-06-30T05:56:19.900932Z"
    },
    "papermill": {
     "duration": 0.013667,
     "end_time": "2025-06-30T05:56:19.903049",
     "exception": false,
     "start_time": "2025-06-30T05:56:19.889382",
     "status": "completed"
    },
    "tags": []
   },
   "outputs": [
    {
     "data": {
      "text/plain": [
       "2"
      ]
     },
     "execution_count": 13,
     "metadata": {},
     "output_type": "execute_result"
    }
   ],
   "source": [
    "8 - 3 * 2 - 1 + 1"
   ]
  },
  {
   "cell_type": "code",
   "execution_count": 14,
   "id": "0c50df72",
   "metadata": {
    "execution": {
     "iopub.execute_input": "2025-06-30T05:56:19.915618Z",
     "iopub.status.busy": "2025-06-30T05:56:19.915313Z",
     "iopub.status.idle": "2025-06-30T05:56:19.919279Z",
     "shell.execute_reply": "2025-06-30T05:56:19.918471Z"
    },
    "papermill": {
     "duration": 0.012037,
     "end_time": "2025-06-30T05:56:19.920890",
     "exception": false,
     "start_time": "2025-06-30T05:56:19.908853",
     "status": "completed"
    },
    "tags": []
   },
   "outputs": [],
   "source": [
    "#q3.b.hint()"
   ]
  },
  {
   "cell_type": "code",
   "execution_count": 15,
   "id": "5bea47c4",
   "metadata": {
    "execution": {
     "iopub.execute_input": "2025-06-30T05:56:19.933720Z",
     "iopub.status.busy": "2025-06-30T05:56:19.933386Z",
     "iopub.status.idle": "2025-06-30T05:56:19.940150Z",
     "shell.execute_reply": "2025-06-30T05:56:19.939457Z"
    },
    "papermill": {
     "duration": 0.014581,
     "end_time": "2025-06-30T05:56:19.941379",
     "exception": false,
     "start_time": "2025-06-30T05:56:19.926798",
     "status": "completed"
    },
    "tags": []
   },
   "outputs": [
    {
     "data": {
      "application/javascript": [
       "parent.postMessage({\"jupyterEvent\": \"custom.exercise_interaction\", \"data\": {\"interactionType\": 3, \"questionType\": 4, \"questionId\": \"3.2_ArithmeticParensHard\", \"learnToolsVersion\": \"0.3.5\", \"valueTowardsCompletion\": 0.0, \"failureMessage\": \"\", \"exceptionClass\": \"\", \"trace\": \"\", \"outcomeType\": 4}}, \"*\")"
      ],
      "text/plain": [
       "<IPython.core.display.Javascript object>"
      ]
     },
     "metadata": {},
     "output_type": "display_data"
    },
    {
     "data": {
      "text/markdown": [
       "<span style=\"color:#33cc99\">Solution:</span> `(8 - 3) * (2 - (1 + 1))` is one solution. There may be others."
      ],
      "text/plain": [
       "Solution: `(8 - 3) * (2 - (1 + 1))` is one solution. There may be others."
      ]
     },
     "metadata": {},
     "output_type": "display_data"
    }
   ],
   "source": [
    "# Check your answer (Run this code cell to receive credit!)\n",
    "q3.b.solution()"
   ]
  },
  {
   "cell_type": "markdown",
   "id": "56d7e0f3",
   "metadata": {
    "papermill": {
     "duration": 0.005498,
     "end_time": "2025-06-30T05:56:19.953043",
     "exception": false,
     "start_time": "2025-06-30T05:56:19.947545",
     "status": "completed"
    },
    "tags": []
   },
   "source": [
    "<hr/>\n",
    "\n",
    "# 4. \n",
    "Alice, Bob and Carol have agreed to pool their Halloween candy and split it evenly among themselves.\n",
    "For the sake of their friendship, any candies left over will be smashed. For example, if they collectively\n",
    "bring home 91 candies, they'll take 30 each and smash 1.\n",
    "\n",
    "Write an arithmetic expression below to calculate how many candies they must smash for a given haul."
   ]
  },
  {
   "cell_type": "code",
   "execution_count": 16,
   "id": "1deceb6d",
   "metadata": {
    "execution": {
     "iopub.execute_input": "2025-06-30T05:56:19.965867Z",
     "iopub.status.busy": "2025-06-30T05:56:19.965490Z",
     "iopub.status.idle": "2025-06-30T05:56:19.973162Z",
     "shell.execute_reply": "2025-06-30T05:56:19.972254Z"
    },
    "papermill": {
     "duration": 0.015748,
     "end_time": "2025-06-30T05:56:19.974568",
     "exception": false,
     "start_time": "2025-06-30T05:56:19.958820",
     "status": "completed"
    },
    "tags": []
   },
   "outputs": [
    {
     "data": {
      "application/javascript": [
       "parent.postMessage({\"jupyterEvent\": \"custom.exercise_interaction\", \"data\": {\"outcomeType\": 1, \"valueTowardsCompletion\": 0.25, \"interactionType\": 1, \"questionType\": 1, \"questionId\": \"4_CandySplitting\", \"learnToolsVersion\": \"0.3.5\", \"failureMessage\": \"\", \"exceptionClass\": \"\", \"trace\": \"\"}}, \"*\")"
      ],
      "text/plain": [
       "<IPython.core.display.Javascript object>"
      ]
     },
     "metadata": {},
     "output_type": "display_data"
    },
    {
     "data": {
      "text/markdown": [
       "<span style=\"color:#33cc33\">Correct</span>"
      ],
      "text/plain": [
       "Correct"
      ]
     },
     "metadata": {},
     "output_type": "display_data"
    }
   ],
   "source": [
    "# Variables representing the number of candies collected by alice, bob, and carol\n",
    "alice_candies = 121\n",
    "bob_candies = 77\n",
    "carol_candies = 109\n",
    "\n",
    "# Your code goes here! Replace the right-hand side of this assignment with an expression\n",
    "# involving alice_candies, bob_candies, and carol_candies\n",
    "to_smash = 1\n",
    "\n",
    "# Check your answer\n",
    "q4.check()"
   ]
  },
  {
   "cell_type": "code",
   "execution_count": 17,
   "id": "af6b6634",
   "metadata": {
    "execution": {
     "iopub.execute_input": "2025-06-30T05:56:19.988552Z",
     "iopub.status.busy": "2025-06-30T05:56:19.987884Z",
     "iopub.status.idle": "2025-06-30T05:56:19.992172Z",
     "shell.execute_reply": "2025-06-30T05:56:19.991034Z"
    },
    "papermill": {
     "duration": 0.012927,
     "end_time": "2025-06-30T05:56:19.993751",
     "exception": false,
     "start_time": "2025-06-30T05:56:19.980824",
     "status": "completed"
    },
    "tags": []
   },
   "outputs": [],
   "source": [
    "#q4.hint()\n",
    "#q4.solution()"
   ]
  },
  {
   "cell_type": "markdown",
   "id": "d3354052",
   "metadata": {
    "papermill": {
     "duration": 0.006739,
     "end_time": "2025-06-30T05:56:20.006827",
     "exception": false,
     "start_time": "2025-06-30T05:56:20.000088",
     "status": "completed"
    },
    "tags": []
   },
   "source": [
    "# Keep Going\n",
    "\n",
    "Next up, you'll **[learn to write new functions and understand functions others write](https://www.kaggle.com/colinmorris/functions-and-getting-help)**. This will make you at least 10 times more productive as a Python programmer. "
   ]
  },
  {
   "cell_type": "markdown",
   "id": "e64be9bd",
   "metadata": {
    "papermill": {
     "duration": 0.005794,
     "end_time": "2025-06-30T05:56:20.018936",
     "exception": false,
     "start_time": "2025-06-30T05:56:20.013142",
     "status": "completed"
    },
    "tags": []
   },
   "source": [
    "---\n",
    "\n",
    "\n",
    "\n",
    "\n",
    "*Have questions or comments? Visit the [course discussion forum](https://www.kaggle.com/learn/python/discussion) to chat with other learners.*"
   ]
  }
 ],
 "metadata": {
  "kaggle": {
   "accelerator": "none",
   "dataSources": [],
   "isGpuEnabled": false,
   "isInternetEnabled": false,
   "language": "python",
   "sourceType": "notebook"
  },
  "kernelspec": {
   "display_name": "Python 3",
   "language": "python",
   "name": "python3"
  },
  "language_info": {
   "codemirror_mode": {
    "name": "ipython",
    "version": 3
   },
   "file_extension": ".py",
   "mimetype": "text/x-python",
   "name": "python",
   "nbconvert_exporter": "python",
   "pygments_lexer": "ipython3",
   "version": "3.11.11"
  },
  "learntools_metadata": {
   "lesson_index": 0,
   "type": "exercise"
  },
  "papermill": {
   "default_parameters": {},
   "duration": 7.82688,
   "end_time": "2025-06-30T05:56:20.544561",
   "environment_variables": {},
   "exception": null,
   "input_path": "__notebook__.ipynb",
   "output_path": "__notebook__.ipynb",
   "parameters": {},
   "start_time": "2025-06-30T05:56:12.717681",
   "version": "2.6.0"
  }
 },
 "nbformat": 4,
 "nbformat_minor": 5
}
